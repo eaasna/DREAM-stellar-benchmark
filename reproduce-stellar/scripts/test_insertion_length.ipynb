{
 "cells": [
  {
   "cell_type": "code",
   "execution_count": 34,
   "metadata": {},
   "outputs": [],
   "source": [
    "import pandas as pd\n",
    "\n",
    "er = \"0075\"\n",
    "rep = \"3\"\n",
    "\n",
    "# ------- INPUT ------- \n",
    "stellar_out_file = \"../stellar/rep\" + rep + \"_e\" + er + \".gff\"\n",
    "# stellar_out_file = snakemake.input.stellar\n",
    "\n",
    "truth_file = \"../ground_truth/rep\" + rep + \"_e\" + er + \".tsv\"\n",
    "# truth_file = snakemake.input.truth\n",
    "\n",
    "# ------- OUTPUT ------- \n",
    "evaluation_file = \"../evaluation/\" + rep + \"_e\" + er + \".tsv\"\n",
    "#evaluation_file = snakemake.output[0]"
   ]
  },
  {
   "cell_type": "code",
   "execution_count": 35,
   "metadata": {},
   "outputs": [],
   "source": [
    "# ------- preprocess stellar output ------- \n",
    "stellar_df = pd.read_csv(stellar_out_file, sep='\\t', header=None)\n",
    "stellar_df.columns = [\"DNAME\", \"stellar\", \"eps-matches\", \"DBEGIN\", \"DEND\", \"PERCID\", \"DSTRAND\", \".\", \"ATTRIBUTES\"]\n",
    "\n",
    "interesting_attributes = stellar_df['ATTRIBUTES'].str.split(';',expand=True).drop(labels = [0, 2, 3], axis = 1)\n",
    "interesting_attributes = interesting_attributes[1].str.split('=', expand=True).drop(labels=0, axis = 1)\n",
    "interesting_attributes = interesting_attributes[1].str.split(',', expand=True)\n",
    "interesting_attributes.columns = ['QBEGIN', 'QEND']\n",
    "\n",
    "stellar_df = stellar_df.drop(labels = [\"stellar\", \"eps-matches\", \"DSTRAND\", \"ATTRIBUTES\"], axis = 1)\n",
    "stellar_df = stellar_df.join(interesting_attributes)\n",
    "stellar_df[\"QBEGIN\"] = pd.to_numeric(stellar_df[\"QBEGIN\"])\n",
    "stellar_df[\"QEND\"] = pd.to_numeric(stellar_df[\"QEND\"])\n",
    "\n",
    "# convert stellar 1-based indices to 0-based\n",
    "stellar_df[\"QBEGIN\"] = stellar_df.apply(lambda row: row.QBEGIN - 1, axis=1)\n",
    "stellar_df[\"QEND\"] = stellar_df.apply(lambda row: row.QEND - 1, axis=1)\n",
    "\n",
    "sorted_stellar = stellar_df.sort_values('QBEGIN')\n",
    "sorted_stellar[\"length\"] = sorted_stellar.apply(lambda row: row.DEND - row.DBEGIN, axis=1)"
   ]
  },
  {
   "cell_type": "code",
   "execution_count": 36,
   "metadata": {},
   "outputs": [],
   "source": [
    "# ------- preprocess ground truth -------\n",
    "truth_df = pd.read_csv(truth_file, sep='\\t')\n",
    "truth_df['QEND'] =  truth_df.apply(lambda row: row.position + row.length, axis=1)\n",
    "truth_df.rename(columns = {'position':'QBEGIN'}, inplace = True)"
   ]
  },
  {
   "cell_type": "code",
   "execution_count": 37,
   "metadata": {},
   "outputs": [
    {
     "data": {
      "text/html": [
       "<div>\n",
       "<style scoped>\n",
       "    .dataframe tbody tr th:only-of-type {\n",
       "        vertical-align: middle;\n",
       "    }\n",
       "\n",
       "    .dataframe tbody tr th {\n",
       "        vertical-align: top;\n",
       "    }\n",
       "\n",
       "    .dataframe thead th {\n",
       "        text-align: right;\n",
       "    }\n",
       "</style>\n",
       "<table border=\"1\" class=\"dataframe\">\n",
       "  <thead>\n",
       "    <tr style=\"text-align: right;\">\n",
       "      <th></th>\n",
       "      <th>id</th>\n",
       "      <th>QBEGIN</th>\n",
       "      <th>length</th>\n",
       "      <th>QEND</th>\n",
       "    </tr>\n",
       "  </thead>\n",
       "  <tbody>\n",
       "    <tr>\n",
       "      <th>0</th>\n",
       "      <td>l200-33</td>\n",
       "      <td>1184</td>\n",
       "      <td>200</td>\n",
       "      <td>1384</td>\n",
       "    </tr>\n",
       "    <tr>\n",
       "      <th>1</th>\n",
       "      <td>l200-65</td>\n",
       "      <td>1556</td>\n",
       "      <td>200</td>\n",
       "      <td>1756</td>\n",
       "    </tr>\n",
       "    <tr>\n",
       "      <th>2</th>\n",
       "      <td>l200-15</td>\n",
       "      <td>8220</td>\n",
       "      <td>200</td>\n",
       "      <td>8420</td>\n",
       "    </tr>\n",
       "    <tr>\n",
       "      <th>3</th>\n",
       "      <td>l150-27</td>\n",
       "      <td>8960</td>\n",
       "      <td>150</td>\n",
       "      <td>9110</td>\n",
       "    </tr>\n",
       "    <tr>\n",
       "      <th>4</th>\n",
       "      <td>l50-93</td>\n",
       "      <td>13122</td>\n",
       "      <td>50</td>\n",
       "      <td>13172</td>\n",
       "    </tr>\n",
       "  </tbody>\n",
       "</table>\n",
       "</div>"
      ],
      "text/plain": [
       "        id  QBEGIN  length   QEND\n",
       "0  l200-33    1184     200   1384\n",
       "1  l200-65    1556     200   1756\n",
       "2  l200-15    8220     200   8420\n",
       "3  l150-27    8960     150   9110\n",
       "4   l50-93   13122      50  13172"
      ]
     },
     "execution_count": 37,
     "metadata": {},
     "output_type": "execute_result"
    }
   ],
   "source": [
    "truth_df.head()"
   ]
  },
  {
   "cell_type": "code",
   "execution_count": 45,
   "metadata": {},
   "outputs": [],
   "source": [
    "def evaluate_ground_truth(ground_truth):\n",
    "    # ------- evaluate results -------\n",
    "    total_match_count = len(ground_truth[\"id\"]) \n",
    "    true_match_count = 0\n",
    "    overlap_list = []\n",
    "    #min_overlap = snakemake.config[\"min_overlap\"]\n",
    "    min_overlap = 30\n",
    "    \n",
    "    for t_ind in range(total_match_count):\n",
    "        truth_range = range(ground_truth.iloc[t_ind]['QBEGIN'],ground_truth.iloc[t_ind]['QEND'])\n",
    "        for s_ind in range(len(sorted_stellar['DNAME'])): \n",
    "            stellar_range = range(sorted_stellar.iloc[s_ind]['QBEGIN'],sorted_stellar.iloc[s_ind]['QEND'])\n",
    "\n",
    "            # find overlap between two ranges\n",
    "            overlap_range = range(max(truth_range[0], stellar_range[0]), min(truth_range[-1], stellar_range[-1])+1)\n",
    "            if (len(overlap_range) >= min_overlap):\n",
    "                true_match_count += 1\n",
    "                overlap_list.append(len(overlap_range)) # TODO: might want to check the overlap lengths\n",
    "                break # move on to next local match once current one is verified to be true\n",
    "\n",
    "    missed = 1.0 - min(true_match_count/total_match_count, 1.0)\n",
    "    data = [[total_match_count, true_match_count, missed]]\n",
    "    out_df = pd.DataFrame(data, columns = [\"total_match_count\", \"true_match_count\", \"missed\"])\n",
    "\n",
    "    return out_df\n",
    "    #out_df.to_csv(evaluation_file, sep='\\t')"
   ]
  },
  {
   "cell_type": "code",
   "execution_count": 49,
   "metadata": {},
   "outputs": [
    {
     "name": "stdout",
     "output_type": "stream",
     "text": [
      "Stellar missed 0.76% of local matches of length 50bp.\n",
      "Stellar missed 0.0% of local matches of length 100bp.\n",
      "Stellar missed 0.0% of local matches of length 150bp.\n",
      "Stellar missed 0.0% of local matches of length 200bp.\n"
     ]
    }
   ],
   "source": [
    "for l in [50, 100, 150, 200]:\n",
    "    truth_l = truth_df[truth_df['length']==l]\n",
    "    out = evaluate_ground_truth(truth_l)\n",
    "    print(\"Stellar missed \" + str(out['missed'][0]) + \"% of local matches of length \" + str(l) + \"bp.\")"
   ]
  }
 ],
 "metadata": {
  "kernelspec": {
   "display_name": "Python 3",
   "language": "python",
   "name": "python3"
  },
  "language_info": {
   "codemirror_mode": {
    "name": "ipython",
    "version": 3
   },
   "file_extension": ".py",
   "mimetype": "text/x-python",
   "name": "python",
   "nbconvert_exporter": "python",
   "pygments_lexer": "ipython3",
   "version": "3.7.6"
  }
 },
 "nbformat": 4,
 "nbformat_minor": 4
}
