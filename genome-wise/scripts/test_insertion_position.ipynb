{
 "cells": [
  {
   "cell_type": "markdown",
   "metadata": {},
   "source": [
    "## Test insertions\n",
    "\n",
    "I have sampled local matches with different reads and error rates from `ref.fasta`. I have then inserted these local matches into `query/query.fasta` at random positions to create `query/with_insertions_{er}.fasta`. The file `ground_truth/{er}.tsv` shows the location of each local match in the `query/with_insertions_{er}.fasta`. \n",
    "\n",
    "This notebook tests if the ground truth file has the correct locations.  "
   ]
  },
  {
   "cell_type": "code",
   "execution_count": 1,
   "metadata": {},
   "outputs": [],
   "source": [
    "from Bio import SeqIO\n",
    "import pandas as pd\n",
    "import random"
   ]
  },
  {
   "cell_type": "markdown",
   "metadata": {},
   "source": [
    "Compare the original query file and the query with insertions. Check if matches from ground truth actually appear where they are supposed to."
   ]
  },
  {
   "cell_type": "code",
   "execution_count": 2,
   "metadata": {},
   "outputs": [],
   "source": [
    "rep = \"2\"\n",
    "er = \"01\"\n",
    "\n",
    "original_query_file = \"../query/one_line_\" + rep + \".fasta\"\n",
    "query_with_insertions_file = \"../query/with_insertions_\" + rep + \"_\" + er + \".fasta\"\n",
    "# the ground truth file shows positions in the query with insertions\n",
    "ground_truth_file = \"../ground_truth/\" + rep + \"_\" + er + \".tsv\"\n",
    "local_matches_file = \"../local_matches/\" + rep + \"_\" + er + \".fastq\""
   ]
  },
  {
   "cell_type": "code",
   "execution_count": 3,
   "metadata": {},
   "outputs": [],
   "source": [
    "original_query = list(SeqIO.parse(original_query_file, \"fasta\"))\n",
    "query_with_insertions = list(SeqIO.parse(query_with_insertions_file, \"fasta\"))\n",
    "local_matches = list(SeqIO.parse(local_matches_file, \"fastq\"))\n",
    "ground_truth = pd.read_csv(ground_truth_file, sep='\\t')"
   ]
  },
  {
   "cell_type": "markdown",
   "metadata": {},
   "source": [
    "Take a random local match from the local matches file. Find it's assigned position in the ground truth file and extract that location of the query with insertions file."
   ]
  },
  {
   "cell_type": "code",
   "execution_count": 4,
   "metadata": {},
   "outputs": [
    {
     "data": {
      "text/plain": [
       "SeqRecord(seq=Seq('ATTCGGTCAAGAACACCCACAGTAATTCCTGGGCGATACCAGACTGTACTAAAT...CCG', SingleLetterAlphabet()), id='l150-77', name='l150-77', description='l150-77', dbxrefs=[])"
      ]
     },
     "execution_count": 4,
     "metadata": {},
     "output_type": "execute_result"
    }
   ],
   "source": [
    "random.seed(42)\n",
    "random_insertion = random.choice(local_matches)\n",
    "random_insertion"
   ]
  },
  {
   "cell_type": "code",
   "execution_count": 5,
   "metadata": {},
   "outputs": [
    {
     "data": {
      "text/html": [
       "<div>\n",
       "<style scoped>\n",
       "    .dataframe tbody tr th:only-of-type {\n",
       "        vertical-align: middle;\n",
       "    }\n",
       "\n",
       "    .dataframe tbody tr th {\n",
       "        vertical-align: top;\n",
       "    }\n",
       "\n",
       "    .dataframe thead th {\n",
       "        text-align: right;\n",
       "    }\n",
       "</style>\n",
       "<table border=\"1\" class=\"dataframe\">\n",
       "  <thead>\n",
       "    <tr style=\"text-align: right;\">\n",
       "      <th></th>\n",
       "      <th>id</th>\n",
       "      <th>position</th>\n",
       "      <th>length</th>\n",
       "    </tr>\n",
       "  </thead>\n",
       "  <tbody>\n",
       "    <tr>\n",
       "      <th>482</th>\n",
       "      <td>l150-77</td>\n",
       "      <td>1073847</td>\n",
       "      <td>150</td>\n",
       "    </tr>\n",
       "  </tbody>\n",
       "</table>\n",
       "</div>"
      ],
      "text/plain": [
       "          id  position  length\n",
       "482  l150-77   1073847     150"
      ]
     },
     "execution_count": 5,
     "metadata": {},
     "output_type": "execute_result"
    }
   ],
   "source": [
    "ground_truth.loc[ground_truth['id'] == random_insertion.name]"
   ]
  },
  {
   "cell_type": "code",
   "execution_count": 6,
   "metadata": {},
   "outputs": [
    {
     "data": {
      "text/plain": [
       "1073847"
      ]
     },
     "execution_count": 6,
     "metadata": {},
     "output_type": "execute_result"
    }
   ],
   "source": [
    "position = ground_truth.loc[ground_truth['id'] == random_insertion.name][\"position\"].values[0]\n",
    "position"
   ]
  },
  {
   "cell_type": "code",
   "execution_count": 7,
   "metadata": {},
   "outputs": [
    {
     "data": {
      "text/plain": [
       "150"
      ]
     },
     "execution_count": 7,
     "metadata": {},
     "output_type": "execute_result"
    }
   ],
   "source": [
    "length = ground_truth.loc[ground_truth['id'] == random_insertion.name][\"length\"].values[0]\n",
    "length"
   ]
  },
  {
   "cell_type": "code",
   "execution_count": 8,
   "metadata": {},
   "outputs": [
    {
     "data": {
      "text/plain": [
       "'ATTCGGTCAAGAACACCCACAGTAATTCCTGGGCGATACCAGACTGTACTAAATCTACTGCTCCGTTTAGACAACATCACATCTTAGCTTGTTTTGAGCCGGCATCTCGCTACCACTCCGCTAATACCATTCTCTAGTCTTGTGGTGCCG'"
      ]
     },
     "execution_count": 8,
     "metadata": {},
     "output_type": "execute_result"
    }
   ],
   "source": [
    "original_insertion = str(random_insertion.seq)\n",
    "original_insertion"
   ]
  },
  {
   "cell_type": "code",
   "execution_count": 9,
   "metadata": {},
   "outputs": [
    {
     "data": {
      "text/plain": [
       "'ATTCGGTCAAGAACACCCACAGTAATTCCTGGGCGATACCAGACTGTACTAAATCTACTGCTCCGTTTAGACAACATCACATCTTAGCTTGTTTTGAGCCGGCATCTCGCTACCACTCCGCTAATACCATTCTCTAGTCTTGTGGTGCCG'"
      ]
     },
     "execution_count": 9,
     "metadata": {},
     "output_type": "execute_result"
    }
   ],
   "source": [
    "inserted_into_query = str(query_with_insertions[0].seq[position:position + length])\n",
    "inserted_into_query"
   ]
  },
  {
   "cell_type": "code",
   "execution_count": 10,
   "metadata": {},
   "outputs": [],
   "source": [
    "assert(original_insertion == inserted_into_query),\"Something went wrong with the insertion\""
   ]
  },
  {
   "cell_type": "markdown",
   "metadata": {},
   "source": [
    "### Check insertions\n",
    "\n",
    "Does the simulated local match actually appear at the position that is specified in the ground truth file"
   ]
  },
  {
   "cell_type": "code",
   "execution_count": 11,
   "metadata": {},
   "outputs": [],
   "source": [
    "def check_insertion_correctness():\n",
    "    random_insertion = random.choice(local_matches)\n",
    "    position = ground_truth.loc[ground_truth['id'] == random_insertion.name][\"position\"].values[0]\n",
    "    length = ground_truth.loc[ground_truth['id'] == random_insertion.name][\"length\"].values[0]\n",
    "    original_insertion = str(random_insertion.seq)\n",
    "    inserted_into_query = str(query_with_insertions[0].seq[position:position + length])\n",
    "    assert(original_insertion == inserted_into_query),\"Something went wrong with the insertion\"\n",
    "    print(\"Insertion \" + random_insertion.name + \" found at position \" + str(position))"
   ]
  },
  {
   "cell_type": "code",
   "execution_count": 12,
   "metadata": {},
   "outputs": [
    {
     "name": "stdout",
     "output_type": "stream",
     "text": [
      "Insertion l50-57 found at position 246564\n",
      "Insertion l50-12 found at position 48787\n",
      "Insertion l200-4 found at position 530173\n",
      "Insertion l100-15 found at position 405392\n",
      "Insertion l100-0 found at position 1105109\n",
      "Insertion l50-114 found at position 960345\n",
      "Insertion l50-71 found at position 915344\n",
      "Insertion l200-2 found at position 207000\n",
      "Insertion l50-52 found at position 157853\n",
      "Insertion l150-96 found at position 541964\n"
     ]
    }
   ],
   "source": [
    "for i in range(10):\n",
    "    check_insertion_correctness()"
   ]
  },
  {
   "cell_type": "markdown",
   "metadata": {},
   "source": [
    "### Check positions before first insertion\n",
    "\n",
    "Is the leading sequence (before the first insertion) equal for the original query and the query with insertions?"
   ]
  },
  {
   "cell_type": "code",
   "execution_count": 13,
   "metadata": {
    "scrolled": true
   },
   "outputs": [
    {
     "data": {
      "text/html": [
       "<div>\n",
       "<style scoped>\n",
       "    .dataframe tbody tr th:only-of-type {\n",
       "        vertical-align: middle;\n",
       "    }\n",
       "\n",
       "    .dataframe tbody tr th {\n",
       "        vertical-align: top;\n",
       "    }\n",
       "\n",
       "    .dataframe thead th {\n",
       "        text-align: right;\n",
       "    }\n",
       "</style>\n",
       "<table border=\"1\" class=\"dataframe\">\n",
       "  <thead>\n",
       "    <tr style=\"text-align: right;\">\n",
       "      <th></th>\n",
       "      <th>id</th>\n",
       "      <th>position</th>\n",
       "      <th>length</th>\n",
       "    </tr>\n",
       "  </thead>\n",
       "  <tbody>\n",
       "    <tr>\n",
       "      <th>0</th>\n",
       "      <td>l50-2</td>\n",
       "      <td>4509</td>\n",
       "      <td>50</td>\n",
       "    </tr>\n",
       "    <tr>\n",
       "      <th>1</th>\n",
       "      <td>l100-116</td>\n",
       "      <td>7855</td>\n",
       "      <td>100</td>\n",
       "    </tr>\n",
       "    <tr>\n",
       "      <th>2</th>\n",
       "      <td>l200-94</td>\n",
       "      <td>8027</td>\n",
       "      <td>200</td>\n",
       "    </tr>\n",
       "    <tr>\n",
       "      <th>3</th>\n",
       "      <td>l200-17</td>\n",
       "      <td>11641</td>\n",
       "      <td>200</td>\n",
       "    </tr>\n",
       "    <tr>\n",
       "      <th>4</th>\n",
       "      <td>l150-21</td>\n",
       "      <td>12246</td>\n",
       "      <td>150</td>\n",
       "    </tr>\n",
       "  </tbody>\n",
       "</table>\n",
       "</div>"
      ],
      "text/plain": [
       "         id  position  length\n",
       "0     l50-2      4509      50\n",
       "1  l100-116      7855     100\n",
       "2   l200-94      8027     200\n",
       "3   l200-17     11641     200\n",
       "4   l150-21     12246     150"
      ]
     },
     "execution_count": 13,
     "metadata": {},
     "output_type": "execute_result"
    }
   ],
   "source": [
    "ground_truth.head()"
   ]
  },
  {
   "cell_type": "code",
   "execution_count": 14,
   "metadata": {},
   "outputs": [
    {
     "data": {
      "text/plain": [
       "True"
      ]
     },
     "execution_count": 14,
     "metadata": {},
     "output_type": "execute_result"
    }
   ],
   "source": [
    "first_insertion_position = ground_truth.iloc[0]['position']\n",
    "\n",
    "str(original_query[0].seq[0:first_insertion_position]) == \\\n",
    "str(query_with_insertions[0].seq[0:first_insertion_position])"
   ]
  },
  {
   "cell_type": "markdown",
   "metadata": {},
   "source": [
    "### Check a sample of positions in the middle"
   ]
  },
  {
   "cell_type": "code",
   "execution_count": 15,
   "metadata": {},
   "outputs": [],
   "source": [
    "# get random positions from the ground truth list to verify them\n",
    "ran_ind_list = random.sample(range(len(ground_truth['id'])), 10)\n",
    "ran_ind_list.sort()"
   ]
  },
  {
   "cell_type": "code",
   "execution_count": 16,
   "metadata": {},
   "outputs": [
    {
     "name": "stdout",
     "output_type": "stream",
     "text": [
      "Verified downstream sequence for insertion l200-114\n",
      "Verified upstream sequence for insertion l200-114\n",
      "Verified downstream sequence for insertion l50-92\n",
      "Verified upstream sequence for insertion l50-92\n",
      "Verified downstream sequence for insertion l50-106\n",
      "Verified upstream sequence for insertion l50-106\n",
      "Verified downstream sequence for insertion l200-76\n",
      "Verified upstream sequence for insertion l200-76\n",
      "Verified downstream sequence for insertion l200-47\n",
      "Verified upstream sequence for insertion l200-47\n",
      "Verified downstream sequence for insertion l100-58\n",
      "Verified upstream sequence for insertion l100-58\n",
      "Verified downstream sequence for insertion l200-72\n",
      "Verified upstream sequence for insertion l200-72\n",
      "Verified downstream sequence for insertion l150-94\n",
      "Verified upstream sequence for insertion l150-94\n",
      "Verified downstream sequence for insertion l50-53\n",
      "Verified upstream sequence for insertion l50-53\n",
      "Verified downstream sequence for insertion l50-17\n",
      "Verified upstream sequence for insertion l50-17\n"
     ]
    }
   ],
   "source": [
    "for ind in ran_ind_list:\n",
    "    if (ind == 0):\n",
    "        continue\n",
    "    if (ind == len(ground_truth['id'])):\n",
    "        continue\n",
    "    # the ground truth positions represent indices in the query with insertions\n",
    "    previous_insert_position = ground_truth.iloc[ind-1]['position']\n",
    "    previous_insert_length = ground_truth.iloc[ind-1]['length']\n",
    "    downstream_bias = sum(ground_truth.truncate(after=(ind-1))['length'])\n",
    "\n",
    "    insert_position = ground_truth.iloc[ind]['position']\n",
    "    insert_length = ground_truth.iloc[ind]['length']\n",
    "    upstream_bias = sum(ground_truth.truncate(after=(ind))['length'])\n",
    "\n",
    "    next_insert_position = ground_truth.iloc[ind+1]['position']\n",
    "\n",
    "    original_query_downstream = str(original_query[0].seq[previous_insert_position - downstream_bias \\\n",
    "                                                          + previous_insert_length \\\n",
    "                                                          :insert_position - downstream_bias])\n",
    "\n",
    "    insertion_downstream = str(query_with_insertions[0].seq[previous_insert_position + \\\n",
    "                                                            previous_insert_length:insert_position])\n",
    "\n",
    "    if (original_query_downstream == insertion_downstream):\n",
    "        print(\"Verified downstream sequence for insertion \" + ground_truth.iloc[ind]['id'])\n",
    "    else:\n",
    "        print(\"Incorrect downstream \" + ground_truth.iloc[ind]['id'])\n",
    "\n",
    "    original_query_upstream = str(original_query[0].seq[insert_position - upstream_bias \\\n",
    "                                                        + insert_length \\\n",
    "                                                        :next_insert_position - upstream_bias])\n",
    "    insertion_upstream = str(query_with_insertions[0].seq[insert_position + insert_length:next_insert_position])\n",
    "\n",
    "    if (original_query_upstream == insertion_upstream):\n",
    "        print(\"Verified upstream sequence for insertion \" + ground_truth.iloc[ind]['id'])\n",
    "    else:\n",
    "        print(\"Incorrect upstream \" + ground_truth.iloc[ind]['id'])\n",
    "    "
   ]
  },
  {
   "cell_type": "markdown",
   "metadata": {},
   "source": [
    "### Check positions after last insertion\n",
    "\n",
    "Is the trailing sequence (after the last insertion) equal for the original query and the query with insertions?"
   ]
  },
  {
   "cell_type": "code",
   "execution_count": 17,
   "metadata": {},
   "outputs": [
    {
     "data": {
      "text/html": [
       "<div>\n",
       "<style scoped>\n",
       "    .dataframe tbody tr th:only-of-type {\n",
       "        vertical-align: middle;\n",
       "    }\n",
       "\n",
       "    .dataframe tbody tr th {\n",
       "        vertical-align: top;\n",
       "    }\n",
       "\n",
       "    .dataframe thead th {\n",
       "        text-align: right;\n",
       "    }\n",
       "</style>\n",
       "<table border=\"1\" class=\"dataframe\">\n",
       "  <thead>\n",
       "    <tr style=\"text-align: right;\">\n",
       "      <th></th>\n",
       "      <th>id</th>\n",
       "      <th>position</th>\n",
       "      <th>length</th>\n",
       "    </tr>\n",
       "  </thead>\n",
       "  <tbody>\n",
       "    <tr>\n",
       "      <th>495</th>\n",
       "      <td>l150-9</td>\n",
       "      <td>1094343</td>\n",
       "      <td>150</td>\n",
       "    </tr>\n",
       "    <tr>\n",
       "      <th>496</th>\n",
       "      <td>l50-93</td>\n",
       "      <td>1096555</td>\n",
       "      <td>50</td>\n",
       "    </tr>\n",
       "    <tr>\n",
       "      <th>497</th>\n",
       "      <td>l50-113</td>\n",
       "      <td>1097646</td>\n",
       "      <td>50</td>\n",
       "    </tr>\n",
       "    <tr>\n",
       "      <th>498</th>\n",
       "      <td>l200-120</td>\n",
       "      <td>1103602</td>\n",
       "      <td>200</td>\n",
       "    </tr>\n",
       "    <tr>\n",
       "      <th>499</th>\n",
       "      <td>l100-0</td>\n",
       "      <td>1105109</td>\n",
       "      <td>100</td>\n",
       "    </tr>\n",
       "  </tbody>\n",
       "</table>\n",
       "</div>"
      ],
      "text/plain": [
       "           id  position  length\n",
       "495    l150-9   1094343     150\n",
       "496    l50-93   1096555      50\n",
       "497   l50-113   1097646      50\n",
       "498  l200-120   1103602     200\n",
       "499    l100-0   1105109     100"
      ]
     },
     "execution_count": 17,
     "metadata": {},
     "output_type": "execute_result"
    }
   ],
   "source": [
    "ground_truth.tail()"
   ]
  },
  {
   "cell_type": "code",
   "execution_count": 18,
   "metadata": {},
   "outputs": [
    {
     "data": {
      "text/plain": [
       "True"
      ]
     },
     "execution_count": 18,
     "metadata": {},
     "output_type": "execute_result"
    }
   ],
   "source": [
    "last_insertion_position = ground_truth.iloc[-1]['position']\n",
    "last_insertion_length = ground_truth.iloc[-1]['length']\n",
    "bias = sum(ground_truth[\"length\"]) - last_insertion_length\n",
    "\n",
    "str(original_query[0].seq[last_insertion_position - bias:]) == \\\n",
    "str(query_with_insertions[0].seq[last_insertion_position + last_insertion_length:])"
   ]
  }
 ],
 "metadata": {
  "kernelspec": {
   "display_name": "Python 3",
   "language": "python",
   "name": "python3"
  },
  "language_info": {
   "codemirror_mode": {
    "name": "ipython",
    "version": 3
   },
   "file_extension": ".py",
   "mimetype": "text/x-python",
   "name": "python",
   "nbconvert_exporter": "python",
   "pygments_lexer": "ipython3",
   "version": "3.7.6"
  }
 },
 "nbformat": 4,
 "nbformat_minor": 4
}
