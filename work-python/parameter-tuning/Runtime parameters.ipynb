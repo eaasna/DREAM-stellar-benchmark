{
 "cells": [
  {
   "cell_type": "markdown",
   "id": "41943c8a-2ed6-4dd4-b42f-75b84783d347",
   "metadata": {},
   "source": [
    "# Parameters for fast search\n",
    "\n",
    "Mouse vs fly reference genomes"
   ]
  },
  {
   "cell_type": "code",
   "execution_count": 2,
   "id": "4fea1a92-09a5-467b-a3a7-a08ae7a1da96",
   "metadata": {},
   "outputs": [],
   "source": [
    "import pandas as pd\n",
    "import numpy as np"
   ]
  },
  {
   "cell_type": "code",
   "execution_count": 3,
   "id": "88f77167-10f7-42a9-a42e-150049c9f942",
   "metadata": {},
   "outputs": [
    {
     "data": {
      "text/html": [
       "<div>\n",
       "<style scoped>\n",
       "    .dataframe tbody tr th:only-of-type {\n",
       "        vertical-align: middle;\n",
       "    }\n",
       "\n",
       "    .dataframe tbody tr th {\n",
       "        vertical-align: top;\n",
       "    }\n",
       "\n",
       "    .dataframe thead th {\n",
       "        text-align: right;\n",
       "    }\n",
       "</style>\n",
       "<table border=\"1\" class=\"dataframe\">\n",
       "  <thead>\n",
       "    <tr style=\"text-align: right;\">\n",
       "      <th></th>\n",
       "      <th>time</th>\n",
       "      <th>mem</th>\n",
       "      <th>error-code</th>\n",
       "      <th>command</th>\n",
       "      <th>bins</th>\n",
       "      <th>k</th>\n",
       "      <th>query-seg</th>\n",
       "      <th>min-len</th>\n",
       "      <th>er</th>\n",
       "      <th>thresh</th>\n",
       "      <th>cmin</th>\n",
       "      <th>cmax</th>\n",
       "      <th>ibf-size</th>\n",
       "      <th>matches</th>\n",
       "      <th>repeats</th>\n",
       "    </tr>\n",
       "  </thead>\n",
       "  <tbody>\n",
       "    <tr>\n",
       "      <th>0</th>\n",
       "      <td>101.64</td>\n",
       "      <td>27338368</td>\n",
       "      <td>0</td>\n",
       "      <td>valik-search</td>\n",
       "      <td>1024</td>\n",
       "      <td>19</td>\n",
       "      <td>30000</td>\n",
       "      <td>150</td>\n",
       "      <td>0.025</td>\n",
       "      <td>20</td>\n",
       "      <td>0</td>\n",
       "      <td>40</td>\n",
       "      <td>14G</td>\n",
       "      <td>19185</td>\n",
       "      <td>503</td>\n",
       "    </tr>\n",
       "    <tr>\n",
       "      <th>1</th>\n",
       "      <td>56.28</td>\n",
       "      <td>23905852</td>\n",
       "      <td>0</td>\n",
       "      <td>valik-search</td>\n",
       "      <td>1024</td>\n",
       "      <td>19</td>\n",
       "      <td>30000</td>\n",
       "      <td>150</td>\n",
       "      <td>0.025</td>\n",
       "      <td>30</td>\n",
       "      <td>0</td>\n",
       "      <td>40</td>\n",
       "      <td>14G</td>\n",
       "      <td>15074</td>\n",
       "      <td>112</td>\n",
       "    </tr>\n",
       "    <tr>\n",
       "      <th>2</th>\n",
       "      <td>46.06</td>\n",
       "      <td>21506668</td>\n",
       "      <td>0</td>\n",
       "      <td>valik-search</td>\n",
       "      <td>1024</td>\n",
       "      <td>19</td>\n",
       "      <td>30000</td>\n",
       "      <td>150</td>\n",
       "      <td>0.025</td>\n",
       "      <td>40</td>\n",
       "      <td>0</td>\n",
       "      <td>40</td>\n",
       "      <td>14G</td>\n",
       "      <td>13260</td>\n",
       "      <td>45</td>\n",
       "    </tr>\n",
       "    <tr>\n",
       "      <th>3</th>\n",
       "      <td>41.10</td>\n",
       "      <td>21896776</td>\n",
       "      <td>0</td>\n",
       "      <td>valik-search</td>\n",
       "      <td>1024</td>\n",
       "      <td>19</td>\n",
       "      <td>30000</td>\n",
       "      <td>150</td>\n",
       "      <td>0.025</td>\n",
       "      <td>50</td>\n",
       "      <td>0</td>\n",
       "      <td>40</td>\n",
       "      <td>14G</td>\n",
       "      <td>13035</td>\n",
       "      <td>22</td>\n",
       "    </tr>\n",
       "    <tr>\n",
       "      <th>4</th>\n",
       "      <td>37.81</td>\n",
       "      <td>21582872</td>\n",
       "      <td>0</td>\n",
       "      <td>valik-search</td>\n",
       "      <td>1024</td>\n",
       "      <td>19</td>\n",
       "      <td>30000</td>\n",
       "      <td>150</td>\n",
       "      <td>0.025</td>\n",
       "      <td>60</td>\n",
       "      <td>0</td>\n",
       "      <td>40</td>\n",
       "      <td>14G</td>\n",
       "      <td>12871</td>\n",
       "      <td>16</td>\n",
       "    </tr>\n",
       "  </tbody>\n",
       "</table>\n",
       "</div>"
      ],
      "text/plain": [
       "     time       mem  error-code       command  bins   k  query-seg  min-len  \\\n",
       "0  101.64  27338368           0  valik-search  1024  19      30000      150   \n",
       "1   56.28  23905852           0  valik-search  1024  19      30000      150   \n",
       "2   46.06  21506668           0  valik-search  1024  19      30000      150   \n",
       "3   41.10  21896776           0  valik-search  1024  19      30000      150   \n",
       "4   37.81  21582872           0  valik-search  1024  19      30000      150   \n",
       "\n",
       "      er  thresh  cmin  cmax ibf-size  matches  repeats  \n",
       "0  0.025      20     0    40      14G    19185      503  \n",
       "1  0.025      30     0    40      14G    15074      112  \n",
       "2  0.025      40     0    40      14G    13260       45  \n",
       "3  0.025      50     0    40      14G    13035       22  \n",
       "4  0.025      60     0    40      14G    12871       16  "
      ]
     },
     "execution_count": 3,
     "metadata": {},
     "output_type": "execute_result"
    }
   ],
   "source": [
    "df = pd.read_csv('parameter_tuning.time', sep='\\t')\n",
    "df.head()"
   ]
  },
  {
   "cell_type": "code",
   "execution_count": 6,
   "id": "30d30513-40e1-4990-89e8-35388a363fcd",
   "metadata": {},
   "outputs": [
    {
     "data": {
      "text/html": [
       "<div>\n",
       "<style scoped>\n",
       "    .dataframe tbody tr th:only-of-type {\n",
       "        vertical-align: middle;\n",
       "    }\n",
       "\n",
       "    .dataframe tbody tr th {\n",
       "        vertical-align: top;\n",
       "    }\n",
       "\n",
       "    .dataframe thead th {\n",
       "        text-align: right;\n",
       "    }\n",
       "</style>\n",
       "<table border=\"1\" class=\"dataframe\">\n",
       "  <thead>\n",
       "    <tr style=\"text-align: right;\">\n",
       "      <th></th>\n",
       "      <th>time</th>\n",
       "      <th>mem</th>\n",
       "      <th>k</th>\n",
       "      <th>query-seg</th>\n",
       "      <th>thresh</th>\n",
       "      <th>cmin</th>\n",
       "      <th>cmax</th>\n",
       "      <th>ibf-size</th>\n",
       "      <th>matches</th>\n",
       "      <th>repeats</th>\n",
       "    </tr>\n",
       "  </thead>\n",
       "  <tbody>\n",
       "    <tr>\n",
       "      <th>0</th>\n",
       "      <td>101.64</td>\n",
       "      <td>27338368</td>\n",
       "      <td>19</td>\n",
       "      <td>30000</td>\n",
       "      <td>20</td>\n",
       "      <td>0</td>\n",
       "      <td>40</td>\n",
       "      <td>14</td>\n",
       "      <td>19185</td>\n",
       "      <td>503</td>\n",
       "    </tr>\n",
       "    <tr>\n",
       "      <th>1</th>\n",
       "      <td>56.28</td>\n",
       "      <td>23905852</td>\n",
       "      <td>19</td>\n",
       "      <td>30000</td>\n",
       "      <td>30</td>\n",
       "      <td>0</td>\n",
       "      <td>40</td>\n",
       "      <td>14</td>\n",
       "      <td>15074</td>\n",
       "      <td>112</td>\n",
       "    </tr>\n",
       "    <tr>\n",
       "      <th>2</th>\n",
       "      <td>46.06</td>\n",
       "      <td>21506668</td>\n",
       "      <td>19</td>\n",
       "      <td>30000</td>\n",
       "      <td>40</td>\n",
       "      <td>0</td>\n",
       "      <td>40</td>\n",
       "      <td>14</td>\n",
       "      <td>13260</td>\n",
       "      <td>45</td>\n",
       "    </tr>\n",
       "    <tr>\n",
       "      <th>3</th>\n",
       "      <td>41.10</td>\n",
       "      <td>21896776</td>\n",
       "      <td>19</td>\n",
       "      <td>30000</td>\n",
       "      <td>50</td>\n",
       "      <td>0</td>\n",
       "      <td>40</td>\n",
       "      <td>14</td>\n",
       "      <td>13035</td>\n",
       "      <td>22</td>\n",
       "    </tr>\n",
       "    <tr>\n",
       "      <th>4</th>\n",
       "      <td>37.81</td>\n",
       "      <td>21582872</td>\n",
       "      <td>19</td>\n",
       "      <td>30000</td>\n",
       "      <td>60</td>\n",
       "      <td>0</td>\n",
       "      <td>40</td>\n",
       "      <td>14</td>\n",
       "      <td>12871</td>\n",
       "      <td>16</td>\n",
       "    </tr>\n",
       "  </tbody>\n",
       "</table>\n",
       "</div>"
      ],
      "text/plain": [
       "     time       mem   k  query-seg  thresh  cmin  cmax ibf-size  matches  \\\n",
       "0  101.64  27338368  19      30000      20     0    40       14    19185   \n",
       "1   56.28  23905852  19      30000      30     0    40       14    15074   \n",
       "2   46.06  21506668  19      30000      40     0    40       14    13260   \n",
       "3   41.10  21896776  19      30000      50     0    40       14    13035   \n",
       "4   37.81  21582872  19      30000      60     0    40       14    12871   \n",
       "\n",
       "   repeats  \n",
       "0      503  \n",
       "1      112  \n",
       "2       45  \n",
       "3       22  \n",
       "4       16  "
      ]
     },
     "execution_count": 6,
     "metadata": {},
     "output_type": "execute_result"
    }
   ],
   "source": [
    "df[\"ibf-size\"] = df[\"ibf-size\"].str.rstrip(\"G\")\n",
    "df[\"ibf-size\"] = df[\"ibf-size\"].str.replace(\",\", \".\")\n",
    "pd.to_numeric(df[\"ibf-size\"])\n",
    "df = df.drop(axis = 1, columns = [\"error-code\", \"command\", \"bins\", \"er\", \"min-len\"])\n",
    "df.head()"
   ]
  },
  {
   "cell_type": "code",
   "execution_count": 7,
   "id": "cb7d4af6-1e5e-46fd-ac7c-839f240866aa",
   "metadata": {},
   "outputs": [
    {
     "data": {
      "text/html": [
       "<div>\n",
       "<style scoped>\n",
       "    .dataframe tbody tr th:only-of-type {\n",
       "        vertical-align: middle;\n",
       "    }\n",
       "\n",
       "    .dataframe tbody tr th {\n",
       "        vertical-align: top;\n",
       "    }\n",
       "\n",
       "    .dataframe thead th {\n",
       "        text-align: right;\n",
       "    }\n",
       "</style>\n",
       "<table border=\"1\" class=\"dataframe\">\n",
       "  <thead>\n",
       "    <tr style=\"text-align: right;\">\n",
       "      <th></th>\n",
       "      <th>time</th>\n",
       "      <th>mem</th>\n",
       "      <th>k</th>\n",
       "      <th>query-seg</th>\n",
       "      <th>thresh</th>\n",
       "      <th>cmin</th>\n",
       "      <th>cmax</th>\n",
       "      <th>ibf-size</th>\n",
       "      <th>matches</th>\n",
       "      <th>repeats</th>\n",
       "    </tr>\n",
       "  </thead>\n",
       "  <tbody>\n",
       "    <tr>\n",
       "      <th>276</th>\n",
       "      <td>77.89</td>\n",
       "      <td>10856688</td>\n",
       "      <td>21</td>\n",
       "      <td>20000</td>\n",
       "      <td>30</td>\n",
       "      <td>1</td>\n",
       "      <td>250</td>\n",
       "      <td>3.3</td>\n",
       "      <td>41496</td>\n",
       "      <td>138</td>\n",
       "    </tr>\n",
       "  </tbody>\n",
       "</table>\n",
       "</div>"
      ],
      "text/plain": [
       "      time       mem   k  query-seg  thresh  cmin  cmax ibf-size  matches  \\\n",
       "276  77.89  10856688  21      20000      30     1   250      3.3    41496   \n",
       "\n",
       "     repeats  \n",
       "276      138  "
      ]
     },
     "execution_count": 7,
     "metadata": {},
     "output_type": "execute_result"
    }
   ],
   "source": [
    "df[df[\"matches\"] == np.max(df[\"matches\"])]"
   ]
  },
  {
   "cell_type": "code",
   "execution_count": 16,
   "id": "f3ae3a4c-e641-49b2-bc0d-bfe1ca8bbe08",
   "metadata": {},
   "outputs": [
    {
     "data": {
      "text/plain": [
       "30705.05"
      ]
     },
     "execution_count": 16,
     "metadata": {},
     "output_type": "execute_result"
    }
   ],
   "source": [
    "np.mean(df[df[\"cmax\"] > 200][\"matches\"])"
   ]
  },
  {
   "cell_type": "code",
   "execution_count": 18,
   "id": "ce2f0e35-f88f-446e-ad3b-87c07132a56d",
   "metadata": {},
   "outputs": [
    {
     "data": {
      "text/html": [
       "<div>\n",
       "<style scoped>\n",
       "    .dataframe tbody tr th:only-of-type {\n",
       "        vertical-align: middle;\n",
       "    }\n",
       "\n",
       "    .dataframe tbody tr th {\n",
       "        vertical-align: top;\n",
       "    }\n",
       "\n",
       "    .dataframe thead th {\n",
       "        text-align: right;\n",
       "    }\n",
       "</style>\n",
       "<table border=\"1\" class=\"dataframe\">\n",
       "  <thead>\n",
       "    <tr style=\"text-align: right;\">\n",
       "      <th></th>\n",
       "      <th>time</th>\n",
       "      <th>mem</th>\n",
       "      <th>k</th>\n",
       "      <th>query-seg</th>\n",
       "      <th>thresh</th>\n",
       "      <th>cmin</th>\n",
       "      <th>cmax</th>\n",
       "      <th>ibf-size</th>\n",
       "      <th>matches</th>\n",
       "      <th>repeats</th>\n",
       "    </tr>\n",
       "  </thead>\n",
       "  <tbody>\n",
       "    <tr>\n",
       "      <th>88</th>\n",
       "      <td>41.50</td>\n",
       "      <td>21363624</td>\n",
       "      <td>19</td>\n",
       "      <td>20000</td>\n",
       "      <td>50</td>\n",
       "      <td>0</td>\n",
       "      <td>40</td>\n",
       "      <td>14</td>\n",
       "      <td>13378</td>\n",
       "      <td>21</td>\n",
       "    </tr>\n",
       "    <tr>\n",
       "      <th>98</th>\n",
       "      <td>42.86</td>\n",
       "      <td>21346332</td>\n",
       "      <td>19</td>\n",
       "      <td>20000</td>\n",
       "      <td>50</td>\n",
       "      <td>0</td>\n",
       "      <td>50</td>\n",
       "      <td>14</td>\n",
       "      <td>14292</td>\n",
       "      <td>43</td>\n",
       "    </tr>\n",
       "    <tr>\n",
       "      <th>108</th>\n",
       "      <td>47.19</td>\n",
       "      <td>21456940</td>\n",
       "      <td>19</td>\n",
       "      <td>20000</td>\n",
       "      <td>50</td>\n",
       "      <td>0</td>\n",
       "      <td>60</td>\n",
       "      <td>14</td>\n",
       "      <td>19533</td>\n",
       "      <td>51</td>\n",
       "    </tr>\n",
       "    <tr>\n",
       "      <th>118</th>\n",
       "      <td>47.81</td>\n",
       "      <td>21329980</td>\n",
       "      <td>19</td>\n",
       "      <td>20000</td>\n",
       "      <td>50</td>\n",
       "      <td>0</td>\n",
       "      <td>70</td>\n",
       "      <td>14</td>\n",
       "      <td>23416</td>\n",
       "      <td>82</td>\n",
       "    </tr>\n",
       "    <tr>\n",
       "      <th>128</th>\n",
       "      <td>64.82</td>\n",
       "      <td>21700008</td>\n",
       "      <td>19</td>\n",
       "      <td>20000</td>\n",
       "      <td>50</td>\n",
       "      <td>0</td>\n",
       "      <td>250</td>\n",
       "      <td>14</td>\n",
       "      <td>29251</td>\n",
       "      <td>101</td>\n",
       "    </tr>\n",
       "    <tr>\n",
       "      <th>188</th>\n",
       "      <td>40.57</td>\n",
       "      <td>21536576</td>\n",
       "      <td>21</td>\n",
       "      <td>20000</td>\n",
       "      <td>50</td>\n",
       "      <td>0</td>\n",
       "      <td>40</td>\n",
       "      <td>14</td>\n",
       "      <td>10794</td>\n",
       "      <td>10</td>\n",
       "    </tr>\n",
       "    <tr>\n",
       "      <th>198</th>\n",
       "      <td>42.75</td>\n",
       "      <td>21228928</td>\n",
       "      <td>21</td>\n",
       "      <td>20000</td>\n",
       "      <td>50</td>\n",
       "      <td>0</td>\n",
       "      <td>50</td>\n",
       "      <td>14</td>\n",
       "      <td>14963</td>\n",
       "      <td>30</td>\n",
       "    </tr>\n",
       "    <tr>\n",
       "      <th>208</th>\n",
       "      <td>42.39</td>\n",
       "      <td>21176384</td>\n",
       "      <td>21</td>\n",
       "      <td>20000</td>\n",
       "      <td>50</td>\n",
       "      <td>0</td>\n",
       "      <td>60</td>\n",
       "      <td>14</td>\n",
       "      <td>17910</td>\n",
       "      <td>68</td>\n",
       "    </tr>\n",
       "    <tr>\n",
       "      <th>218</th>\n",
       "      <td>44.27</td>\n",
       "      <td>21202580</td>\n",
       "      <td>21</td>\n",
       "      <td>20000</td>\n",
       "      <td>50</td>\n",
       "      <td>0</td>\n",
       "      <td>70</td>\n",
       "      <td>14</td>\n",
       "      <td>20245</td>\n",
       "      <td>69</td>\n",
       "    </tr>\n",
       "    <tr>\n",
       "      <th>228</th>\n",
       "      <td>61.69</td>\n",
       "      <td>21699796</td>\n",
       "      <td>21</td>\n",
       "      <td>20000</td>\n",
       "      <td>50</td>\n",
       "      <td>0</td>\n",
       "      <td>250</td>\n",
       "      <td>14</td>\n",
       "      <td>27720</td>\n",
       "      <td>82</td>\n",
       "    </tr>\n",
       "  </tbody>\n",
       "</table>\n",
       "</div>"
      ],
      "text/plain": [
       "      time       mem   k  query-seg  thresh  cmin  cmax ibf-size  matches  \\\n",
       "88   41.50  21363624  19      20000      50     0    40       14    13378   \n",
       "98   42.86  21346332  19      20000      50     0    50       14    14292   \n",
       "108  47.19  21456940  19      20000      50     0    60       14    19533   \n",
       "118  47.81  21329980  19      20000      50     0    70       14    23416   \n",
       "128  64.82  21700008  19      20000      50     0   250       14    29251   \n",
       "188  40.57  21536576  21      20000      50     0    40       14    10794   \n",
       "198  42.75  21228928  21      20000      50     0    50       14    14963   \n",
       "208  42.39  21176384  21      20000      50     0    60       14    17910   \n",
       "218  44.27  21202580  21      20000      50     0    70       14    20245   \n",
       "228  61.69  21699796  21      20000      50     0   250       14    27720   \n",
       "\n",
       "     repeats  \n",
       "88        21  \n",
       "98        43  \n",
       "108       51  \n",
       "118       82  \n",
       "128      101  \n",
       "188       10  \n",
       "198       30  \n",
       "208       68  \n",
       "218       69  \n",
       "228       82  "
      ]
     },
     "execution_count": 18,
     "metadata": {},
     "output_type": "execute_result"
    }
   ],
   "source": [
    "df[(df[\"thresh\"] == 50) & (df[\"cmin\"]==0) & (df[\"query-seg\"]==20000)]"
   ]
  },
  {
   "cell_type": "code",
   "execution_count": 6,
   "id": "c23356d1-d374-458b-897a-4fb7444e7d08",
   "metadata": {},
   "outputs": [],
   "source": [
    "def find_corr_for(corr_base):\n",
    "    print(\"Correlation of \" + corr_base + \" with\")\n",
    "    for col in df.drop(axis = 1, columns = [corr_base]).columns:\n",
    "        print(\"\\t\" + col + \"\\t\" + str(round(df[corr_base].corr(df[col]), 3)))    "
   ]
  },
  {
   "cell_type": "code",
   "execution_count": 7,
   "id": "b2d1fb48-d0b6-476c-b4c2-e38433a3aab8",
   "metadata": {},
   "outputs": [
    {
     "name": "stdout",
     "output_type": "stream",
     "text": [
      "Correlation of time with\n",
      "\tmem\t0.624\n",
      "\tk\t-0.085\n",
      "\tquery-seg\t-0.192\n",
      "\tthresh\t-0.726\n",
      "\tcmin\t-0.304\n",
      "\tcmax\t0.362\n",
      "\tibf-size\t0.304\n",
      "\tmatches\t0.531\n",
      "\trepeats\t0.909\n"
     ]
    }
   ],
   "source": [
    "find_corr_for(\"time\")"
   ]
  },
  {
   "cell_type": "code",
   "execution_count": 8,
   "id": "595f837d-212f-41d5-8a84-54919e8021d2",
   "metadata": {},
   "outputs": [
    {
     "name": "stdout",
     "output_type": "stream",
     "text": [
      "Correlation of matches with\n",
      "\ttime\t0.531\n",
      "\tmem\t0.197\n",
      "\tk\t0.044\n",
      "\tquery-seg\t-0.016\n",
      "\tthresh\t-0.378\n",
      "\tcmin\t-0.112\n",
      "\tcmax\t0.608\n",
      "\tibf-size\t0.112\n",
      "\trepeats\t0.4\n"
     ]
    }
   ],
   "source": [
    "find_corr_for(\"matches\")"
   ]
  },
  {
   "cell_type": "code",
   "execution_count": 9,
   "id": "7b0d9f6f-c1cc-4b46-9371-8043dda18501",
   "metadata": {},
   "outputs": [
    {
     "name": "stdout",
     "output_type": "stream",
     "text": [
      "Correlation of repeats with\n",
      "\ttime\t0.909\n",
      "\tmem\t0.544\n",
      "\tk\t-0.157\n",
      "\tquery-seg\t-0.01\n",
      "\tthresh\t-0.656\n",
      "\tcmin\t-0.212\n",
      "\tcmax\t0.238\n",
      "\tibf-size\t0.211\n",
      "\tmatches\t0.4\n"
     ]
    }
   ],
   "source": [
    "find_corr_for(\"repeats\")"
   ]
  },
  {
   "cell_type": "code",
   "execution_count": 10,
   "id": "7cbd355b-a0c4-45af-8e70-39d8ba05f656",
   "metadata": {},
   "outputs": [
    {
     "data": {
      "text/plain": [
       "45.84767857142857"
      ]
     },
     "execution_count": 10,
     "metadata": {},
     "output_type": "execute_result"
    }
   ],
   "source": [
    "df_all_kmers = df[(df[\"cmin\"] == 0) & (df[\"thresh\"] >= 50)]\n",
    "np.mean(df_all_kmers[\"time\"])"
   ]
  },
  {
   "cell_type": "code",
   "execution_count": 11,
   "id": "baaaf0ba-b53c-47da-9cfc-6c175e8bfab6",
   "metadata": {},
   "outputs": [
    {
     "data": {
      "text/plain": [
       "66.83271428571429"
      ]
     },
     "execution_count": 11,
     "metadata": {},
     "output_type": "execute_result"
    }
   ],
   "source": [
    "df_all_kmers = df[df[\"cmin\"] == 0]\n",
    "np.mean(df_all_kmers[\"time\"])"
   ]
  },
  {
   "cell_type": "code",
   "execution_count": 15,
   "id": "ce63a20f-8457-41e2-939c-d8e26b6d70c2",
   "metadata": {},
   "outputs": [
    {
     "data": {
      "text/plain": [
       "22643.22142857143"
      ]
     },
     "execution_count": 15,
     "metadata": {},
     "output_type": "execute_result"
    }
   ],
   "source": [
    "np.mean(df_all_kmers[\"matches\"])"
   ]
  },
  {
   "cell_type": "code",
   "execution_count": 12,
   "id": "43c7736d-f889-4a31-8f9c-fa3ee00a3ec4",
   "metadata": {},
   "outputs": [
    {
     "data": {
      "text/plain": [
       "59.39678571428571"
      ]
     },
     "execution_count": 12,
     "metadata": {},
     "output_type": "execute_result"
    }
   ],
   "source": [
    "df_abundant_kmers = df[(df[\"cmin\"] == 1) & (df[\"thresh\"] < 50)]\n",
    "np.mean(df_abundant_kmers[\"time\"])"
   ]
  },
  {
   "cell_type": "code",
   "execution_count": 13,
   "id": "9cb931f8-0b95-4de0-8473-e1bb8e1196a7",
   "metadata": {},
   "outputs": [
    {
     "data": {
      "text/plain": [
       "51.03807142857143"
      ]
     },
     "execution_count": 13,
     "metadata": {},
     "output_type": "execute_result"
    }
   ],
   "source": [
    "df_abundant_kmers = df[df[\"cmin\"]==1]\n",
    "np.mean(df_abundant_kmers[\"time\"])"
   ]
  },
  {
   "cell_type": "code",
   "execution_count": 14,
   "id": "dddfce91-2dc6-48b8-a267-15136489fba3",
   "metadata": {},
   "outputs": [
    {
     "data": {
      "text/plain": [
       "21107.285714285714"
      ]
     },
     "execution_count": 14,
     "metadata": {},
     "output_type": "execute_result"
    }
   ],
   "source": [
    "np.mean(df_abundant_kmers[\"matches\"])"
   ]
  },
  {
   "cell_type": "code",
   "execution_count": 13,
   "id": "f4afbc17-a58c-43df-9fb1-835a7d24862d",
   "metadata": {},
   "outputs": [
    {
     "data": {
      "text/html": [
       "<div>\n",
       "<style scoped>\n",
       "    .dataframe tbody tr th:only-of-type {\n",
       "        vertical-align: middle;\n",
       "    }\n",
       "\n",
       "    .dataframe tbody tr th {\n",
       "        vertical-align: top;\n",
       "    }\n",
       "\n",
       "    .dataframe thead th {\n",
       "        text-align: right;\n",
       "    }\n",
       "</style>\n",
       "<table border=\"1\" class=\"dataframe\">\n",
       "  <thead>\n",
       "    <tr style=\"text-align: right;\">\n",
       "      <th></th>\n",
       "      <th>time</th>\n",
       "      <th>mem</th>\n",
       "      <th>error-code</th>\n",
       "      <th>command</th>\n",
       "      <th>bins</th>\n",
       "      <th>k</th>\n",
       "      <th>query-seg</th>\n",
       "      <th>min-len</th>\n",
       "      <th>er</th>\n",
       "      <th>thresh</th>\n",
       "      <th>cmin</th>\n",
       "      <th>cmax</th>\n",
       "      <th>ibf-size</th>\n",
       "      <th>matches</th>\n",
       "      <th>repeats</th>\n",
       "    </tr>\n",
       "  </thead>\n",
       "  <tbody>\n",
       "    <tr>\n",
       "      <th>276</th>\n",
       "      <td>77.89</td>\n",
       "      <td>10856688</td>\n",
       "      <td>0</td>\n",
       "      <td>valik-search</td>\n",
       "      <td>1024</td>\n",
       "      <td>21</td>\n",
       "      <td>20000</td>\n",
       "      <td>150</td>\n",
       "      <td>0.025</td>\n",
       "      <td>30</td>\n",
       "      <td>1</td>\n",
       "      <td>250</td>\n",
       "      <td>3,3G</td>\n",
       "      <td>41496</td>\n",
       "      <td>138</td>\n",
       "    </tr>\n",
       "  </tbody>\n",
       "</table>\n",
       "</div>"
      ],
      "text/plain": [
       "      time       mem  error-code       command  bins   k  query-seg  min-len  \\\n",
       "276  77.89  10856688           0  valik-search  1024  21      20000      150   \n",
       "\n",
       "        er  thresh  cmin  cmax ibf-size  matches  repeats  \n",
       "276  0.025      30     1   250     3,3G    41496      138  "
      ]
     },
     "execution_count": 13,
     "metadata": {},
     "output_type": "execute_result"
    }
   ],
   "source": [
    "df[df[\"matches\"] == np.max(df[\"matches\"])]"
   ]
  },
  {
   "cell_type": "code",
   "execution_count": 14,
   "id": "1ab28973-725c-4270-b10d-75d3805ac110",
   "metadata": {},
   "outputs": [
    {
     "data": {
      "text/html": [
       "<div>\n",
       "<style scoped>\n",
       "    .dataframe tbody tr th:only-of-type {\n",
       "        vertical-align: middle;\n",
       "    }\n",
       "\n",
       "    .dataframe tbody tr th {\n",
       "        vertical-align: top;\n",
       "    }\n",
       "\n",
       "    .dataframe thead th {\n",
       "        text-align: right;\n",
       "    }\n",
       "</style>\n",
       "<table border=\"1\" class=\"dataframe\">\n",
       "  <thead>\n",
       "    <tr style=\"text-align: right;\">\n",
       "      <th></th>\n",
       "      <th>time</th>\n",
       "      <th>mem</th>\n",
       "      <th>error-code</th>\n",
       "      <th>command</th>\n",
       "      <th>bins</th>\n",
       "      <th>k</th>\n",
       "      <th>query-seg</th>\n",
       "      <th>min-len</th>\n",
       "      <th>er</th>\n",
       "      <th>thresh</th>\n",
       "      <th>cmin</th>\n",
       "      <th>cmax</th>\n",
       "      <th>ibf-size</th>\n",
       "      <th>matches</th>\n",
       "      <th>repeats</th>\n",
       "    </tr>\n",
       "  </thead>\n",
       "  <tbody>\n",
       "    <tr>\n",
       "      <th>23</th>\n",
       "      <td>31.16</td>\n",
       "      <td>10111328</td>\n",
       "      <td>0</td>\n",
       "      <td>valik-search</td>\n",
       "      <td>1024</td>\n",
       "      <td>19</td>\n",
       "      <td>30000</td>\n",
       "      <td>150</td>\n",
       "      <td>0.025</td>\n",
       "      <td>50</td>\n",
       "      <td>1</td>\n",
       "      <td>40</td>\n",
       "      <td>3,2G</td>\n",
       "      <td>9365</td>\n",
       "      <td>7</td>\n",
       "    </tr>\n",
       "  </tbody>\n",
       "</table>\n",
       "</div>"
      ],
      "text/plain": [
       "     time       mem  error-code       command  bins   k  query-seg  min-len  \\\n",
       "23  31.16  10111328           0  valik-search  1024  19      30000      150   \n",
       "\n",
       "       er  thresh  cmin  cmax ibf-size  matches  repeats  \n",
       "23  0.025      50     1    40     3,2G     9365        7  "
      ]
     },
     "execution_count": 14,
     "metadata": {},
     "output_type": "execute_result"
    }
   ],
   "source": [
    "df[df[\"time\"] == np.min(df[\"time\"])]"
   ]
  },
  {
   "cell_type": "code",
   "execution_count": 44,
   "id": "133935e4-46df-40b0-8d9b-9160880ebbca",
   "metadata": {},
   "outputs": [
    {
     "data": {
      "text/plain": [
       "0.06979869579846797"
      ]
     },
     "execution_count": 44,
     "metadata": {},
     "output_type": "execute_result"
    }
   ],
   "source": [
    "df_abundant_kmers[\"thresh\"].corr(df_abundant_kmers[\"matches\"])"
   ]
  },
  {
   "cell_type": "markdown",
   "id": "851c7fd4-353a-4ae2-8644-9158796005e2",
   "metadata": {},
   "source": [
    "## Query segment count"
   ]
  },
  {
   "cell_type": "code",
   "execution_count": 17,
   "id": "95b3037a-91d5-45d7-90e1-197bae3be8cd",
   "metadata": {},
   "outputs": [],
   "source": [
    "df_10000 = df[df[\"query-seg\"]==10000]\n",
    "df_20000 = df[df[\"query-seg\"]==20000]\n",
    "df_30000 = df[df[\"query-seg\"]==30000]"
   ]
  },
  {
   "cell_type": "code",
   "execution_count": 20,
   "id": "22390ddf-2d3b-4d2b-960a-628898747cd3",
   "metadata": {},
   "outputs": [],
   "source": [
    "def get_means(df):\n",
    "    print(\"mean runtime\\t\" + str(np.mean(df[\"time\"])))\n",
    "    print(\"mean match count\\t\" + str(np.mean(df[\"matches\"])))\n",
    "    print(\"mean repeats\\t\" + str(np.mean(df[\"repeats\"])))"
   ]
  },
  {
   "cell_type": "code",
   "execution_count": 21,
   "id": "5176683a-dec8-4c4a-83f2-9fdc2340a590",
   "metadata": {},
   "outputs": [
    {
     "name": "stdout",
     "output_type": "stream",
     "text": [
      "mean runtime\t63.96189999999999\n",
      "mean match count\t21200.05\n",
      "mean repeats\t119.26\n"
     ]
    }
   ],
   "source": [
    "get_means(df_10000)"
   ]
  },
  {
   "cell_type": "code",
   "execution_count": 23,
   "id": "58133e50-8fca-4322-b304-386f9f642656",
   "metadata": {},
   "outputs": [
    {
     "name": "stdout",
     "output_type": "stream",
     "text": [
      "mean runtime\t59.9971\n",
      "mean match count\t23473.01\n",
      "mean repeats\t130.86\n"
     ]
    }
   ],
   "source": [
    "get_means(df_20000)"
   ]
  },
  {
   "cell_type": "code",
   "execution_count": 25,
   "id": "934bf868-879f-419a-8d97-3e9fa9673028",
   "metadata": {},
   "outputs": [
    {
     "name": "stdout",
     "output_type": "stream",
     "text": [
      "mean runtime\t51.325125\n",
      "mean match count\t20722.0625\n",
      "mean repeats\t114.3625\n"
     ]
    }
   ],
   "source": [
    "get_means(df_30000)"
   ]
  },
  {
   "cell_type": "markdown",
   "id": "28169a67-3a18-4c51-87b4-1469c19248c7",
   "metadata": {},
   "source": [
    "## Dealing with repeats"
   ]
  },
  {
   "cell_type": "code",
   "execution_count": 29,
   "id": "6d760232-9fd1-4bfb-a1de-4a1ddba935e3",
   "metadata": {},
   "outputs": [
    {
     "data": {
      "text/plain": [
       "0.8168837549175402"
      ]
     },
     "execution_count": 29,
     "metadata": {},
     "output_type": "execute_result"
    }
   ],
   "source": [
    "df_30000[\"cmax\"].corr(df_30000[\"matches\"])"
   ]
  },
  {
   "cell_type": "code",
   "execution_count": 16,
   "id": "cb3377f1-f17e-4c1c-a6e0-3e284322dcce",
   "metadata": {
    "scrolled": true
   },
   "outputs": [
    {
     "data": {
      "text/plain": [
       "0.3622211807726669"
      ]
     },
     "execution_count": 16,
     "metadata": {},
     "output_type": "execute_result"
    }
   ],
   "source": [
    "df[\"cmax\"].corr(df[\"time\"])"
   ]
  }
 ],
 "metadata": {
  "kernelspec": {
   "display_name": "Python 3 (ipykernel)",
   "language": "python",
   "name": "python3"
  },
  "language_info": {
   "codemirror_mode": {
    "name": "ipython",
    "version": 3
   },
   "file_extension": ".py",
   "mimetype": "text/x-python",
   "name": "python",
   "nbconvert_exporter": "python",
   "pygments_lexer": "ipython3",
   "version": "3.12.2"
  }
 },
 "nbformat": 4,
 "nbformat_minor": 5
}
