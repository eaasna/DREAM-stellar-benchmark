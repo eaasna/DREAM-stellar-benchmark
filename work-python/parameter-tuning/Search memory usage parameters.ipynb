{
 "cells": [
  {
   "cell_type": "markdown",
   "id": "3866271e-555d-4768-99ab-d4d630e57fe1",
   "metadata": {},
   "source": [
    "# Parameters for lowest RAM\n",
    "\n",
    "Mouse vs fly reference genomes"
   ]
  },
  {
   "cell_type": "code",
   "execution_count": 3,
   "id": "3a142cfa-9605-4c51-a9e9-b2816b224ab2",
   "metadata": {},
   "outputs": [],
   "source": [
    "import pandas as pd\n",
    "import numpy as np\n",
    "import matplotlib as plt"
   ]
  },
  {
   "cell_type": "markdown",
   "id": "6c3bbe5f-f5ef-45b8-a039-209a96efbd0b",
   "metadata": {},
   "source": [
    "## Cart queue parameters\n",
    "\n",
    "The cart queue is defined by the maximum number of carts in the queue and the size of a cart. Records are added into the cart by producer threads of local prefiltering and consumed by stellar search threads."
   ]
  },
  {
   "cell_type": "code",
   "execution_count": 7,
   "id": "56f63ac9-a2f9-4a56-a3ed-299359f81dcd",
   "metadata": {},
   "outputs": [
    {
     "data": {
      "text/html": [
       "<div>\n",
       "<style scoped>\n",
       "    .dataframe tbody tr th:only-of-type {\n",
       "        vertical-align: middle;\n",
       "    }\n",
       "\n",
       "    .dataframe tbody tr th {\n",
       "        vertical-align: top;\n",
       "    }\n",
       "\n",
       "    .dataframe thead th {\n",
       "        text-align: right;\n",
       "    }\n",
       "</style>\n",
       "<table border=\"1\" class=\"dataframe\">\n",
       "  <thead>\n",
       "    <tr style=\"text-align: right;\">\n",
       "      <th></th>\n",
       "      <th>time</th>\n",
       "      <th>mem</th>\n",
       "      <th>error-code</th>\n",
       "      <th>bins</th>\n",
       "      <th>min-len</th>\n",
       "      <th>er</th>\n",
       "      <th>cmin</th>\n",
       "      <th>cmax</th>\n",
       "      <th>repeat-mask</th>\n",
       "      <th>repeats</th>\n",
       "      <th>ibf-size</th>\n",
       "      <th>matches</th>\n",
       "      <th>truth-set-matches</th>\n",
       "      <th>true-matches</th>\n",
       "      <th>missed</th>\n",
       "      <th>min_overlap</th>\n",
       "      <th>max-cap</th>\n",
       "      <th>max-queued</th>\n",
       "    </tr>\n",
       "  </thead>\n",
       "  <tbody>\n",
       "    <tr>\n",
       "      <th>0</th>\n",
       "      <td>154.11</td>\n",
       "      <td>14229632</td>\n",
       "      <td>0</td>\n",
       "      <td>1024</td>\n",
       "      <td>150</td>\n",
       "      <td>0.025</td>\n",
       "      <td>0</td>\n",
       "      <td>254</td>\n",
       "      <td>--keep-all-repeats</td>\n",
       "      <td>156</td>\n",
       "      <td>4,3G</td>\n",
       "      <td>75143</td>\n",
       "      <td>74641</td>\n",
       "      <td>74158</td>\n",
       "      <td>0.01</td>\n",
       "      <td>10</td>\n",
       "      <td>20000</td>\n",
       "      <td>1024</td>\n",
       "    </tr>\n",
       "    <tr>\n",
       "      <th>1</th>\n",
       "      <td>98.01</td>\n",
       "      <td>13190204</td>\n",
       "      <td>0</td>\n",
       "      <td>1024</td>\n",
       "      <td>150</td>\n",
       "      <td>0.025</td>\n",
       "      <td>0</td>\n",
       "      <td>254</td>\n",
       "      <td>--keep-best-repeats</td>\n",
       "      <td>156</td>\n",
       "      <td>4,3G</td>\n",
       "      <td>44325</td>\n",
       "      <td>74641</td>\n",
       "      <td>63850</td>\n",
       "      <td>0.15</td>\n",
       "      <td>10</td>\n",
       "      <td>20000</td>\n",
       "      <td>1024</td>\n",
       "    </tr>\n",
       "    <tr>\n",
       "      <th>2</th>\n",
       "      <td>34.80</td>\n",
       "      <td>11140172</td>\n",
       "      <td>0</td>\n",
       "      <td>1024</td>\n",
       "      <td>150</td>\n",
       "      <td>0.025</td>\n",
       "      <td>0</td>\n",
       "      <td>254</td>\n",
       "      <td>NaN</td>\n",
       "      <td>156</td>\n",
       "      <td>4,3G</td>\n",
       "      <td>2462</td>\n",
       "      <td>74641</td>\n",
       "      <td>4427</td>\n",
       "      <td>0.95</td>\n",
       "      <td>10</td>\n",
       "      <td>20000</td>\n",
       "      <td>1024</td>\n",
       "    </tr>\n",
       "    <tr>\n",
       "      <th>3</th>\n",
       "      <td>154.83</td>\n",
       "      <td>13517256</td>\n",
       "      <td>0</td>\n",
       "      <td>1024</td>\n",
       "      <td>150</td>\n",
       "      <td>0.025</td>\n",
       "      <td>0</td>\n",
       "      <td>254</td>\n",
       "      <td>--keep-all-repeats</td>\n",
       "      <td>156</td>\n",
       "      <td>4,3G</td>\n",
       "      <td>75135</td>\n",
       "      <td>74641</td>\n",
       "      <td>74158</td>\n",
       "      <td>0.01</td>\n",
       "      <td>10</td>\n",
       "      <td>5000</td>\n",
       "      <td>1024</td>\n",
       "    </tr>\n",
       "    <tr>\n",
       "      <th>4</th>\n",
       "      <td>98.23</td>\n",
       "      <td>12551388</td>\n",
       "      <td>0</td>\n",
       "      <td>1024</td>\n",
       "      <td>150</td>\n",
       "      <td>0.025</td>\n",
       "      <td>0</td>\n",
       "      <td>254</td>\n",
       "      <td>--keep-best-repeats</td>\n",
       "      <td>156</td>\n",
       "      <td>4,3G</td>\n",
       "      <td>44327</td>\n",
       "      <td>74641</td>\n",
       "      <td>63850</td>\n",
       "      <td>0.15</td>\n",
       "      <td>10</td>\n",
       "      <td>5000</td>\n",
       "      <td>1024</td>\n",
       "    </tr>\n",
       "  </tbody>\n",
       "</table>\n",
       "</div>"
      ],
      "text/plain": [
       "     time       mem  error-code  bins  min-len     er  cmin  cmax  \\\n",
       "0  154.11  14229632           0  1024      150  0.025     0   254   \n",
       "1   98.01  13190204           0  1024      150  0.025     0   254   \n",
       "2   34.80  11140172           0  1024      150  0.025     0   254   \n",
       "3  154.83  13517256           0  1024      150  0.025     0   254   \n",
       "4   98.23  12551388           0  1024      150  0.025     0   254   \n",
       "\n",
       "           repeat-mask  repeats ibf-size  matches  truth-set-matches  \\\n",
       "0   --keep-all-repeats      156     4,3G    75143              74641   \n",
       "1  --keep-best-repeats      156     4,3G    44325              74641   \n",
       "2                  NaN      156     4,3G     2462              74641   \n",
       "3   --keep-all-repeats      156     4,3G    75135              74641   \n",
       "4  --keep-best-repeats      156     4,3G    44327              74641   \n",
       "\n",
       "   true-matches  missed  min_overlap  max-cap  max-queued  \n",
       "0         74158    0.01           10    20000        1024  \n",
       "1         63850    0.15           10    20000        1024  \n",
       "2          4427    0.95           10    20000        1024  \n",
       "3         74158    0.01           10     5000        1024  \n",
       "4         63850    0.15           10     5000        1024  "
      ]
     },
     "execution_count": 7,
     "metadata": {},
     "output_type": "execute_result"
    }
   ],
   "source": [
    "df = pd.read_csv(\"cart_parameters.time\", sep=\"\\t\")\n",
    "df.head()"
   ]
  },
  {
   "cell_type": "code",
   "execution_count": 9,
   "id": "2e2828cb-e62e-4d15-8f13-40f6ef52b9de",
   "metadata": {},
   "outputs": [
    {
     "data": {
      "text/plain": [
       "0.4127845444819974"
      ]
     },
     "execution_count": 9,
     "metadata": {},
     "output_type": "execute_result"
    }
   ],
   "source": [
    "df[\"mem\"].corr(df[\"max-cap\"])"
   ]
  },
  {
   "cell_type": "code",
   "execution_count": 11,
   "id": "10f91fda-5bbc-4ef4-9968-b63577f3f723",
   "metadata": {},
   "outputs": [
    {
     "data": {
      "text/plain": [
       "0.4614943115504689"
      ]
     },
     "execution_count": 11,
     "metadata": {},
     "output_type": "execute_result"
    }
   ],
   "source": [
    "df[\"mem\"].corr(df[\"max-queued\"])"
   ]
  },
  {
   "cell_type": "code",
   "execution_count": 17,
   "id": "36b1d548-f582-4d8c-8bf3-4fe62fad7990",
   "metadata": {},
   "outputs": [
    {
     "data": {
      "text/plain": [
       "0.7856057029724623"
      ]
     },
     "execution_count": 17,
     "metadata": {},
     "output_type": "execute_result"
    }
   ],
   "source": [
    "keep_all_df = df[df[\"repeat-mask\"] == \"--keep-all-repeats\"]\n",
    "keep_all_df[\"mem\"].corr(keep_all_df[\"max-queued\"])"
   ]
  },
  {
   "cell_type": "code",
   "execution_count": 19,
   "id": "ef5aa1dd-3d80-4dbe-bc4d-438f5212a9f6",
   "metadata": {},
   "outputs": [
    {
     "data": {
      "text/plain": [
       "0.7040909737492136"
      ]
     },
     "execution_count": 19,
     "metadata": {},
     "output_type": "execute_result"
    }
   ],
   "source": [
    "keep_best_df = df[df[\"repeat-mask\"] == \"--keep-best-repeats\"]\n",
    "keep_best_df[\"mem\"].corr(keep_best_df[\"max-queued\"])"
   ]
  },
  {
   "cell_type": "markdown",
   "id": "8c07e5c8-c360-4e89-987b-bf4ef009a67c",
   "metadata": {},
   "source": [
    "Okay, of course it correlates but how much of an effect does it have?"
   ]
  },
  {
   "cell_type": "code",
   "execution_count": 43,
   "id": "ec5bf2fc-dd56-4293-adc8-70a31729b934",
   "metadata": {},
   "outputs": [
    {
     "data": {
      "text/html": [
       "<div>\n",
       "<style scoped>\n",
       "    .dataframe tbody tr th:only-of-type {\n",
       "        vertical-align: middle;\n",
       "    }\n",
       "\n",
       "    .dataframe tbody tr th {\n",
       "        vertical-align: top;\n",
       "    }\n",
       "\n",
       "    .dataframe thead th {\n",
       "        text-align: right;\n",
       "    }\n",
       "</style>\n",
       "<table border=\"1\" class=\"dataframe\">\n",
       "  <thead>\n",
       "    <tr style=\"text-align: right;\">\n",
       "      <th></th>\n",
       "      <th>time</th>\n",
       "      <th>mem</th>\n",
       "      <th>error-code</th>\n",
       "      <th>bins</th>\n",
       "      <th>min-len</th>\n",
       "      <th>er</th>\n",
       "      <th>cmin</th>\n",
       "      <th>cmax</th>\n",
       "      <th>repeat-mask</th>\n",
       "      <th>repeats</th>\n",
       "      <th>ibf-size</th>\n",
       "      <th>matches</th>\n",
       "      <th>truth-set-matches</th>\n",
       "      <th>true-matches</th>\n",
       "      <th>missed</th>\n",
       "      <th>min_overlap</th>\n",
       "      <th>max-cap</th>\n",
       "      <th>max-queued</th>\n",
       "    </tr>\n",
       "  </thead>\n",
       "  <tbody>\n",
       "    <tr>\n",
       "      <th>0</th>\n",
       "      <td>154.11</td>\n",
       "      <td>14229632</td>\n",
       "      <td>0</td>\n",
       "      <td>1024</td>\n",
       "      <td>150</td>\n",
       "      <td>0.025</td>\n",
       "      <td>0</td>\n",
       "      <td>254</td>\n",
       "      <td>--keep-all-repeats</td>\n",
       "      <td>156</td>\n",
       "      <td>4,3G</td>\n",
       "      <td>75143</td>\n",
       "      <td>74641</td>\n",
       "      <td>74158</td>\n",
       "      <td>0.01</td>\n",
       "      <td>10</td>\n",
       "      <td>20000</td>\n",
       "      <td>1024</td>\n",
       "    </tr>\n",
       "  </tbody>\n",
       "</table>\n",
       "</div>"
      ],
      "text/plain": [
       "     time       mem  error-code  bins  min-len     er  cmin  cmax  \\\n",
       "0  154.11  14229632           0  1024      150  0.025     0   254   \n",
       "\n",
       "          repeat-mask  repeats ibf-size  matches  truth-set-matches  \\\n",
       "0  --keep-all-repeats      156     4,3G    75143              74641   \n",
       "\n",
       "   true-matches  missed  min_overlap  max-cap  max-queued  \n",
       "0         74158    0.01           10    20000        1024  "
      ]
     },
     "execution_count": 43,
     "metadata": {},
     "output_type": "execute_result"
    }
   ],
   "source": [
    "keep_all_df[keep_all_df[\"mem\"] == np.max(keep_all_df[\"mem\"])]"
   ]
  },
  {
   "cell_type": "code",
   "execution_count": 44,
   "id": "e75ff871-2a54-42e7-addb-2d8aeda7e932",
   "metadata": {},
   "outputs": [
    {
     "data": {
      "text/html": [
       "<div>\n",
       "<style scoped>\n",
       "    .dataframe tbody tr th:only-of-type {\n",
       "        vertical-align: middle;\n",
       "    }\n",
       "\n",
       "    .dataframe tbody tr th {\n",
       "        vertical-align: top;\n",
       "    }\n",
       "\n",
       "    .dataframe thead th {\n",
       "        text-align: right;\n",
       "    }\n",
       "</style>\n",
       "<table border=\"1\" class=\"dataframe\">\n",
       "  <thead>\n",
       "    <tr style=\"text-align: right;\">\n",
       "      <th></th>\n",
       "      <th>time</th>\n",
       "      <th>mem</th>\n",
       "      <th>error-code</th>\n",
       "      <th>bins</th>\n",
       "      <th>min-len</th>\n",
       "      <th>er</th>\n",
       "      <th>cmin</th>\n",
       "      <th>cmax</th>\n",
       "      <th>repeat-mask</th>\n",
       "      <th>repeats</th>\n",
       "      <th>ibf-size</th>\n",
       "      <th>matches</th>\n",
       "      <th>truth-set-matches</th>\n",
       "      <th>true-matches</th>\n",
       "      <th>missed</th>\n",
       "      <th>min_overlap</th>\n",
       "      <th>max-cap</th>\n",
       "      <th>max-queued</th>\n",
       "    </tr>\n",
       "  </thead>\n",
       "  <tbody>\n",
       "    <tr>\n",
       "      <th>21</th>\n",
       "      <td>219.19</td>\n",
       "      <td>10631028</td>\n",
       "      <td>0</td>\n",
       "      <td>1024</td>\n",
       "      <td>150</td>\n",
       "      <td>0.025</td>\n",
       "      <td>0</td>\n",
       "      <td>254</td>\n",
       "      <td>--keep-all-repeats</td>\n",
       "      <td>156</td>\n",
       "      <td>4,3G</td>\n",
       "      <td>75142</td>\n",
       "      <td>74641</td>\n",
       "      <td>74158</td>\n",
       "      <td>0.01</td>\n",
       "      <td>10</td>\n",
       "      <td>10</td>\n",
       "      <td>10</td>\n",
       "    </tr>\n",
       "  </tbody>\n",
       "</table>\n",
       "</div>"
      ],
      "text/plain": [
       "      time       mem  error-code  bins  min-len     er  cmin  cmax  \\\n",
       "21  219.19  10631028           0  1024      150  0.025     0   254   \n",
       "\n",
       "           repeat-mask  repeats ibf-size  matches  truth-set-matches  \\\n",
       "21  --keep-all-repeats      156     4,3G    75142              74641   \n",
       "\n",
       "    true-matches  missed  min_overlap  max-cap  max-queued  \n",
       "21         74158    0.01           10       10          10  "
      ]
     },
     "execution_count": 44,
     "metadata": {},
     "output_type": "execute_result"
    }
   ],
   "source": [
    "keep_all_df[keep_all_df[\"mem\"] == np.min(keep_all_df[\"mem\"])]"
   ]
  },
  {
   "cell_type": "code",
   "execution_count": 54,
   "id": "05d8d144-df9c-494d-a13d-1445c1c00e44",
   "metadata": {},
   "outputs": [
    {
     "data": {
      "text/plain": [
       "25.29"
      ]
     },
     "execution_count": 54,
     "metadata": {},
     "output_type": "execute_result"
    }
   ],
   "source": [
    "np.round((np.max(keep_all_df[\"mem\"]) - np.min(keep_all_df[\"mem\"])) / np.max(keep_all_df[\"mem\"]) * 100, 2)"
   ]
  },
  {
   "cell_type": "markdown",
   "id": "ce12b84d-e58e-40f0-a87b-787294e86667",
   "metadata": {},
   "source": [
    "Decreasing the queue parameters reduced the max memory peak by 25%"
   ]
  },
  {
   "cell_type": "code",
   "execution_count": 48,
   "id": "3c40bda5-e611-49ab-8053-70a3ab0cdbc4",
   "metadata": {},
   "outputs": [],
   "source": [
    "time_at_max_mem = keep_all_df[keep_all_df[\"mem\"] == np.max(keep_all_df[\"mem\"])][\"time\"].values[0]\n",
    "time_at_min_mem = keep_all_df[keep_all_df[\"mem\"] == np.min(keep_all_df[\"mem\"])][\"time\"].values[0]"
   ]
  },
  {
   "cell_type": "code",
   "execution_count": 55,
   "id": "355c361f-f203-4980-ac96-e2c2d120a275",
   "metadata": {
    "scrolled": true
   },
   "outputs": [
    {
     "data": {
      "text/plain": [
       "-42.23"
      ]
     },
     "execution_count": 55,
     "metadata": {},
     "output_type": "execute_result"
    }
   ],
   "source": [
    "np.round((time_at_max_mem - time_at_min_mem) / time_at_max_mem * 100, 2)"
   ]
  },
  {
   "cell_type": "markdown",
   "id": "2ff8cc67-5105-438f-b41f-86cb4ef6f3a8",
   "metadata": {},
   "source": [
    "And increased the runtime by 42%"
   ]
  },
  {
   "cell_type": "markdown",
   "id": "0c84ab70-e183-4abe-9f2f-29bc9d642506",
   "metadata": {},
   "source": [
    "## Parallelization\n",
    "\n",
    "The number of threads determines the number of local prefiltering AND stellar search jobs."
   ]
  },
  {
   "cell_type": "code",
   "execution_count": 8,
   "id": "10cf2695-16ec-4c43-acaa-8a5014da529d",
   "metadata": {},
   "outputs": [
    {
     "data": {
      "text/html": [
       "<div>\n",
       "<style scoped>\n",
       "    .dataframe tbody tr th:only-of-type {\n",
       "        vertical-align: middle;\n",
       "    }\n",
       "\n",
       "    .dataframe tbody tr th {\n",
       "        vertical-align: top;\n",
       "    }\n",
       "\n",
       "    .dataframe thead th {\n",
       "        text-align: right;\n",
       "    }\n",
       "</style>\n",
       "<table border=\"1\" class=\"dataframe\">\n",
       "  <thead>\n",
       "    <tr style=\"text-align: right;\">\n",
       "      <th></th>\n",
       "      <th>time</th>\n",
       "      <th>mem</th>\n",
       "      <th>error-code</th>\n",
       "      <th>command</th>\n",
       "      <th>bins</th>\n",
       "      <th>threads</th>\n",
       "      <th>cart-max-cap</th>\n",
       "      <th>max-queued</th>\n",
       "      <th>min-len</th>\n",
       "      <th>er</th>\n",
       "      <th>...</th>\n",
       "      <th>cmax</th>\n",
       "      <th>repeat-mask</th>\n",
       "      <th>repeats</th>\n",
       "      <th>ibf-fpr</th>\n",
       "      <th>ibf-size</th>\n",
       "      <th>matches</th>\n",
       "      <th>truth-set-matches</th>\n",
       "      <th>true-matches</th>\n",
       "      <th>missed</th>\n",
       "      <th>min_overlap</th>\n",
       "    </tr>\n",
       "  </thead>\n",
       "  <tbody>\n",
       "    <tr>\n",
       "      <th>0</th>\n",
       "      <td>841.55</td>\n",
       "      <td>11278436</td>\n",
       "      <td>0</td>\n",
       "      <td>valik-search</td>\n",
       "      <td>1024</td>\n",
       "      <td>2</td>\n",
       "      <td>15000</td>\n",
       "      <td>1024</td>\n",
       "      <td>150</td>\n",
       "      <td>0.025</td>\n",
       "      <td>...</td>\n",
       "      <td>254</td>\n",
       "      <td>--keep-best-repeats</td>\n",
       "      <td>0.01</td>\n",
       "      <td>208</td>\n",
       "      <td>3,0G</td>\n",
       "      <td>50093</td>\n",
       "      <td>84323</td>\n",
       "      <td>73254</td>\n",
       "      <td>0.14</td>\n",
       "      <td>100</td>\n",
       "    </tr>\n",
       "    <tr>\n",
       "      <th>1</th>\n",
       "      <td>441.61</td>\n",
       "      <td>11124948</td>\n",
       "      <td>0</td>\n",
       "      <td>valik-search</td>\n",
       "      <td>1024</td>\n",
       "      <td>4</td>\n",
       "      <td>15000</td>\n",
       "      <td>1024</td>\n",
       "      <td>150</td>\n",
       "      <td>0.025</td>\n",
       "      <td>...</td>\n",
       "      <td>254</td>\n",
       "      <td>--keep-best-repeats</td>\n",
       "      <td>0.01</td>\n",
       "      <td>208</td>\n",
       "      <td>3,0G</td>\n",
       "      <td>50097</td>\n",
       "      <td>84323</td>\n",
       "      <td>73254</td>\n",
       "      <td>0.14</td>\n",
       "      <td>100</td>\n",
       "    </tr>\n",
       "    <tr>\n",
       "      <th>2</th>\n",
       "      <td>250.85</td>\n",
       "      <td>11636988</td>\n",
       "      <td>0</td>\n",
       "      <td>valik-search</td>\n",
       "      <td>1024</td>\n",
       "      <td>8</td>\n",
       "      <td>15000</td>\n",
       "      <td>1024</td>\n",
       "      <td>150</td>\n",
       "      <td>0.025</td>\n",
       "      <td>...</td>\n",
       "      <td>254</td>\n",
       "      <td>--keep-best-repeats</td>\n",
       "      <td>0.01</td>\n",
       "      <td>208</td>\n",
       "      <td>3,0G</td>\n",
       "      <td>50091</td>\n",
       "      <td>84323</td>\n",
       "      <td>73254</td>\n",
       "      <td>0.14</td>\n",
       "      <td>100</td>\n",
       "    </tr>\n",
       "    <tr>\n",
       "      <th>3</th>\n",
       "      <td>141.16</td>\n",
       "      <td>12079936</td>\n",
       "      <td>0</td>\n",
       "      <td>valik-search</td>\n",
       "      <td>1024</td>\n",
       "      <td>16</td>\n",
       "      <td>15000</td>\n",
       "      <td>1024</td>\n",
       "      <td>150</td>\n",
       "      <td>0.025</td>\n",
       "      <td>...</td>\n",
       "      <td>254</td>\n",
       "      <td>--keep-best-repeats</td>\n",
       "      <td>0.01</td>\n",
       "      <td>208</td>\n",
       "      <td>3,0G</td>\n",
       "      <td>50097</td>\n",
       "      <td>84323</td>\n",
       "      <td>73254</td>\n",
       "      <td>0.14</td>\n",
       "      <td>100</td>\n",
       "    </tr>\n",
       "  </tbody>\n",
       "</table>\n",
       "<p>4 rows × 21 columns</p>\n",
       "</div>"
      ],
      "text/plain": [
       "     time       mem  error-code       command  bins  threads  cart-max-cap  \\\n",
       "0  841.55  11278436           0  valik-search  1024        2         15000   \n",
       "1  441.61  11124948           0  valik-search  1024        4         15000   \n",
       "2  250.85  11636988           0  valik-search  1024        8         15000   \n",
       "3  141.16  12079936           0  valik-search  1024       16         15000   \n",
       "\n",
       "   max-queued  min-len     er  ...  cmax          repeat-mask repeats  \\\n",
       "0        1024      150  0.025  ...   254  --keep-best-repeats    0.01   \n",
       "1        1024      150  0.025  ...   254  --keep-best-repeats    0.01   \n",
       "2        1024      150  0.025  ...   254  --keep-best-repeats    0.01   \n",
       "3        1024      150  0.025  ...   254  --keep-best-repeats    0.01   \n",
       "\n",
       "   ibf-fpr  ibf-size matches  truth-set-matches  true-matches  missed  \\\n",
       "0      208      3,0G   50093              84323         73254    0.14   \n",
       "1      208      3,0G   50097              84323         73254    0.14   \n",
       "2      208      3,0G   50091              84323         73254    0.14   \n",
       "3      208      3,0G   50097              84323         73254    0.14   \n",
       "\n",
       "   min_overlap  \n",
       "0          100  \n",
       "1          100  \n",
       "2          100  \n",
       "3          100  \n",
       "\n",
       "[4 rows x 21 columns]"
      ]
     },
     "execution_count": 8,
     "metadata": {},
     "output_type": "execute_result"
    }
   ],
   "source": [
    "df = pd.read_csv(\"parallelization_search_valik.time\", sep=\"\\t\")\n",
    "df.head()"
   ]
  },
  {
   "cell_type": "code",
   "execution_count": 11,
   "id": "397fbc02-b919-4e62-aaf3-a1d4df172467",
   "metadata": {},
   "outputs": [
    {
     "data": {
      "text/plain": [
       "7.905571685148001"
      ]
     },
     "execution_count": 11,
     "metadata": {},
     "output_type": "execute_result"
    }
   ],
   "source": [
    "(np.max(df[\"mem\"]) - np.min(df[\"mem\"])) / np.max(df[\"mem\"]) * 100"
   ]
  },
  {
   "cell_type": "markdown",
   "id": "e44bb49f-0a30-4f0d-b81c-581d40b9735b",
   "metadata": {},
   "source": [
    "Decreasing the number of threads decreased the RAM peak by 8%"
   ]
  },
  {
   "cell_type": "code",
   "execution_count": 12,
   "id": "e9fd0a0f-cf60-4801-a72a-df2ced7cec00",
   "metadata": {},
   "outputs": [],
   "source": [
    "time_at_max_mem = df[df[\"mem\"] == np.max(df[\"mem\"])][\"time\"].values[0]\n",
    "time_at_min_mem = df[df[\"mem\"] == np.min(df[\"mem\"])][\"time\"].values[0]"
   ]
  },
  {
   "cell_type": "code",
   "execution_count": 13,
   "id": "d88335b9-e692-4280-b843-c06c3412ba12",
   "metadata": {},
   "outputs": [
    {
     "data": {
      "text/plain": [
       "-212.84"
      ]
     },
     "execution_count": 13,
     "metadata": {},
     "output_type": "execute_result"
    }
   ],
   "source": [
    "np.round((time_at_max_mem - time_at_min_mem) / time_at_max_mem * 100, 2)"
   ]
  },
  {
   "cell_type": "markdown",
   "id": "e654823d-1524-4e82-81c0-5e2f50a8e937",
   "metadata": {},
   "source": [
    "And increased the runtime by 212%"
   ]
  }
 ],
 "metadata": {
  "kernelspec": {
   "display_name": "Python 3 (ipykernel)",
   "language": "python",
   "name": "python3"
  },
  "language_info": {
   "codemirror_mode": {
    "name": "ipython",
    "version": 3
   },
   "file_extension": ".py",
   "mimetype": "text/x-python",
   "name": "python",
   "nbconvert_exporter": "python",
   "pygments_lexer": "ipython3",
   "version": "3.12.2"
  }
 },
 "nbformat": 4,
 "nbformat_minor": 5
}
