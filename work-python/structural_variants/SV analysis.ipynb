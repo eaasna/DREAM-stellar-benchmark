{
 "cells": [
  {
   "cell_type": "code",
   "execution_count": null,
   "id": "148e1224-48fb-4850-b5f1-4b8da59d6c88",
   "metadata": {},
   "outputs": [],
   "source": [
    "import pandas as pd\n",
    "import numpy as np \n",
    "import matplotlib.pyplot as plt\n",
    "import statistics"
   ]
  },
  {
   "cell_type": "markdown",
   "id": "6d578692-af50-4a07-b18e-b6209dc487ef",
   "metadata": {},
   "source": [
    "## Structural variant gold set"
   ]
  },
  {
   "cell_type": "markdown",
   "id": "6196fe59-8cf4-45b2-b1bc-7770663e2514",
   "metadata": {},
   "source": [
    "## Inversions from valik"
   ]
  },
  {
   "cell_type": "code",
   "execution_count": null,
   "id": "3f896e7b-9182-4905-b11e-0c4339c70e31",
   "metadata": {},
   "outputs": [],
   "source": [
    "SMALL_SIZE = 14\n",
    "MEDIUM_SIZE = 16\n",
    "BIGGER_SIZE = 18\n",
    "\n",
    "plt.rc('font', size=MEDIUM_SIZE)          # controls default text sizes\n",
    "plt.rc('axes', titlesize=SMALL_SIZE)     # fontsize of the axes title\n",
    "plt.rc('axes', labelsize=SMALL_SIZE)    # fontsize of the x and y labels\n",
    "plt.rc('xtick', labelsize=SMALL_SIZE)    # fontsize of the tick labels\n",
    "plt.rc('ytick', labelsize=SMALL_SIZE)    # fontsize of the tick labels\n",
    "plt.rc('legend', fontsize=SMALL_SIZE)    # legend fontsize\n",
    "plt.rc('figure', titlesize=BIGGER_SIZE)  # fontsize of the figure title\n",
    "\n",
    "c_darkblue = \"#4c6c9c\"\n",
    "c_darkgreen = \"#5e8f7b\"\n",
    "c_purple = \"#947db0\""
   ]
  },
  {
   "cell_type": "code",
   "execution_count": null,
   "id": "f397a83b-7224-45e8-b45c-8ee4fc40bf4a",
   "metadata": {},
   "outputs": [],
   "source": [
    "def read_stellar_output(filename):\n",
    "    df = pd.read_csv(filename, sep = \"\\t\", header = None)\n",
    "    df.drop([1, 2, 7], axis = 1, inplace = True) \n",
    "    df.columns = [\"dname\", \"dbegin\", \"dend\", \"percid\", \"strand\", \"attr\"]\n",
    "    df[\"len\"] = np.abs(df[\"dend\"] - df[\"dbegin\"])\n",
    "    df[['qname','seq2Range', 'evalue', 'cigar', 'mutations']] = df['attr'].str.split(';',expand=True)\n",
    "    df[[\"qbegin\", \"qend\"]] = df[\"seq2Range\"].str.removeprefix(\"seq2Range=\").str.split(',',expand=True)\n",
    "    df.drop([\"cigar\", \"mutations\", \"evalue\", \"attr\", \"seq2Range\"], axis = 1, inplace = True)\n",
    "    for col in [\"dbegin\", \"dend\", \"qbegin\", \"qend\"]:\n",
    "        df[col] = pd.to_numeric(df[col])\n",
    "    return df"
   ]
  },
  {
   "cell_type": "markdown",
   "id": "acc36674-37e5-4cbd-901f-8d9569156faf",
   "metadata": {},
   "source": [
    "Pick reads that align to both strands"
   ]
  },
  {
   "cell_type": "code",
   "execution_count": null,
   "id": "bdc5d5b0-6ef2-4e80-b9f9-ca7139283865",
   "metadata": {
    "scrolled": true
   },
   "outputs": [],
   "source": [
    "def get_split_variants(variants):\n",
    "    split_read_variants = pd.DataFrame().reindex(columns=variants.columns) \n",
    "    split_reads = []\n",
    "    for qname in np.unique(variants[\"qname\"]): \n",
    "        query_matches = variants[variants[\"qname\"] == qname]\n",
    "        for dname in np.unique(query_matches[\"dname\"]):\n",
    "            chr_query_matches = query_matches[query_matches[\"dname\"] == dname]\n",
    "            if (len(chr_query_matches) > 3):\n",
    "                if (len(np.unique(chr_query_matches[\"strand\"])) == 2):\n",
    "                    split_reads.append(qname)\n",
    "                    split_read_variants = pd.concat([split_read_variants, chr_query_matches])\n",
    "                    break\n",
    "\n",
    "    variants = split_read_variants\n",
    "    return variants"
   ]
  },
  {
   "cell_type": "markdown",
   "id": "28a2d468-2a17-4adf-a90d-4acc0df2a069",
   "metadata": {},
   "source": [
    "Switch database begin and end for variants on the minus strand"
   ]
  },
  {
   "cell_type": "code",
   "execution_count": null,
   "id": "8027e63b-6ff5-44a7-9c4c-ee2d98877cbf",
   "metadata": {},
   "outputs": [],
   "source": [
    "def switch_reverse_coord(variants):\n",
    "    plus = variants[variants[\"strand\"] == \"+\"].copy()\n",
    "    minus = variants[variants[\"strand\"] == \"-\"].copy()\n",
    "    minus[\"tmp\"] = minus[\"dbegin\"].copy()\n",
    "    minus[\"dbegin\"] = minus[\"dend\"].copy()\n",
    "    minus[\"dend\"] = minus[\"tmp\"]\n",
    "    minus.drop([\"tmp\"], inplace = True, axis = 1)\n",
    "    variants = pd.concat([plus, minus])\n",
    "    for col in [\"dbegin\", \"dend\", \"qbegin\", \"qend\"]:\n",
    "        variants[col] = pd.to_numeric(variants[col])\n",
    "    return variants"
   ]
  },
  {
   "cell_type": "markdown",
   "id": "64f1ea56-c970-4a4f-8882-c41088cd5637",
   "metadata": {},
   "source": [
    "### Find best fitting line"
   ]
  },
  {
   "cell_type": "code",
   "execution_count": null,
   "id": "e2006348-6475-4fbc-b673-cc085bc7c857",
   "metadata": {},
   "outputs": [],
   "source": [
    "def line_params(best_matches):\n",
    "    i = 0\n",
    "\n",
    "    x1 = best_matches[\"dbegin\"].iloc[i]\n",
    "    x2 = best_matches[\"dend\"].iloc[i]\n",
    "    y1 = best_matches[\"qbegin\"].iloc[i]\n",
    "    y2 = best_matches[\"qend\"].iloc[i]\n",
    "\n",
    "    a = (y2 - y1) / (x2 - x1)\n",
    "    b = y1 - a * x1\n",
    "    return [a, b]\n",
    "\n",
    "def get_line(a, b):\n",
    "    y_line = [0, 14000]\n",
    "    x_line = []\n",
    "    for y in y_line:\n",
    "        x_line.append((y - b) / a)\n",
    "    return x_line"
   ]
  },
  {
   "cell_type": "code",
   "execution_count": null,
   "id": "25b7e55b-196b-45fa-b6c0-dba2a852de9e",
   "metadata": {},
   "outputs": [],
   "source": [
    "def fit_line_coord(variants):\n",
    "    variants = variants.assign(a = lambda x: ((x[\"qend\"] - x[\"qbegin\"]) / (x[\"dend\"] - x[\"dbegin\"])))\n",
    "    variants = variants.assign(b = lambda x: (x[\"qbegin\"] - x[\"a\"] * x[\"dbegin\"]))\n",
    "\n",
    "    return variants"
   ]
  },
  {
   "cell_type": "markdown",
   "id": "b7aab5f5-b0e3-4108-8984-94e0e38e5d67",
   "metadata": {},
   "source": [
    "Find alignments that are on the same line"
   ]
  },
  {
   "cell_type": "code",
   "execution_count": null,
   "id": "bc8524f8-6ce0-438b-8b23-4ed5c8a0481d",
   "metadata": {},
   "outputs": [],
   "source": [
    "def get_aligned(df, max_offset):\n",
    "    min_seq_range = 100\n",
    "    read_len = 20000\n",
    "    read_sets = []\n",
    "    split_reads = []\n",
    "    #chr_dict = {k:[] for k in np.unique(df[\"dname\"])}\n",
    "\n",
    "    for index, row in df.iterrows():\n",
    "        query_matches = df[(df[\"qname\"] == row[\"qname\"]) & \n",
    "                        (df[\"dname\"] == row[\"dname\"])]\n",
    "        if (row[\"dname\"] not in [\"chrY\", \"chr16_KI270728v1_random\"]):\n",
    "            if (len(np.unique(query_matches[\"strand\"])) == 2):\n",
    "                region_matches = query_matches[(query_matches[\"dbegin\"] > row[\"dbegin\"] - row[\"qbegin\"]) & \n",
    "                                            (query_matches[\"dend\"] < row[\"dend\"] + read_len - row[\"qend\"])]\n",
    "                b = row[\"b\"]\n",
    "                b_matches = region_matches[(region_matches[\"b\"] > b - max_offset) & (region_matches[\"b\"] < b + max_offset)]\n",
    "                if (np.max(b_matches[\"dbegin\"]) - np.min(b_matches[\"dbegin\"]) > min_seq_range): \n",
    "                    if (np.max(b_matches[\"qbegin\"]) - np.min(b_matches[\"qbegin\"]) > min_seq_range): \n",
    "                        if len(b_matches) > 2:\n",
    "                            #chr_dict[row[\"dname\"]].append(row[\"qname\"])\n",
    "                            split_reads.append(row[\"qname\"])\n",
    "                            read_sets.append(b_matches)\n",
    "                            print(str(len(split_reads)) + \"\\t\" + str(row[\"qname\"]))\n",
    "    return [read_sets, split_reads]\n",
    "\n",
    "def get_aligned_single_strand(df, max_offset):\n",
    "    min_seq_range = 200\n",
    "    read_len = 20000\n",
    "    read_sets = []\n",
    "    split_reads = []\n",
    "    #chr_dict = {k:[] for k in np.unique(df[\"dname\"])}\n",
    "\n",
    "    for index, row in df.iterrows():\n",
    "        query_matches = df[(df[\"qname\"] == row[\"qname\"]) & \n",
    "                           (df[\"dname\"] == row[\"dname\"])]\n",
    "        if (row[\"dname\"] not in [\"chrY\", \"chr16_KI270728v1_random\"]):\n",
    "            region_matches = query_matches[(query_matches[\"dbegin\"] > (row[\"dbegin\"] - row[\"qbegin\"] * 2)) & \n",
    "                                            (query_matches[\"dend\"] < row[\"dend\"] + read_len - row[\"qend\"])]\n",
    "            \n",
    "            b = row[\"b\"]\n",
    "            b_matches = region_matches[(region_matches[\"b\"] > b - max_offset) & (region_matches[\"b\"] < b + max_offset)]\n",
    "            if (np.max(b_matches[\"dbegin\"]) - np.min(b_matches[\"dbegin\"]) > min_seq_range): \n",
    "                if (np.max(b_matches[\"qbegin\"]) - np.min(b_matches[\"qbegin\"]) > min_seq_range): \n",
    "                    if len(b_matches) > 1:\n",
    "                        #chr_dict[row[\"dname\"]].append(row[\"qname\"])\n",
    "                        split_reads.append(row[\"qname\"])\n",
    "                        read_sets.append(b_matches)\n",
    "                        print(str(len(split_reads)) + \"\\t\" + str(row[\"qname\"]))\n",
    "    return [read_sets, split_reads]"
   ]
  },
  {
   "cell_type": "markdown",
   "id": "fd7aae59-6c32-4307-ae3b-b8047831a5c9",
   "metadata": {},
   "source": [
    "### Plot inversion"
   ]
  },
  {
   "cell_type": "code",
   "execution_count": null,
   "id": "85493c33-84f4-48da-bbeb-0df4da79e8b1",
   "metadata": {},
   "outputs": [],
   "source": [
    "def get_other_strand(variants, best_matches):\n",
    "    other_strand = \"-\"\n",
    "    if (best_matches[\"strand\"].iloc[0] == \"-\"):\n",
    "        other_strand = \"+\"\n",
    "\n",
    "    other_strand_matches = variants[(variants[\"qname\"] == best_matches[\"qname\"].iloc[0]) & \n",
    "                                    (variants[\"dname\"] == best_matches[\"dname\"].iloc[0]) & \n",
    "                                    (variants[\"strand\"] == other_strand)]\n",
    "\n",
    "    # not fur inverted duplications\n",
    "    other_strand_matches = other_strand_matches[~other_strand_matches[\"qbegin\"].isin(best_matches[\"qbegin\"])] \n",
    "    other_strand_matches = other_strand_matches[~other_strand_matches[\"qend\"].isin(best_matches[\"qend\"])]\n",
    "    return other_strand_matches"
   ]
  },
  {
   "cell_type": "code",
   "execution_count": null,
   "id": "887a6418-5f48-4f43-94c3-47b29da73d1c",
   "metadata": {},
   "outputs": [],
   "source": [
    "def plot_inversion(matches):\n",
    "    for index, row in matches.iterrows():\n",
    "        if row[\"strand\"] == \"+\":\n",
    "            plt.plot(np.array(row[[\"dbegin\", \"dend\"]]), np.array(row[[\"qbegin\", \"qend\"]]), 'b-', label = row[\"b\"])\n",
    "        else:\n",
    "            plt.plot(np.array(row[[\"dbegin\", \"dend\"]]), np.array(row[[\"qbegin\", \"qend\"]]), 'r-', label = row[\"b\"])\n",
    "\n",
    "    y_range = np.max(matches[\"qend\"]) - np.min(matches[\"qbegin\"])\n",
    "    x_range = np.max(matches[\"dend\"]) - np.min(matches[\"dbegin\"])\n",
    "\n",
    "    if (y_range > x_range):\n",
    "        plt.ylim(np.min(matches[\"qbegin\"]) - round(y_range * 0.1), np.max(matches[\"qend\"]) + round(y_range * 0.1))\n",
    "        x_mean = round((np.max(matches[\"dbegin\"]) + np.min(matches[\"dend\"])) / 2)\n",
    "        plt.xlim(x_mean - round(y_range * 1.1) / 2, x_mean + round(y_range * 1.1) / 2)\n",
    "    else:\n",
    "        plt.xlim(np.min(matches[\"dbegin\"]) - round(x_range * 0.1), np.max(matches[\"dend\"]) + round(x_range * 0.1))\n",
    "        y_mean = round((np.max(matches[\"qbegin\"]) + np.min(matches[\"qend\"])) / 2)\n",
    "        plt.ylim(y_mean - round(x_range * 1.1) / 2, y_mean + round(x_range * 1.1) / 2)\n",
    "    \n",
    "    \n",
    "    plt.xlabel(\"GRCh38\")\n",
    "    plt.ylabel(matches[\"qname\"].iloc[0])\n",
    "    plt.title(matches[\"dname\"].iloc[0])\n",
    "    plt.tight_layout()\n",
    "    plt.show()"
   ]
  },
  {
   "cell_type": "markdown",
   "id": "eea1facf-15f9-409d-a44f-b4efc3e6e34c",
   "metadata": {},
   "source": [
    "### Breakpoint"
   ]
  },
  {
   "cell_type": "code",
   "execution_count": null,
   "id": "987517ab-116c-4cdc-bfd0-a26ed4f072ba",
   "metadata": {},
   "outputs": [],
   "source": [
    "def get_best_aligned(df, max_offset, min_seq_count, min_seq_range, single_strand):\n",
    "    read_len = 20000\n",
    "    read_sets = []\n",
    "    split_reads = []\n",
    "    #chr_dict = {k:[] for k in np.unique(df[\"dname\"])}\n",
    "    df = df[~df[\"dname\"].isin([\"chrY\", \"chr16_KI270728v1_random\"])]    \n",
    "    for qname in np.unique(df.qname):\n",
    "        for dname in np.unique(df.dname):\n",
    "            best_query_set = []\n",
    "            best_score = 0\n",
    "            query_matches = df[(df[\"qname\"] == qname) & (df[\"dname\"] == dname)]\n",
    "            for index, row in query_matches.iterrows():\n",
    "                region_matches = query_matches[(query_matches[\"dbegin\"] > row[\"dbegin\"] - row[\"qbegin\"]) & \n",
    "                                                (query_matches[\"dend\"] < row[\"dend\"] + read_len - row[\"qend\"])].copy()\n",
    "                if (single_strand):\n",
    "                    split_reads.append(qname)\n",
    "                    read_sets.append(region_matches)\n",
    "                    print(str(len(split_reads)) + \"\\t\" + str(row[\"qname\"]) + \"\\t\" + str(row[\"dname\"]))\n",
    "                else:\n",
    "                    if (len(np.unique(region_matches[\"strand\"])) == 2):\n",
    "                        a = row[\"a\"]\n",
    "                        b = row[\"b\"]\n",
    "\n",
    "                        region_matches = region_matches[region_matches.strand == row.strand]\n",
    "                        #print(str(len(region_matches)) + \" matches in region\")\n",
    "                        \n",
    "                        x = (row[\"dbegin\"] + row[\"dend\"]) / 2\n",
    "                        # fit line of current match\n",
    "                        region_matches[\"horizontal_error\"] = abs( region_matches[\"qbegin\"] - (a * region_matches[\"dbegin\"] + b) )\n",
    "                        #print(region_matches)\n",
    "        \n",
    "                        # exclude outliers\n",
    "                        b_matches = region_matches[region_matches[\"horizontal_error\"] < max_offset]\n",
    "                        #print(str(len(b_matches)) + \" matches in alignment\")\n",
    "                        #print(\"DB range\" + str(np.max(b_matches[\"dbegin\"]) - np.min(b_matches[\"dbegin\"])))\n",
    "                        #print(\"Query range\" + str(np.max(b_matches[\"qbegin\"]) - np.min(b_matches[\"qbegin\"])))\n",
    "                        if (min_seq_count == 1 or np.max(b_matches[\"dbegin\"]) - np.min(b_matches[\"dbegin\"]) > min_seq_range): \n",
    "                            if (min_seq_count == 1 or np.max(b_matches[\"qbegin\"]) - np.min(b_matches[\"qbegin\"]) > min_seq_range): \n",
    "                                if len(b_matches) >= min_seq_count:\n",
    "                                    set_score = np.max(b_matches[\"qbegin\"]) - np.min(b_matches[\"qbegin\"])\n",
    "                                    if (set_score > best_score):\n",
    "                                        best_query_set = b_matches\n",
    "            \n",
    "            if (len(best_query_set) != 0):\n",
    "                split_reads.append(qname)\n",
    "                read_sets.append(best_query_set)\n",
    "                print(str(len(split_reads)) + \"\\t\" + str(row[\"qname\"]) + \"\\t\" + str(row[\"dname\"]))                                    \n",
    "    \n",
    "    return [read_sets, split_reads]\n",
    "\n",
    "def get_single_aligned(df, max_offset, min_seq_count, min_seq_range, single_strand):\n",
    "    read_len = 20000\n",
    "    read_sets = []\n",
    "    split_reads = []\n",
    "    #chr_dict = {k:[] for k in np.unique(df[\"dname\"])}\n",
    "    df = df[~df[\"dname\"].isin([\"chrY\", \"chr16_KI270728v1_random\"])]    \n",
    "    for qname in np.unique(df.qname):\n",
    "        best_query_set = []\n",
    "        best_score = 0    \n",
    "        for dname in np.unique(df.dname):\n",
    "            query_matches = df[(df[\"qname\"] == qname) & (df[\"dname\"] == dname)]\n",
    "            for index, row in query_matches.iterrows():\n",
    "                region_matches = query_matches[(query_matches[\"dbegin\"] > row[\"dbegin\"] - row[\"qbegin\"]) & \n",
    "                                                (query_matches[\"dend\"] < row[\"dend\"] + read_len - row[\"qend\"])].copy()\n",
    "                if (single_strand or len(np.unique(region_matches[\"strand\"])) == 2):\n",
    "                    a = row[\"a\"]\n",
    "                    b = row[\"b\"]\n",
    "\n",
    "                    region_matches = region_matches[region_matches.strand == row.strand]\n",
    "                    #print(str(len(region_matches)) + \" matches in region\")\n",
    "                        \n",
    "                    x = (row[\"dbegin\"] + row[\"dend\"]) / 2\n",
    "                    # fit line of current match\n",
    "                    region_matches[\"horizontal_error\"] = abs( region_matches[\"qbegin\"] - (a * region_matches[\"dbegin\"] + b) )\n",
    "                    #print(region_matches)\n",
    "        \n",
    "                    # exclude outliers\n",
    "                    b_matches = region_matches[region_matches[\"horizontal_error\"] < max_offset]\n",
    "                    #print(str(len(b_matches)) + \" matches in alignment\")\n",
    "                    #print(\"DB range\" + str(np.max(b_matches[\"dbegin\"]) - np.min(b_matches[\"dbegin\"])))\n",
    "                    #print(\"Query range\" + str(np.max(b_matches[\"qbegin\"]) - np.min(b_matches[\"qbegin\"])))\n",
    "                    if (min_seq_count == 1 or np.max(b_matches[\"dbegin\"]) - np.min(b_matches[\"dbegin\"]) > min_seq_range): \n",
    "                        if (min_seq_count == 1 or np.max(b_matches[\"qbegin\"]) - np.min(b_matches[\"qbegin\"]) > min_seq_range): \n",
    "                            if len(b_matches) >= min_seq_count:\n",
    "                                set_score = np.max(b_matches[\"qbegin\"]) - np.min(b_matches[\"qbegin\"])\n",
    "                                if (set_score > best_score):\n",
    "                                    best_query_set = b_matches\n",
    "            \n",
    "        if (len(best_query_set) != 0):\n",
    "            split_reads.append(qname)\n",
    "            read_sets.append(best_query_set)\n",
    "            print(str(len(split_reads)) + \"\\t\" + str(row[\"qname\"]) + \"\\t\" + str(row[\"dname\"]))                                    \n",
    "    \n",
    "    return [read_sets, split_reads]"
   ]
  },
  {
   "cell_type": "code",
   "execution_count": null,
   "id": "f2e1d96c-27a3-4515-9d80-34bdd68296c9",
   "metadata": {},
   "outputs": [],
   "source": [
    "def plot_all_inversions(read_sets, variants):\n",
    "    i = 0\n",
    "    other_set_sets = []\n",
    "    for best_matches in read_sets:\n",
    "        if (best_matches[\"dname\"].iloc[0] != \"false\"):\n",
    "            other_strand = \"-\"\n",
    "            if (best_matches[\"strand\"].iloc[0] == \"-\"):\n",
    "                other_strand = \"+\"\n",
    "\n",
    "            other_strand_matches = df[(df[\"qname\"] == best_matches[\"qname\"].iloc[0]) & \n",
    "                                      (df[\"dname\"] == best_matches[\"dname\"].iloc[0]) & \n",
    "                                      (df[\"strand\"] == other_strand)]\n",
    "\n",
    "            other_strand_matches = other_strand_matches[(other_strand_matches[\"dbegin\"] > (np.min(best_matches[\"dbegin\"]) - 20000)) & \n",
    "                                                (other_strand_matches[\"dbegin\"] < (np.max(best_matches[\"dbegin\"]) + 20000))]\n",
    "            print(\"Match count on other strand\\t\" + str(len(other_strand_matches)))\n",
    "            if (len(other_strand_matches) > 0):\n",
    "                other_read_sets, other_split_reads = get_single_aligned(other_strand_matches, \n",
    "                                                                        max_offset = 5000,\n",
    "                                                                        min_seq_count = 1, \n",
    "                                                                        min_seq_range = 100, \n",
    "                                                                        single_strand = True)\n",
    "                other_set_sets.append(other_read_sets)\n",
    "                \n",
    "                print(\"Other strand match set count\\t\" + str(len(other_set_sets)))\n",
    "                for other_best in other_read_sets:\n",
    "                    plot_inversion(pd.concat([best_matches, other_best]))\n",
    "            else:\n",
    "                other_set_sets.append([])\n",
    "            i += 1\n",
    "    return other_set_sets\n",
    "    \n",
    "def plot_breakpoint(df, above_set, below_set, inv_set):\n",
    "    \n",
    "    for index, row in df[df[\"qname\"] == above_set[\"qname\"].iloc[0]].iterrows():\n",
    "        if row[\"strand\"] == \"+\":\n",
    "            plt.plot(np.array(row[[\"dbegin\", \"dend\"]]), np.array(row[[\"qbegin\", \"qend\"]]), 'b-', linewidth = 0.2)\n",
    "        else:\n",
    "            plt.plot(np.array(row[[\"dbegin\", \"dend\"]]), np.array(row[[\"qbegin\", \"qend\"]]), 'r-', linewidth = 0.2)\n",
    "    \n",
    "    matches = pd.concat([above_set, below_set, inv_set])\n",
    "    for index, row in pd.concat([above_set, below_set]).iterrows():\n",
    "        plt.plot(np.array(row[[\"dbegin\", \"dend\"]]), np.array(row[[\"qbegin\", \"qend\"]]), 'b-')\n",
    "\n",
    "    for index, row in inv_set.iterrows():\n",
    "        plt.plot(np.array(row[[\"dbegin\", \"dend\"]]), np.array(row[[\"qbegin\", \"qend\"]]), 'r-')\n",
    "\n",
    "    plt.plot([np.min(below_set[\"dbegin\"]), np.max(below_set[\"dend\"])], [np.min(below_set[\"qbegin\"]), np.max(below_set[\"qend\"])], 'b-', linewidth=0.3)\n",
    "    plt.plot([np.min(above_set[\"dbegin\"]), np.max(above_set[\"dend\"])], [np.min(above_set[\"qbegin\"]), np.max(above_set[\"qend\"])], 'b-', linewidth=0.3)\n",
    "    plt.plot([np.max(inv_set[\"dend\"]), np.min(inv_set[\"dbegin\"])], [np.min(inv_set[\"qbegin\"]), np.max(inv_set[\"qend\"])], 'r-', linewidth=0.3)\n",
    "\n",
    "    y_range = np.max(matches[\"qend\"]) - np.min(matches[\"qbegin\"])\n",
    "    x_range = np.max(matches[\"dend\"]) - np.min(matches[\"dbegin\"])\n",
    "\n",
    "    if (y_range > x_range):\n",
    "        plt.ylim(np.min(matches[\"qbegin\"]) - round(y_range * 0.1), np.max(matches[\"qend\"]) + round(y_range * 0.1))\n",
    "        x_mean = round((np.max(matches[\"dbegin\"]) + np.min(matches[\"dend\"])) / 2)\n",
    "        plt.xlim(x_mean - round(y_range * 1.1) / 2, x_mean + round(y_range * 1.1) / 2)\n",
    "    else:\n",
    "        plt.xlim(np.min(matches[\"dbegin\"]) - round(x_range * 0.1), np.max(matches[\"dend\"]) + round(x_range * 0.1))\n",
    "        y_mean = round((np.max(matches[\"qbegin\"]) + np.min(matches[\"qend\"])) / 2)\n",
    "        plt.ylim(y_mean - round(x_range * 1.1) / 2, y_mean + round(x_range * 1.1) / 2)\n",
    "    \n",
    "    \n",
    "    plt.xlabel(\"GRCh38\")\n",
    "    plt.ylabel(matches[\"qname\"].iloc[0])\n",
    "    plt.title(matches[\"dname\"].iloc[0])\n",
    "    plt.tight_layout()\n",
    "    plt.savefig(matches[\"dname\"].iloc[0] + '.png', dpi = 250)\n",
    "    plt.show()"
   ]
  },
  {
   "cell_type": "markdown",
   "id": "889be1e4-6323-4473-a661-f92f652c6d01",
   "metadata": {},
   "source": [
    "### HG00732"
   ]
  },
  {
   "cell_type": "code",
   "execution_count": null,
   "id": "f5db059e-878d-4b1e-bc91-56c172e5e988",
   "metadata": {},
   "outputs": [],
   "source": [
    "pid = \"HG00732\"\n",
    "df = read_stellar_output(pid + \"_var.fp.gff\")\n",
    "len(df)"
   ]
  },
  {
   "cell_type": "code",
   "execution_count": null,
   "id": "875da514-9e2b-417a-8b38-b9b9c958d37c",
   "metadata": {},
   "outputs": [],
   "source": [
    "selected_df = pd.read_csv(pid + \"_reads_of_interest.tsv\", sep = \"\\t\", header = None)\n",
    "selected_df.columns = [\"qname\", \"dname\"]\n",
    "selected_df.head()"
   ]
  },
  {
   "cell_type": "code",
   "execution_count": null,
   "id": "8c37de6d-a42c-436b-9cfb-4f4febbe948f",
   "metadata": {},
   "outputs": [],
   "source": [
    "df = df[df[\"dname\"].isin(selected_df[\"dname\"])]\n",
    "df = df[df[\"qname\"].isin(selected_df[\"qname\"])]\n",
    "df.head()"
   ]
  },
  {
   "cell_type": "code",
   "execution_count": null,
   "id": "b8eb208d-d0bc-4542-9b5c-6536270bba14",
   "metadata": {},
   "outputs": [],
   "source": [
    "df = get_split_variants(df)\n",
    "len(df)"
   ]
  },
  {
   "cell_type": "code",
   "execution_count": null,
   "id": "9b6c5e59-4a10-4f2f-8710-429764bb173f",
   "metadata": {},
   "outputs": [],
   "source": [
    "df = switch_reverse_coord(df)\n",
    "df = fit_line_coord(df)\n",
    "df.head()"
   ]
  },
  {
   "cell_type": "code",
   "execution_count": null,
   "id": "fdda2711-e903-427a-928a-d31867acf80c",
   "metadata": {},
   "outputs": [],
   "source": [
    "read_sets, split_reads = get_best_aligned(df, max_offset = 1000, \n",
    "                                              min_seq_count = 2, \n",
    "                                              min_seq_range = 1000, \n",
    "                                              single_strand = False)\n",
    "len(split_reads)"
   ]
  },
  {
   "cell_type": "code",
   "execution_count": null,
   "id": "30def5ec-280b-4e04-9425-b793b8d14234",
   "metadata": {
    "scrolled": true
   },
   "outputs": [],
   "source": [
    "other_set_sets = plot_all_inversions(read_sets, df)"
   ]
  },
  {
   "cell_type": "code",
   "execution_count": null,
   "id": "cb40139d-f24e-4579-9a38-ad7bf160e68c",
   "metadata": {},
   "outputs": [],
   "source": [
    "for inv_sets in other_set_sets:\n",
    "    for inv_set in inv_sets:\n",
    "        qname = inv_set.qname.iloc[0]\n",
    "        qbreakpoint = np.max(inv_set[\"qend\"])\n",
    "        above_breakpoint = df[(df[\"qname\"] == qname) & (df[\"strand\"] == \"+\") & (df[\"qbegin\"] >= qbreakpoint * 0.99)]\n",
    "        below_breakpoint = df[(df[\"qname\"] == qname) & (df[\"strand\"] == \"+\") & (df[\"qend\"] <= qbreakpoint * 1.01)]\n",
    "\n",
    "        above_read_sets, above_reads = get_single_aligned(above_breakpoint, max_offset = 1000,\n",
    "                                                            min_seq_count = 2,\n",
    "                                                            min_seq_range = 20,\n",
    "                                                            single_strand = True)\n",
    "        below_read_sets, below_reads = get_single_aligned(below_breakpoint, max_offset = 1000,\n",
    "                                                            min_seq_count = 2,\n",
    "                                                            min_seq_range = 20,\n",
    "                                                            single_strand = True)\n",
    "\n",
    "        for i in range(len(above_read_sets)):\n",
    "            for j in range(len(below_read_sets)):\n",
    "                above_set = above_read_sets[i]\n",
    "                below_set = pd.concat([below_read_sets[j], df[(df[\"qbegin\"] < qbreakpoint) &  (df[\"qend\"] > qbreakpoint)]])\n",
    "                plot_breakpoint(df, above_set, below_set, inv_set)"
   ]
  },
  {
   "cell_type": "markdown",
   "id": "ba81b76b-8ad1-48ff-977b-85d81bce27c8",
   "metadata": {},
   "source": [
    "### HG00731"
   ]
  },
  {
   "cell_type": "code",
   "execution_count": null,
   "id": "76c8d53a-2953-467f-b7d8-4b7487043fdf",
   "metadata": {},
   "outputs": [],
   "source": [
    "pid = \"HG00731\"\n",
    "df = read_stellar_output(pid + \"_var.fp.gff\")\n",
    "len(df)"
   ]
  },
  {
   "cell_type": "code",
   "execution_count": null,
   "id": "ba506bca-12e9-40ed-880e-7d9dd83d6c90",
   "metadata": {},
   "outputs": [],
   "source": [
    "selected_df = pd.read_csv(pid + \"_reads_of_interest.tsv\", sep = \"\\t\", header = None)\n",
    "selected_df.columns = [\"qname\", \"dname\"]\n",
    "selected_df.head()"
   ]
  },
  {
   "cell_type": "code",
   "execution_count": null,
   "id": "0a0ba4dc-b150-4edc-80b6-4f1b9f633a3a",
   "metadata": {},
   "outputs": [],
   "source": [
    "df = df[df[\"dname\"].isin(selected_df[\"dname\"])]\n",
    "df = df[df[\"qname\"].isin(selected_df[\"qname\"])]\n",
    "df = get_split_variants(df)\n",
    "len(df)"
   ]
  },
  {
   "cell_type": "code",
   "execution_count": null,
   "id": "a6d79b88-b00b-4480-a960-2d0ff9d553eb",
   "metadata": {},
   "outputs": [],
   "source": [
    "df = switch_reverse_coord(df)\n",
    "df = fit_line_coord(df)\n",
    "df.head()"
   ]
  },
  {
   "cell_type": "code",
   "execution_count": null,
   "id": "6e2d5c8b-f08d-4a51-a7f5-aee12434107f",
   "metadata": {},
   "outputs": [],
   "source": [
    "read_sets, split_reads = get_best_aligned(df, max_offset = 1000, \n",
    "                                              min_seq_count = 2, \n",
    "                                              min_seq_range = 1000, \n",
    "                                              single_strand = False)\n",
    "len(split_reads)"
   ]
  },
  {
   "cell_type": "code",
   "execution_count": null,
   "id": "686eadac-cae5-4f42-a37f-cad5453d4a54",
   "metadata": {
    "scrolled": true
   },
   "outputs": [],
   "source": [
    "other_set_sets = plot_all_inversions(read_sets, df)"
   ]
  },
  {
   "cell_type": "markdown",
   "id": "ac79203e-a68e-44e2-b532-c94f922a9cf1",
   "metadata": {},
   "source": [
    "#### Breakpoint for inverted duplication"
   ]
  },
  {
   "cell_type": "code",
   "execution_count": null,
   "id": "aab880ba-b886-4c7b-b166-418df48020c0",
   "metadata": {},
   "outputs": [],
   "source": [
    "for inv_sets in other_set_sets:\n",
    "    for inv_set in inv_sets:\n",
    "        qname = inv_set.qname.iloc[0]\n",
    "        qbreakpoint = np.max(inv_set[\"qend\"])\n",
    "        above_breakpoint = df[(df[\"qname\"] == qname) & (df[\"strand\"] == \"+\") & (df[\"qbegin\"] >= qbreakpoint * 0.99)]\n",
    "        below_breakpoint = df[(df[\"qname\"] == qname) & (df[\"strand\"] == \"+\") & (df[\"qend\"] <= qbreakpoint * 1.01)]\n",
    "\n",
    "        above_read_sets, above_reads = get_best_aligned(above_breakpoint, max_offset = 1000,\n",
    "                                                        min_seq_count = 2,\n",
    "                                                        min_seq_range = 20,\n",
    "                                                        single_strand = True)\n",
    "        below_read_sets, below_reads = get_best_aligned(below_breakpoint, max_offset = 1000,\n",
    "                                                        min_seq_count = 2,\n",
    "                                                        min_seq_range = 20,\n",
    "                                                        single_strand = True)\n",
    "\n",
    "        for i in range(len(above_read_sets)):\n",
    "            for j in range(len(below_read_sets)):\n",
    "                above_set = above_read_sets[i]\n",
    "                below_set = pd.concat([below_read_sets[j], df[(df[\"qbegin\"] < qbreakpoint) &  (df[\"qend\"] > qbreakpoint)]])\n",
    "                plot_breakpoint(df, above_set, below_set, inv_set)\n",
    "    "
   ]
  },
  {
   "cell_type": "markdown",
   "id": "40e2ceca-fd83-4d21-a659-38d9acbc23e6",
   "metadata": {},
   "source": [
    "### NA19238"
   ]
  },
  {
   "cell_type": "code",
   "execution_count": null,
   "id": "935a6950-d837-4843-a3b1-02c7fa763ced",
   "metadata": {},
   "outputs": [],
   "source": [
    "pid = \"NA19238\"\n",
    "df = read_stellar_output(pid + \"_var.fp.gff\")\n",
    "len(df)"
   ]
  },
  {
   "cell_type": "code",
   "execution_count": null,
   "id": "a4b45b5e-981b-46c9-8397-567e1775dbdc",
   "metadata": {},
   "outputs": [],
   "source": [
    "selected_df = pd.read_csv(pid + \"_reads_of_interest.tsv\", sep = \"\\t\", header = None)\n",
    "selected_df.columns = [\"qname\", \"dname\"]\n",
    "selected_df.head()"
   ]
  },
  {
   "cell_type": "code",
   "execution_count": null,
   "id": "567a0a0d-bb50-4ec6-8cc6-653797f0f6d9",
   "metadata": {},
   "outputs": [],
   "source": [
    "df = df[df[\"dname\"].isin(selected_df[\"dname\"])]\n",
    "df = df[df[\"qname\"].isin(selected_df[\"qname\"])]\n",
    "df = get_split_variants(df)\n",
    "len(df)"
   ]
  },
  {
   "cell_type": "code",
   "execution_count": null,
   "id": "4ddd0b04-b800-4e9f-bc56-581c88001b9f",
   "metadata": {},
   "outputs": [],
   "source": [
    "df = switch_reverse_coord(df)\n",
    "df = fit_line_coord(df)\n",
    "df.head()"
   ]
  },
  {
   "cell_type": "code",
   "execution_count": null,
   "id": "3aee8b90-2746-4e7f-a7dd-16810fe3d08c",
   "metadata": {},
   "outputs": [],
   "source": [
    "read_sets, split_reads = get_best_aligned(df, max_offset = 2000, \n",
    "                                              min_seq_count = 2, \n",
    "                                              min_seq_range = 20, \n",
    "                                              single_strand = False)\n",
    "len(split_reads)"
   ]
  },
  {
   "cell_type": "code",
   "execution_count": null,
   "id": "68eea11b-0f88-4c03-8fb1-70658e401f9a",
   "metadata": {},
   "outputs": [],
   "source": [
    "other_set_sets = plot_all_inversions(read_sets, df)"
   ]
  },
  {
   "cell_type": "code",
   "execution_count": null,
   "id": "16ec4273-f3da-44d1-97c8-9251547bc08f",
   "metadata": {},
   "outputs": [],
   "source": [
    "for inv_sets in other_set_sets:\n",
    "    for inv_set in inv_sets:\n",
    "        qname = inv_set.qname.iloc[0]\n",
    "        qbreakpoint = np.max(inv_set[\"qend\"])\n",
    "        above_breakpoint = df[(df[\"qname\"] == qname) & (df[\"strand\"] == \"+\") & (df[\"qbegin\"] >= qbreakpoint * 0.99)]\n",
    "        below_breakpoint = df[(df[\"qname\"] == qname) & (df[\"strand\"] == \"+\") & (df[\"qend\"] <= qbreakpoint * 1.01)]\n",
    "\n",
    "        above_read_sets, above_reads = get_single_aligned(above_breakpoint, max_offset = 2000,\n",
    "                                                        min_seq_count = 2,\n",
    "                                                        min_seq_range = 20,\n",
    "                                                        single_strand = True)\n",
    "        below_read_sets, below_reads = get_single_aligned(below_breakpoint, max_offset = 2000,\n",
    "                                                        min_seq_count = 2,\n",
    "                                                        min_seq_range = 20,\n",
    "                                                        single_strand = True)\n",
    "\n",
    "        for i in range(len(above_read_sets)):\n",
    "            for j in range(len(below_read_sets)):\n",
    "                above_set = above_read_sets[i]\n",
    "                below_set = pd.concat([below_read_sets[j], df[(df[\"qbegin\"] < qbreakpoint) &  (df[\"qend\"] > qbreakpoint)]])\n",
    "                plot_breakpoint(df, above_set, below_set, inv_set)"
   ]
  },
  {
   "cell_type": "markdown",
   "id": "190becfe-3bf3-43cb-bcdf-bf6ccb18716d",
   "metadata": {},
   "source": [
    "### NA19239"
   ]
  },
  {
   "cell_type": "code",
   "execution_count": null,
   "id": "eb7318c2-5280-465d-b5f6-7cdbeecf7e76",
   "metadata": {},
   "outputs": [],
   "source": [
    "pid = \"NA19239\"\n",
    "df = read_stellar_output(pid + \"_var.fp.gff\")\n",
    "len(df)"
   ]
  },
  {
   "cell_type": "code",
   "execution_count": null,
   "id": "5b8f2c06-52eb-4227-8098-52059e6e7512",
   "metadata": {},
   "outputs": [],
   "source": [
    "df = get_split_variants(df)\n",
    "len(df)"
   ]
  },
  {
   "cell_type": "code",
   "execution_count": null,
   "id": "c11eb94f-f93e-44f9-8da3-b53f9a2eaa77",
   "metadata": {},
   "outputs": [],
   "source": [
    "df = switch_reverse_coord(df)\n",
    "df = fit_line_coord(df)\n",
    "df.head()"
   ]
  },
  {
   "cell_type": "code",
   "execution_count": null,
   "id": "488dad69-b764-4b8b-a09c-2520eb70e143",
   "metadata": {},
   "outputs": [],
   "source": [
    "read_sets, split_reads = get_best_aligned(df, max_offset = 1500, \n",
    "                                              min_seq_count = 3, \n",
    "                                              min_seq_range = 100, \n",
    "                                              single_strand = False)\n",
    "len(split_reads)"
   ]
  },
  {
   "cell_type": "code",
   "execution_count": null,
   "id": "258428ad-64bb-405e-b82a-874284bebd0e",
   "metadata": {
    "scrolled": true
   },
   "outputs": [],
   "source": [
    "other_set_sets = plot_all_inversions(read_sets, df)"
   ]
  },
  {
   "cell_type": "code",
   "execution_count": null,
   "id": "bb28dd8d-03fd-40e8-8d07-d879204bb7a9",
   "metadata": {},
   "outputs": [],
   "source": [
    "for inv_sets in other_set_sets:\n",
    "    for inv_set in inv_sets:\n",
    "        qname = inv_set.qname.iloc[0]\n",
    "        qbreakpoint = np.max(inv_set[\"qend\"])\n",
    "        region_begin = inv_set.dbegin.iloc[0]\n",
    "        above_breakpoint = df[(df[\"qname\"] == qname) & (df[\"strand\"] == \"+\") & (df[\"qbegin\"] >= qbreakpoint * 0.99) & (df[\"dbegin\"] > region_begin - 20000) & (df[\"dbegin\"] < region_begin + 20000)]\n",
    "        below_breakpoint = df[(df[\"qname\"] == qname) & (df[\"strand\"] == \"+\") & (df[\"qend\"] <= qbreakpoint * 1.01) & (df[\"dbegin\"] > region_begin - 20000) & (df[\"dbegin\"] < region_begin + 20000)]\n",
    "\n",
    "        above_read_sets, above_reads = get_best_aligned(above_breakpoint, max_offset = 1500,\n",
    "                                                        min_seq_count = 2,\n",
    "                                                        min_seq_range = 20,\n",
    "                                                        single_strand = True)\n",
    "        below_read_sets, below_reads = get_best_aligned(below_breakpoint, max_offset = 1500,\n",
    "                                                        min_seq_count = 2,\n",
    "                                                        min_seq_range = 20,\n",
    "                                                        single_strand = True)\n",
    "\n",
    "        for i in range(len(above_read_sets)):\n",
    "            for j in range(len(below_read_sets)):\n",
    "                above_set = above_read_sets[i]\n",
    "                below_set = pd.concat([below_read_sets[j], df[(df[\"qbegin\"] < 1000) &  (df[\"qend\"] > 1000)]])\n",
    "                plot_breakpoint(df, above_set, below_set, inv_set)"
   ]
  }
 ],
 "metadata": {
  "kernelspec": {
   "display_name": "Python 3 (ipykernel)",
   "language": "python",
   "name": "python3"
  },
  "language_info": {
   "codemirror_mode": {
    "name": "ipython",
    "version": 3
   },
   "file_extension": ".py",
   "mimetype": "text/x-python",
   "name": "python",
   "nbconvert_exporter": "python",
   "pygments_lexer": "ipython3",
   "version": "3.12.8"
  }
 },
 "nbformat": 4,
 "nbformat_minor": 5
}
