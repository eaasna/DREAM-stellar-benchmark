{
 "cells": [
  {
   "cell_type": "code",
   "execution_count": 42,
   "id": "148e1224-48fb-4850-b5f1-4b8da59d6c88",
   "metadata": {},
   "outputs": [],
   "source": [
    "import pandas as pd\n",
    "import numpy as np \n",
    "import matplotlib.pyplot as plt\n",
    "import statistics"
   ]
  },
  {
   "cell_type": "markdown",
   "id": "6d578692-af50-4a07-b18e-b6209dc487ef",
   "metadata": {},
   "source": [
    "## Structural variant gold set"
   ]
  },
  {
   "cell_type": "code",
   "execution_count": 3,
   "id": "690289ef-5c44-40fd-b873-13c96ae722e0",
   "metadata": {},
   "outputs": [],
   "source": [
    "with open(\"hsvp.variant.lengths\") as file:\n",
    "    lines = [line.rstrip() for line in file]\n",
    "sv_lens = list(map(int, lines))"
   ]
  },
  {
   "cell_type": "code",
   "execution_count": 4,
   "id": "7f287c03-5f2e-480f-9a82-1ab4d74d31fd",
   "metadata": {},
   "outputs": [
    {
     "data": {
      "text/plain": [
       "54990.26004894753"
      ]
     },
     "execution_count": 4,
     "metadata": {},
     "output_type": "execute_result"
    }
   ],
   "source": [
    "statistics.stdev(sv_lens)"
   ]
  },
  {
   "cell_type": "code",
   "execution_count": 5,
   "id": "50e3c17a-5ef5-4140-8dfe-1611f46ed964",
   "metadata": {},
   "outputs": [
    {
     "data": {
      "text/plain": [
       "17373620"
      ]
     },
     "execution_count": 5,
     "metadata": {},
     "output_type": "execute_result"
    }
   ],
   "source": [
    "np.max(sv_lens)"
   ]
  },
  {
   "cell_type": "code",
   "execution_count": 6,
   "id": "212325de-9c4c-465e-b43c-acfa83172d73",
   "metadata": {},
   "outputs": [
    {
     "data": {
      "text/plain": [
       "50"
      ]
     },
     "execution_count": 6,
     "metadata": {},
     "output_type": "execute_result"
    }
   ],
   "source": [
    "np.min(sv_lens)"
   ]
  },
  {
   "cell_type": "code",
   "execution_count": 8,
   "id": "64cb7cc0-cc28-4f83-b5eb-c68e7e7a6f92",
   "metadata": {},
   "outputs": [
    {
     "data": {
      "text/plain": [
       "1061.0917464448369"
      ]
     },
     "execution_count": 8,
     "metadata": {},
     "output_type": "execute_result"
    }
   ],
   "source": [
    "np.mean(sv_lens)"
   ]
  },
  {
   "cell_type": "code",
   "execution_count": 2,
   "id": "0d677722-ed1f-4ee3-b895-3f5ccced16cf",
   "metadata": {},
   "outputs": [
    {
     "ename": "NameError",
     "evalue": "name 'sv_lens' is not defined",
     "output_type": "error",
     "traceback": [
      "\u001b[0;31m---------------------------------------------------------------------------\u001b[0m",
      "\u001b[0;31mNameError\u001b[0m                                 Traceback (most recent call last)",
      "Cell \u001b[0;32mIn[2], line 1\u001b[0m\n\u001b[0;32m----> 1\u001b[0m np\u001b[38;5;241m.\u001b[39mmedian(\u001b[43msv_lens\u001b[49m)\n",
      "\u001b[0;31mNameError\u001b[0m: name 'sv_lens' is not defined"
     ]
    }
   ],
   "source": [
    "np.median(sv_lens)"
   ]
  },
  {
   "cell_type": "markdown",
   "id": "6196fe59-8cf4-45b2-b1bc-7770663e2514",
   "metadata": {},
   "source": [
    "## Inversions from valik"
   ]
  },
  {
   "cell_type": "code",
   "execution_count": 111,
   "id": "3f896e7b-9182-4905-b11e-0c4339c70e31",
   "metadata": {},
   "outputs": [],
   "source": [
    "SMALL_SIZE = 14\n",
    "MEDIUM_SIZE = 16\n",
    "BIGGER_SIZE = 18\n",
    "\n",
    "plt.rc('font', size=MEDIUM_SIZE)          # controls default text sizes\n",
    "plt.rc('axes', titlesize=SMALL_SIZE)     # fontsize of the axes title\n",
    "plt.rc('axes', labelsize=SMALL_SIZE)    # fontsize of the x and y labels\n",
    "plt.rc('xtick', labelsize=SMALL_SIZE)    # fontsize of the tick labels\n",
    "plt.rc('ytick', labelsize=SMALL_SIZE)    # fontsize of the tick labels\n",
    "plt.rc('legend', fontsize=SMALL_SIZE)    # legend fontsize\n",
    "plt.rc('figure', titlesize=BIGGER_SIZE)  # fontsize of the figure title\n",
    "\n",
    "c_darkblue = \"#4c6c9c\"\n",
    "c_darkgreen = \"#5e8f7b\"\n",
    "c_purple = \"#947db0\""
   ]
  },
  {
   "cell_type": "code",
   "execution_count": 372,
   "id": "f397a83b-7224-45e8-b45c-8ee4fc40bf4a",
   "metadata": {},
   "outputs": [],
   "source": [
    "def read_stellar_output(filename):\n",
    "    df = pd.read_csv(filename, sep = \"\\t\", header = None)\n",
    "    df.drop([1, 2, 7], axis = 1, inplace = True) \n",
    "    df.columns = [\"dname\", \"dbegin\", \"dend\", \"percid\", \"strand\", \"attr\"]\n",
    "    df[\"len\"] = np.abs(df[\"dend\"] - df[\"dbegin\"])\n",
    "    df[['qname','seq2Range', 'evalue', 'cigar', 'mutations']] = df['attr'].str.split(';',expand=True)\n",
    "    df[[\"qbegin\", \"qend\"]] = df[\"seq2Range\"].str.removeprefix(\"seq2Range=\").str.split(',',expand=True)\n",
    "    df.drop([\"cigar\", \"mutations\", \"evalue\", \"attr\", \"seq2Range\"], axis = 1, inplace = True)\n",
    "    for col in [\"dbegin\", \"dend\", \"qbegin\", \"qend\"]:\n",
    "        df[col] = pd.to_numeric(df[col])\n",
    "    return df"
   ]
  },
  {
   "cell_type": "code",
   "execution_count": 394,
   "id": "e2006348-6475-4fbc-b673-cc085bc7c857",
   "metadata": {},
   "outputs": [],
   "source": [
    "def line_params(best_matches):\n",
    "    i = 0\n",
    "\n",
    "    x1 = best_matches[\"dbegin\"].iloc[i]\n",
    "    x2 = best_matches[\"dend\"].iloc[i]\n",
    "    y1 = best_matches[\"qbegin\"].iloc[i]\n",
    "    y2 = best_matches[\"qend\"].iloc[i]\n",
    "\n",
    "    a = (y2 - y1) / (x2 - x1)\n",
    "    b = y1 - a * x1\n",
    "    return [a, b]\n",
    "\n",
    "def get_line(a, b):\n",
    "    y_line = [0, 14000]\n",
    "    x_line = []\n",
    "    for y in y_line:\n",
    "        x_line.append((y - b) / a)\n",
    "    return x_line\n",
    "\n",
    "def plot_matches_on_line(matches, best, x_line, y_line):\n",
    "    for index, row in matches.iterrows():\n",
    "        plt.plot(np.array(row[[\"dbegin\", \"dend\"]]), np.array(row[[\"qbegin\", \"qend\"]]), 'b-')\n",
    "\n",
    "    for index, row in best.iterrows():\n",
    "        plt.plot(np.array(row[[\"dbegin\", \"dend\"]]), np.array(row[[\"qbegin\", \"qend\"]]), 'r-')\n",
    "\n",
    "    plt.plot(x_line, y_line, 'y-')\n",
    "    locs, labels = plt.xticks()\n",
    "\n",
    "    plt.xticks(locs, labels, rotation = 20)\n",
    "\n",
    "    plt.xlabel(\"GRCh38\")\n",
    "    plt.ylabel(best[\"qname\"].iloc[0])\n",
    "    plt.title(best[\"dname\"].iloc[0])\n",
    "    plt.tight_layout()\n",
    "    plt.show()"
   ]
  },
  {
   "cell_type": "code",
   "execution_count": 395,
   "id": "613d09d8-8eca-49c5-bbc3-eaa5a20e9377",
   "metadata": {},
   "outputs": [],
   "source": [
    "pid = \"NA19238\"\n",
    "l = 50\n",
    "e = \"0.02\"\n",
    "variants = read_stellar_output(pid + \"_l\" + str(l) + \"_e\" + e + \"_var.fp.gff\")\n",
    "mini_variants = variants.head()"
   ]
  },
  {
   "cell_type": "code",
   "execution_count": 396,
   "id": "7b23f2ea-89d6-48ba-bb06-0fa022953857",
   "metadata": {},
   "outputs": [
    {
     "data": {
      "text/plain": [
       "32481"
      ]
     },
     "execution_count": 396,
     "metadata": {},
     "output_type": "execute_result"
    }
   ],
   "source": [
    "len(variants)"
   ]
  },
  {
   "cell_type": "code",
   "execution_count": 397,
   "id": "bdc5d5b0-6ef2-4e80-b9f9-ca7139283865",
   "metadata": {
    "scrolled": true
   },
   "outputs": [
    {
     "data": {
      "text/plain": [
       "31343"
      ]
     },
     "execution_count": 397,
     "metadata": {},
     "output_type": "execute_result"
    }
   ],
   "source": [
    "split_reads = []\n",
    "for qname in np.unique(variants[\"qname\"]): \n",
    "    query_matches = variants[variants[\"qname\"] == qname]\n",
    "    for dname in np.unique(query_matches[\"dname\"]):\n",
    "        chr_query_matches = query_matches[query_matches[\"dname\"] == dname]\n",
    "        if (len(chr_query_matches) > 3):\n",
    "            if (len(np.unique(chr_query_matches[\"strand\"])) == 2):\n",
    "                split_reads.append(qname)\n",
    "                break\n",
    "\n",
    "variants = variants[variants['qname'].isin(split_reads)]\n",
    "len(variants)"
   ]
  },
  {
   "cell_type": "code",
   "execution_count": 426,
   "id": "c9908455-fb8f-4064-9e09-82da16934b3b",
   "metadata": {},
   "outputs": [
    {
     "data": {
      "text/html": [
       "<div>\n",
       "<style scoped>\n",
       "    .dataframe tbody tr th:only-of-type {\n",
       "        vertical-align: middle;\n",
       "    }\n",
       "\n",
       "    .dataframe tbody tr th {\n",
       "        vertical-align: top;\n",
       "    }\n",
       "\n",
       "    .dataframe thead th {\n",
       "        text-align: right;\n",
       "    }\n",
       "</style>\n",
       "<table border=\"1\" class=\"dataframe\">\n",
       "  <thead>\n",
       "    <tr style=\"text-align: right;\">\n",
       "      <th></th>\n",
       "      <th>dname</th>\n",
       "      <th>dbegin</th>\n",
       "      <th>dend</th>\n",
       "      <th>percid</th>\n",
       "      <th>strand</th>\n",
       "      <th>len</th>\n",
       "      <th>qname</th>\n",
       "      <th>qbegin</th>\n",
       "      <th>qend</th>\n",
       "      <th>a</th>\n",
       "      <th>b</th>\n",
       "    </tr>\n",
       "  </thead>\n",
       "  <tbody>\n",
       "    <tr>\n",
       "      <th>6555</th>\n",
       "      <td>chr5</td>\n",
       "      <td>49630768</td>\n",
       "      <td>49631528</td>\n",
       "      <td>98.0289</td>\n",
       "      <td>+</td>\n",
       "      <td>760</td>\n",
       "      <td>m64039_190830_040857/173474075/ccs</td>\n",
       "      <td>1</td>\n",
       "      <td>760</td>\n",
       "      <td>0.998684</td>\n",
       "      <td>-4.956546e+07</td>\n",
       "    </tr>\n",
       "  </tbody>\n",
       "</table>\n",
       "</div>"
      ],
      "text/plain": [
       "     dname    dbegin      dend   percid strand  len  \\\n",
       "6555  chr5  49630768  49631528  98.0289      +  760   \n",
       "\n",
       "                                   qname  qbegin  qend         a             b  \n",
       "6555  m64039_190830_040857/173474075/ccs       1   760  0.998684 -4.956546e+07  "
      ]
     },
     "execution_count": 426,
     "metadata": {},
     "output_type": "execute_result"
    }
   ],
   "source": [
    "best_matches = variants[variants[\"len\"] == np.max(variants[\"len\"])]\n",
    "best_matches"
   ]
  },
  {
   "cell_type": "code",
   "execution_count": 421,
   "id": "9fea9b7c-2fb9-46a0-8d22-27ae232985ca",
   "metadata": {},
   "outputs": [
    {
     "data": {
      "text/plain": [
       "[0.9986842105263158, -49565463.35789474]"
      ]
     },
     "execution_count": 421,
     "metadata": {},
     "output_type": "execute_result"
    }
   ],
   "source": [
    "a, b = line_params(best_matches)\n",
    "[a, b]"
   ]
  },
  {
   "cell_type": "code",
   "execution_count": 425,
   "id": "25b7e55b-196b-45fa-b6c0-dba2a852de9e",
   "metadata": {},
   "outputs": [
    {
     "data": {
      "text/html": [
       "<div>\n",
       "<style scoped>\n",
       "    .dataframe tbody tr th:only-of-type {\n",
       "        vertical-align: middle;\n",
       "    }\n",
       "\n",
       "    .dataframe tbody tr th {\n",
       "        vertical-align: top;\n",
       "    }\n",
       "\n",
       "    .dataframe thead th {\n",
       "        text-align: right;\n",
       "    }\n",
       "</style>\n",
       "<table border=\"1\" class=\"dataframe\">\n",
       "  <thead>\n",
       "    <tr style=\"text-align: right;\">\n",
       "      <th></th>\n",
       "      <th>dname</th>\n",
       "      <th>dbegin</th>\n",
       "      <th>dend</th>\n",
       "      <th>percid</th>\n",
       "      <th>strand</th>\n",
       "      <th>len</th>\n",
       "      <th>qname</th>\n",
       "      <th>qbegin</th>\n",
       "      <th>qend</th>\n",
       "      <th>a</th>\n",
       "      <th>b</th>\n",
       "    </tr>\n",
       "  </thead>\n",
       "  <tbody>\n",
       "    <tr>\n",
       "      <th>0</th>\n",
       "      <td>chr1</td>\n",
       "      <td>788752</td>\n",
       "      <td>788808</td>\n",
       "      <td>98.2456</td>\n",
       "      <td>-</td>\n",
       "      <td>56</td>\n",
       "      <td>m64039_190830_040857/78318003/ccs</td>\n",
       "      <td>5258</td>\n",
       "      <td>5314</td>\n",
       "      <td>1.0</td>\n",
       "      <td>-783494.0</td>\n",
       "    </tr>\n",
       "    <tr>\n",
       "      <th>1</th>\n",
       "      <td>chr1</td>\n",
       "      <td>788752</td>\n",
       "      <td>788808</td>\n",
       "      <td>98.2456</td>\n",
       "      <td>+</td>\n",
       "      <td>56</td>\n",
       "      <td>m64039_190830_040857/74187176/ccs</td>\n",
       "      <td>3297</td>\n",
       "      <td>3353</td>\n",
       "      <td>1.0</td>\n",
       "      <td>-785455.0</td>\n",
       "    </tr>\n",
       "    <tr>\n",
       "      <th>2</th>\n",
       "      <td>chr1</td>\n",
       "      <td>788752</td>\n",
       "      <td>788808</td>\n",
       "      <td>98.2456</td>\n",
       "      <td>+</td>\n",
       "      <td>56</td>\n",
       "      <td>m64039_190830_040857/80217145/ccs</td>\n",
       "      <td>5350</td>\n",
       "      <td>5406</td>\n",
       "      <td>1.0</td>\n",
       "      <td>-783402.0</td>\n",
       "    </tr>\n",
       "    <tr>\n",
       "      <th>3</th>\n",
       "      <td>chr1</td>\n",
       "      <td>788752</td>\n",
       "      <td>788808</td>\n",
       "      <td>98.2456</td>\n",
       "      <td>-</td>\n",
       "      <td>56</td>\n",
       "      <td>m64039_190830_040857/114491701/ccs</td>\n",
       "      <td>1524</td>\n",
       "      <td>1580</td>\n",
       "      <td>1.0</td>\n",
       "      <td>-787228.0</td>\n",
       "    </tr>\n",
       "    <tr>\n",
       "      <th>4</th>\n",
       "      <td>chr1</td>\n",
       "      <td>788752</td>\n",
       "      <td>788808</td>\n",
       "      <td>98.2456</td>\n",
       "      <td>+</td>\n",
       "      <td>56</td>\n",
       "      <td>m64039_190830_040857/111413372/ccs</td>\n",
       "      <td>5973</td>\n",
       "      <td>6029</td>\n",
       "      <td>1.0</td>\n",
       "      <td>-782779.0</td>\n",
       "    </tr>\n",
       "  </tbody>\n",
       "</table>\n",
       "</div>"
      ],
      "text/plain": [
       "  dname  dbegin    dend   percid strand  len  \\\n",
       "0  chr1  788752  788808  98.2456      -   56   \n",
       "1  chr1  788752  788808  98.2456      +   56   \n",
       "2  chr1  788752  788808  98.2456      +   56   \n",
       "3  chr1  788752  788808  98.2456      -   56   \n",
       "4  chr1  788752  788808  98.2456      +   56   \n",
       "\n",
       "                                qname  qbegin  qend    a         b  \n",
       "0   m64039_190830_040857/78318003/ccs    5258  5314  1.0 -783494.0  \n",
       "1   m64039_190830_040857/74187176/ccs    3297  3353  1.0 -785455.0  \n",
       "2   m64039_190830_040857/80217145/ccs    5350  5406  1.0 -783402.0  \n",
       "3  m64039_190830_040857/114491701/ccs    1524  1580  1.0 -787228.0  \n",
       "4  m64039_190830_040857/111413372/ccs    5973  6029  1.0 -782779.0  "
      ]
     },
     "execution_count": 425,
     "metadata": {},
     "output_type": "execute_result"
    }
   ],
   "source": [
    "variants = variants.assign(a = lambda x: ((x[\"qend\"] - x[\"qbegin\"]) / (x[\"dend\"] - x[\"dbegin\"])))\n",
    "variants = variants.assign(b = lambda x: (x[\"qbegin\"] - x[\"a\"] * x[\"dbegin\"]))\n",
    "\n",
    "variants.head()"
   ]
  },
  {
   "cell_type": "code",
   "execution_count": null,
   "id": "c1dec09c-6af7-413d-a80a-7f3e68934fea",
   "metadata": {},
   "outputs": [],
   "source": []
  },
  {
   "cell_type": "code",
   "execution_count": 419,
   "id": "252096fe-dbd0-4a10-a11d-ee6e7b433869",
   "metadata": {},
   "outputs": [
    {
     "data": {
      "text/html": [
       "<div>\n",
       "<style scoped>\n",
       "    .dataframe tbody tr th:only-of-type {\n",
       "        vertical-align: middle;\n",
       "    }\n",
       "\n",
       "    .dataframe tbody tr th {\n",
       "        vertical-align: top;\n",
       "    }\n",
       "\n",
       "    .dataframe thead th {\n",
       "        text-align: right;\n",
       "    }\n",
       "</style>\n",
       "<table border=\"1\" class=\"dataframe\">\n",
       "  <thead>\n",
       "    <tr style=\"text-align: right;\">\n",
       "      <th></th>\n",
       "      <th>dname</th>\n",
       "      <th>dbegin</th>\n",
       "      <th>dend</th>\n",
       "      <th>percid</th>\n",
       "      <th>strand</th>\n",
       "      <th>len</th>\n",
       "      <th>qname</th>\n",
       "      <th>qbegin</th>\n",
       "      <th>qend</th>\n",
       "    </tr>\n",
       "  </thead>\n",
       "  <tbody>\n",
       "    <tr>\n",
       "      <th>6555</th>\n",
       "      <td>chr5</td>\n",
       "      <td>49630768</td>\n",
       "      <td>49631528</td>\n",
       "      <td>98.0289</td>\n",
       "      <td>+</td>\n",
       "      <td>760</td>\n",
       "      <td>m64039_190830_040857/173474075/ccs</td>\n",
       "      <td>1</td>\n",
       "      <td>760</td>\n",
       "    </tr>\n",
       "    <tr>\n",
       "      <th>6565</th>\n",
       "      <td>chr5</td>\n",
       "      <td>49644048</td>\n",
       "      <td>49644229</td>\n",
       "      <td>98.3516</td>\n",
       "      <td>+</td>\n",
       "      <td>181</td>\n",
       "      <td>m64039_190830_040857/173474075/ccs</td>\n",
       "      <td>1</td>\n",
       "      <td>181</td>\n",
       "    </tr>\n",
       "    <tr>\n",
       "      <th>6546</th>\n",
       "      <td>chr5</td>\n",
       "      <td>49622702</td>\n",
       "      <td>49622871</td>\n",
       "      <td>98.2352</td>\n",
       "      <td>+</td>\n",
       "      <td>169</td>\n",
       "      <td>m64039_190830_040857/173474075/ccs</td>\n",
       "      <td>1</td>\n",
       "      <td>170</td>\n",
       "    </tr>\n",
       "    <tr>\n",
       "      <th>6574</th>\n",
       "      <td>chr5</td>\n",
       "      <td>49646075</td>\n",
       "      <td>49646256</td>\n",
       "      <td>98.3516</td>\n",
       "      <td>+</td>\n",
       "      <td>181</td>\n",
       "      <td>m64039_190830_040857/173474075/ccs</td>\n",
       "      <td>1</td>\n",
       "      <td>181</td>\n",
       "    </tr>\n",
       "    <tr>\n",
       "      <th>6541</th>\n",
       "      <td>chr5</td>\n",
       "      <td>49612238</td>\n",
       "      <td>49612410</td>\n",
       "      <td>98.2658</td>\n",
       "      <td>+</td>\n",
       "      <td>172</td>\n",
       "      <td>m64039_190830_040857/173474075/ccs</td>\n",
       "      <td>54</td>\n",
       "      <td>225</td>\n",
       "    </tr>\n",
       "  </tbody>\n",
       "</table>\n",
       "</div>"
      ],
      "text/plain": [
       "     dname    dbegin      dend   percid strand  len  \\\n",
       "6555  chr5  49630768  49631528  98.0289      +  760   \n",
       "6565  chr5  49644048  49644229  98.3516      +  181   \n",
       "6546  chr5  49622702  49622871  98.2352      +  169   \n",
       "6574  chr5  49646075  49646256  98.3516      +  181   \n",
       "6541  chr5  49612238  49612410  98.2658      +  172   \n",
       "\n",
       "                                   qname  qbegin  qend  \n",
       "6555  m64039_190830_040857/173474075/ccs       1   760  \n",
       "6565  m64039_190830_040857/173474075/ccs       1   181  \n",
       "6546  m64039_190830_040857/173474075/ccs       1   170  \n",
       "6574  m64039_190830_040857/173474075/ccs       1   181  \n",
       "6541  m64039_190830_040857/173474075/ccs      54   225  "
      ]
     },
     "execution_count": 419,
     "metadata": {},
     "output_type": "execute_result"
    }
   ],
   "source": [
    "longest_match_plus = variants[(variants[\"qname\"] == best_matches[\"qname\"].iloc[0]) & (variants[\"dname\"] == \"chr5\") & (variants[\"strand\"] == \"+\")]\n",
    "longest_match_plus.sort_values('qbegin').head()"
   ]
  },
  {
   "cell_type": "code",
   "execution_count": 420,
   "id": "3ba362f0-c08d-4a2a-88a5-ca0e12be2e0f",
   "metadata": {},
   "outputs": [
    {
     "data": {
      "text/html": [
       "<div>\n",
       "<style scoped>\n",
       "    .dataframe tbody tr th:only-of-type {\n",
       "        vertical-align: middle;\n",
       "    }\n",
       "\n",
       "    .dataframe tbody tr th {\n",
       "        vertical-align: top;\n",
       "    }\n",
       "\n",
       "    .dataframe thead th {\n",
       "        text-align: right;\n",
       "    }\n",
       "</style>\n",
       "<table border=\"1\" class=\"dataframe\">\n",
       "  <thead>\n",
       "    <tr style=\"text-align: right;\">\n",
       "      <th></th>\n",
       "      <th>dname</th>\n",
       "      <th>dbegin</th>\n",
       "      <th>dend</th>\n",
       "      <th>percid</th>\n",
       "      <th>strand</th>\n",
       "      <th>len</th>\n",
       "      <th>qname</th>\n",
       "      <th>qbegin</th>\n",
       "      <th>qend</th>\n",
       "    </tr>\n",
       "  </thead>\n",
       "  <tbody>\n",
       "    <tr>\n",
       "      <th>6480</th>\n",
       "      <td>chr5</td>\n",
       "      <td>47296894</td>\n",
       "      <td>47297169</td>\n",
       "      <td>98.1884</td>\n",
       "      <td>-</td>\n",
       "      <td>275</td>\n",
       "      <td>m64039_190830_040857/173474075/ccs</td>\n",
       "      <td>1</td>\n",
       "      <td>275</td>\n",
       "    </tr>\n",
       "    <tr>\n",
       "      <th>6491</th>\n",
       "      <td>chr5</td>\n",
       "      <td>47308164</td>\n",
       "      <td>47308329</td>\n",
       "      <td>98.1927</td>\n",
       "      <td>-</td>\n",
       "      <td>165</td>\n",
       "      <td>m64039_190830_040857/173474075/ccs</td>\n",
       "      <td>1</td>\n",
       "      <td>166</td>\n",
       "    </tr>\n",
       "    <tr>\n",
       "      <th>6482</th>\n",
       "      <td>chr5</td>\n",
       "      <td>47298694</td>\n",
       "      <td>47298859</td>\n",
       "      <td>98.1927</td>\n",
       "      <td>-</td>\n",
       "      <td>165</td>\n",
       "      <td>m64039_190830_040857/173474075/ccs</td>\n",
       "      <td>1</td>\n",
       "      <td>166</td>\n",
       "    </tr>\n",
       "    <tr>\n",
       "      <th>6492</th>\n",
       "      <td>chr5</td>\n",
       "      <td>47308384</td>\n",
       "      <td>47308824</td>\n",
       "      <td>98.1859</td>\n",
       "      <td>-</td>\n",
       "      <td>440</td>\n",
       "      <td>m64039_190830_040857/173474075/ccs</td>\n",
       "      <td>184</td>\n",
       "      <td>624</td>\n",
       "    </tr>\n",
       "    <tr>\n",
       "      <th>6581</th>\n",
       "      <td>chr5</td>\n",
       "      <td>49650313</td>\n",
       "      <td>49650488</td>\n",
       "      <td>98.2954</td>\n",
       "      <td>-</td>\n",
       "      <td>175</td>\n",
       "      <td>m64039_190830_040857/173474075/ccs</td>\n",
       "      <td>326</td>\n",
       "      <td>501</td>\n",
       "    </tr>\n",
       "  </tbody>\n",
       "</table>\n",
       "</div>"
      ],
      "text/plain": [
       "     dname    dbegin      dend   percid strand  len  \\\n",
       "6480  chr5  47296894  47297169  98.1884      -  275   \n",
       "6491  chr5  47308164  47308329  98.1927      -  165   \n",
       "6482  chr5  47298694  47298859  98.1927      -  165   \n",
       "6492  chr5  47308384  47308824  98.1859      -  440   \n",
       "6581  chr5  49650313  49650488  98.2954      -  175   \n",
       "\n",
       "                                   qname  qbegin  qend  \n",
       "6480  m64039_190830_040857/173474075/ccs       1   275  \n",
       "6491  m64039_190830_040857/173474075/ccs       1   166  \n",
       "6482  m64039_190830_040857/173474075/ccs       1   166  \n",
       "6492  m64039_190830_040857/173474075/ccs     184   624  \n",
       "6581  m64039_190830_040857/173474075/ccs     326   501  "
      ]
     },
     "execution_count": 420,
     "metadata": {},
     "output_type": "execute_result"
    }
   ],
   "source": [
    "longest_match_minus = variants[(variants[\"qname\"] == best_matches[\"qname\"].iloc[0]) & (variants[\"dname\"] == \"chr5\") & (variants[\"strand\"] == \"-\")]\n",
    "longest_match_minus.sort_values(\"qbegin\").head()"
   ]
  },
  {
   "cell_type": "code",
   "execution_count": 414,
   "id": "7bec1b5a-08c0-4702-90f6-054117c6140c",
   "metadata": {},
   "outputs": [
    {
     "data": {
      "text/plain": [
       "[49630766.99868248, 49644785.44400527]"
      ]
     },
     "execution_count": 414,
     "metadata": {},
     "output_type": "execute_result"
    }
   ],
   "source": [
    "x_line = get_line(a, b)\n",
    "y_line = [0, 14000]\n",
    "x_line"
   ]
  },
  {
   "cell_type": "code",
   "execution_count": 415,
   "id": "100b5a53-86aa-406b-a1ca-f5afacc9224c",
   "metadata": {},
   "outputs": [
    {
     "data": {
      "image/png": "[encoded data removed]",
      "text/plain": [
       "<Figure size 640x480 with 1 Axes>"
      ]
     },
     "metadata": {},
     "output_type": "display_data"
    }
   ],
   "source": [
    "plot_matches_on_line(longest_match_plus, best_matches, x_line, y_line)"
   ]
  },
  {
   "cell_type": "markdown",
   "id": "622cbdeb-5409-4b5f-8161-cfae38a2e429",
   "metadata": {},
   "source": [
    "### Inversions from bash workflow"
   ]
  },
  {
   "cell_type": "code",
   "execution_count": 245,
   "id": "fca91d13-404d-444c-af21-ff26ecddd086",
   "metadata": {},
   "outputs": [
    {
     "data": {
      "text/html": [
       "<div>\n",
       "<style scoped>\n",
       "    .dataframe tbody tr th:only-of-type {\n",
       "        vertical-align: middle;\n",
       "    }\n",
       "\n",
       "    .dataframe tbody tr th {\n",
       "        vertical-align: top;\n",
       "    }\n",
       "\n",
       "    .dataframe thead th {\n",
       "        text-align: right;\n",
       "    }\n",
       "</style>\n",
       "<table border=\"1\" class=\"dataframe\">\n",
       "  <thead>\n",
       "    <tr style=\"text-align: right;\">\n",
       "      <th></th>\n",
       "      <th>dname</th>\n",
       "      <th>dbegin</th>\n",
       "      <th>dend</th>\n",
       "      <th>percid</th>\n",
       "      <th>strand</th>\n",
       "      <th>len</th>\n",
       "      <th>qname</th>\n",
       "      <th>qbegin</th>\n",
       "      <th>qend</th>\n",
       "    </tr>\n",
       "  </thead>\n",
       "  <tbody>\n",
       "    <tr>\n",
       "      <th>0</th>\n",
       "      <td>chr4</td>\n",
       "      <td>21582029</td>\n",
       "      <td>21582088</td>\n",
       "      <td>98.3333</td>\n",
       "      <td>+</td>\n",
       "      <td>59</td>\n",
       "      <td>m54329U_190906_205127/101581354/ccs</td>\n",
       "      <td>14165</td>\n",
       "      <td>14224</td>\n",
       "    </tr>\n",
       "    <tr>\n",
       "      <th>1</th>\n",
       "      <td>chr4</td>\n",
       "      <td>21582029</td>\n",
       "      <td>21582088</td>\n",
       "      <td>98.3333</td>\n",
       "      <td>+</td>\n",
       "      <td>59</td>\n",
       "      <td>m54329U_190906_205127/101581354/ccs</td>\n",
       "      <td>13861</td>\n",
       "      <td>13919</td>\n",
       "    </tr>\n",
       "    <tr>\n",
       "      <th>2</th>\n",
       "      <td>chr4</td>\n",
       "      <td>49633388</td>\n",
       "      <td>49633446</td>\n",
       "      <td>98.3050</td>\n",
       "      <td>+</td>\n",
       "      <td>58</td>\n",
       "      <td>m54329U_190906_205127/101581354/ccs</td>\n",
       "      <td>13869</td>\n",
       "      <td>13926</td>\n",
       "    </tr>\n",
       "    <tr>\n",
       "      <th>3</th>\n",
       "      <td>chr4</td>\n",
       "      <td>49633388</td>\n",
       "      <td>49633452</td>\n",
       "      <td>98.4615</td>\n",
       "      <td>+</td>\n",
       "      <td>64</td>\n",
       "      <td>m54329U_190906_205127/101581354/ccs</td>\n",
       "      <td>7698</td>\n",
       "      <td>7762</td>\n",
       "    </tr>\n",
       "    <tr>\n",
       "      <th>4</th>\n",
       "      <td>chr4</td>\n",
       "      <td>49633388</td>\n",
       "      <td>49633452</td>\n",
       "      <td>98.4615</td>\n",
       "      <td>+</td>\n",
       "      <td>64</td>\n",
       "      <td>m54329U_190906_205127/101581354/ccs</td>\n",
       "      <td>3683</td>\n",
       "      <td>3747</td>\n",
       "    </tr>\n",
       "    <tr>\n",
       "      <th>...</th>\n",
       "      <td>...</td>\n",
       "      <td>...</td>\n",
       "      <td>...</td>\n",
       "      <td>...</td>\n",
       "      <td>...</td>\n",
       "      <td>...</td>\n",
       "      <td>...</td>\n",
       "      <td>...</td>\n",
       "      <td>...</td>\n",
       "    </tr>\n",
       "    <tr>\n",
       "      <th>64</th>\n",
       "      <td>chr4</td>\n",
       "      <td>49149460</td>\n",
       "      <td>49149520</td>\n",
       "      <td>98.3606</td>\n",
       "      <td>-</td>\n",
       "      <td>60</td>\n",
       "      <td>m54329U_190906_205127/101581354/ccs</td>\n",
       "      <td>7072</td>\n",
       "      <td>7132</td>\n",
       "    </tr>\n",
       "    <tr>\n",
       "      <th>65</th>\n",
       "      <td>chr4</td>\n",
       "      <td>49149461</td>\n",
       "      <td>49149525</td>\n",
       "      <td>98.4615</td>\n",
       "      <td>-</td>\n",
       "      <td>64</td>\n",
       "      <td>m54329U_190906_205127/101581354/ccs</td>\n",
       "      <td>7698</td>\n",
       "      <td>7762</td>\n",
       "    </tr>\n",
       "    <tr>\n",
       "      <th>66</th>\n",
       "      <td>chr4</td>\n",
       "      <td>49150504</td>\n",
       "      <td>49150562</td>\n",
       "      <td>98.3050</td>\n",
       "      <td>-</td>\n",
       "      <td>58</td>\n",
       "      <td>m54329U_190906_205127/101581354/ccs</td>\n",
       "      <td>6453</td>\n",
       "      <td>6511</td>\n",
       "    </tr>\n",
       "    <tr>\n",
       "      <th>67</th>\n",
       "      <td>chr4</td>\n",
       "      <td>49154226</td>\n",
       "      <td>49154285</td>\n",
       "      <td>98.3333</td>\n",
       "      <td>-</td>\n",
       "      <td>59</td>\n",
       "      <td>m54329U_190906_205127/101581354/ccs</td>\n",
       "      <td>6452</td>\n",
       "      <td>6511</td>\n",
       "    </tr>\n",
       "    <tr>\n",
       "      <th>68</th>\n",
       "      <td>chr4</td>\n",
       "      <td>49154428</td>\n",
       "      <td>49154486</td>\n",
       "      <td>98.3050</td>\n",
       "      <td>-</td>\n",
       "      <td>58</td>\n",
       "      <td>m54329U_190906_205127/101581354/ccs</td>\n",
       "      <td>7698</td>\n",
       "      <td>7756</td>\n",
       "    </tr>\n",
       "  </tbody>\n",
       "</table>\n",
       "<p>119 rows × 9 columns</p>\n",
       "</div>"
      ],
      "text/plain": [
       "   dname    dbegin      dend   percid strand  len  \\\n",
       "0   chr4  21582029  21582088  98.3333      +   59   \n",
       "1   chr4  21582029  21582088  98.3333      +   59   \n",
       "2   chr4  49633388  49633446  98.3050      +   58   \n",
       "3   chr4  49633388  49633452  98.4615      +   64   \n",
       "4   chr4  49633388  49633452  98.4615      +   64   \n",
       "..   ...       ...       ...      ...    ...  ...   \n",
       "64  chr4  49149460  49149520  98.3606      -   60   \n",
       "65  chr4  49149461  49149525  98.4615      -   64   \n",
       "66  chr4  49150504  49150562  98.3050      -   58   \n",
       "67  chr4  49154226  49154285  98.3333      -   59   \n",
       "68  chr4  49154428  49154486  98.3050      -   58   \n",
       "\n",
       "                                  qname  qbegin   qend  \n",
       "0   m54329U_190906_205127/101581354/ccs   14165  14224  \n",
       "1   m54329U_190906_205127/101581354/ccs   13861  13919  \n",
       "2   m54329U_190906_205127/101581354/ccs   13869  13926  \n",
       "3   m54329U_190906_205127/101581354/ccs    7698   7762  \n",
       "4   m54329U_190906_205127/101581354/ccs    3683   3747  \n",
       "..                                  ...     ...    ...  \n",
       "64  m54329U_190906_205127/101581354/ccs    7072   7132  \n",
       "65  m54329U_190906_205127/101581354/ccs    7698   7762  \n",
       "66  m54329U_190906_205127/101581354/ccs    6453   6511  \n",
       "67  m54329U_190906_205127/101581354/ccs    6452   6511  \n",
       "68  m54329U_190906_205127/101581354/ccs    7698   7756  \n",
       "\n",
       "[119 rows x 9 columns]"
      ]
     },
     "execution_count": 245,
     "metadata": {},
     "output_type": "execute_result"
    }
   ],
   "source": [
    "chr_id=4\n",
    "read_id=5927\n",
    "\n",
    "frames = []\n",
    "strand = \"plus\"\n",
    "for strand in [\"plus\", \"minus\"]:\n",
    "    filename = \"chr\" + str(chr_id) + \"_\" + str(read_id) + \"_\" + strand + \"_var.gff\"\n",
    "    frames.append(read_stellar_output(filename))\n",
    "\n",
    "df = pd.concat(frames)\n",
    "df"
   ]
  },
  {
   "cell_type": "markdown",
   "id": "7c300bfd-f4d0-4558-bc90-5a3620e631d3",
   "metadata": {},
   "source": [
    "### Clamp variable based on longest match"
   ]
  },
  {
   "cell_type": "code",
   "execution_count": 291,
   "id": "ea113c60-9acc-4717-8144-1f3eebfb2647",
   "metadata": {},
   "outputs": [],
   "source": [
    "df = df[df[\"dbegin\"] > 40000000]\n",
    "plus = df[df[\"strand\"] == \"+\"]\n",
    "minus = df[df[\"strand\"] == \"-\"]"
   ]
  },
  {
   "cell_type": "code",
   "execution_count": 294,
   "id": "bc7b8f5d-1166-4e65-88d0-5f3aab6d88bd",
   "metadata": {},
   "outputs": [
    {
     "name": "stdout",
     "output_type": "stream",
     "text": [
      "Minus strand var range before clamp\t61664\n",
      "Minus strand var range after clamp\t16811\n"
     ]
    }
   ],
   "source": [
    "print(\"Minus strand var range before clamp\\t\" + str(np.max(minus[\"dbegin\"]) - np.min(minus[\"dbegin\"])))\n",
    "longest_match = minus[minus[\"len\"] == np.max(minus[\"len\"])]\n",
    "min_begin = longest_match.dbegin.iloc[0] - int(longest_match.qbegin.iloc[0] * 1.5)\n",
    "max_end = longest_match.dend.iloc[0] + int(longest_match.qend.iloc[0] * 1.5)\n",
    "minus_best = minus[minus[\"dbegin\"] > min_begin]\n",
    "minus_best = minus_best[minus_best[\"dend\"] < max_end]\n",
    "print(\"Minus strand var range after clamp\\t\" + str(np.max(minus_best[\"dbegin\"]) - np.min(minus_best[\"dbegin\"])))"
   ]
  },
  {
   "cell_type": "code",
   "execution_count": 295,
   "id": "6f1a664a-9d36-4610-8f02-541f09fbd04f",
   "metadata": {},
   "outputs": [
    {
     "data": {
      "text/html": [
       "<div>\n",
       "<style scoped>\n",
       "    .dataframe tbody tr th:only-of-type {\n",
       "        vertical-align: middle;\n",
       "    }\n",
       "\n",
       "    .dataframe tbody tr th {\n",
       "        vertical-align: top;\n",
       "    }\n",
       "\n",
       "    .dataframe thead th {\n",
       "        text-align: right;\n",
       "    }\n",
       "</style>\n",
       "<table border=\"1\" class=\"dataframe\">\n",
       "  <thead>\n",
       "    <tr style=\"text-align: right;\">\n",
       "      <th></th>\n",
       "      <th>dname</th>\n",
       "      <th>dbegin</th>\n",
       "      <th>dend</th>\n",
       "      <th>percid</th>\n",
       "      <th>strand</th>\n",
       "      <th>len</th>\n",
       "      <th>qname</th>\n",
       "      <th>qbegin</th>\n",
       "      <th>qend</th>\n",
       "    </tr>\n",
       "  </thead>\n",
       "  <tbody>\n",
       "    <tr>\n",
       "      <th>45</th>\n",
       "      <td>chr4</td>\n",
       "      <td>49138030</td>\n",
       "      <td>49138105</td>\n",
       "      <td>98.6842</td>\n",
       "      <td>-</td>\n",
       "      <td>75</td>\n",
       "      <td>m54329U_190906_205127/101581354/ccs</td>\n",
       "      <td>6072</td>\n",
       "      <td>6147</td>\n",
       "    </tr>\n",
       "  </tbody>\n",
       "</table>\n",
       "</div>"
      ],
      "text/plain": [
       "   dname    dbegin      dend   percid strand  len  \\\n",
       "45  chr4  49138030  49138105  98.6842      -   75   \n",
       "\n",
       "                                  qname  qbegin  qend  \n",
       "45  m54329U_190906_205127/101581354/ccs    6072  6147  "
      ]
     },
     "execution_count": 295,
     "metadata": {},
     "output_type": "execute_result"
    }
   ],
   "source": [
    "minus_best = minus_best[minus_best[\"len\"] > 70]\n",
    "minus_best"
   ]
  },
  {
   "cell_type": "code",
   "execution_count": 296,
   "id": "1cf8f9ff-a995-4541-9d7d-c45b281c8794",
   "metadata": {},
   "outputs": [
    {
     "name": "stdout",
     "output_type": "stream",
     "text": [
      "Plus strand var range before clamp\t18045\n"
     ]
    }
   ],
   "source": [
    "print(\"Plus strand var range before clamp\\t\" + str(np.max(plus[\"dbegin\"]) - np.min(plus[\"dbegin\"])))"
   ]
  },
  {
   "cell_type": "code",
   "execution_count": 297,
   "id": "036cae2b-3605-4592-ab5d-8aac05e31153",
   "metadata": {},
   "outputs": [
    {
     "data": {
      "text/html": [
       "<div>\n",
       "<style scoped>\n",
       "    .dataframe tbody tr th:only-of-type {\n",
       "        vertical-align: middle;\n",
       "    }\n",
       "\n",
       "    .dataframe tbody tr th {\n",
       "        vertical-align: top;\n",
       "    }\n",
       "\n",
       "    .dataframe thead th {\n",
       "        text-align: right;\n",
       "    }\n",
       "</style>\n",
       "<table border=\"1\" class=\"dataframe\">\n",
       "  <thead>\n",
       "    <tr style=\"text-align: right;\">\n",
       "      <th></th>\n",
       "      <th>dname</th>\n",
       "      <th>dbegin</th>\n",
       "      <th>dend</th>\n",
       "      <th>percid</th>\n",
       "      <th>strand</th>\n",
       "      <th>len</th>\n",
       "      <th>qname</th>\n",
       "      <th>qbegin</th>\n",
       "      <th>qend</th>\n",
       "    </tr>\n",
       "  </thead>\n",
       "  <tbody>\n",
       "    <tr>\n",
       "      <th>14</th>\n",
       "      <td>chr4</td>\n",
       "      <td>49635174</td>\n",
       "      <td>49635241</td>\n",
       "      <td>98.5294</td>\n",
       "      <td>+</td>\n",
       "      <td>67</td>\n",
       "      <td>m54329U_190906_205127/101581354/ccs</td>\n",
       "      <td>1188</td>\n",
       "      <td>1255</td>\n",
       "    </tr>\n",
       "    <tr>\n",
       "      <th>15</th>\n",
       "      <td>chr4</td>\n",
       "      <td>49635174</td>\n",
       "      <td>49635241</td>\n",
       "      <td>98.5294</td>\n",
       "      <td>+</td>\n",
       "      <td>67</td>\n",
       "      <td>m54329U_190906_205127/101581354/ccs</td>\n",
       "      <td>6456</td>\n",
       "      <td>6523</td>\n",
       "    </tr>\n",
       "    <tr>\n",
       "      <th>26</th>\n",
       "      <td>chr4</td>\n",
       "      <td>49639289</td>\n",
       "      <td>49639356</td>\n",
       "      <td>98.5294</td>\n",
       "      <td>+</td>\n",
       "      <td>67</td>\n",
       "      <td>m54329U_190906_205127/101581354/ccs</td>\n",
       "      <td>6452</td>\n",
       "      <td>6519</td>\n",
       "    </tr>\n",
       "  </tbody>\n",
       "</table>\n",
       "</div>"
      ],
      "text/plain": [
       "   dname    dbegin      dend   percid strand  len  \\\n",
       "14  chr4  49635174  49635241  98.5294      +   67   \n",
       "15  chr4  49635174  49635241  98.5294      +   67   \n",
       "26  chr4  49639289  49639356  98.5294      +   67   \n",
       "\n",
       "                                  qname  qbegin  qend  \n",
       "14  m54329U_190906_205127/101581354/ccs    1188  1255  \n",
       "15  m54329U_190906_205127/101581354/ccs    6456  6523  \n",
       "26  m54329U_190906_205127/101581354/ccs    6452  6519  "
      ]
     },
     "execution_count": 297,
     "metadata": {},
     "output_type": "execute_result"
    }
   ],
   "source": [
    "plus[plus[\"len\"] == np.max(plus[\"len\"])]"
   ]
  },
  {
   "cell_type": "code",
   "execution_count": 298,
   "id": "318db626-aea7-40e7-b74f-30cc7f429d50",
   "metadata": {},
   "outputs": [
    {
     "data": {
      "text/html": [
       "<div>\n",
       "<style scoped>\n",
       "    .dataframe tbody tr th:only-of-type {\n",
       "        vertical-align: middle;\n",
       "    }\n",
       "\n",
       "    .dataframe tbody tr th {\n",
       "        vertical-align: top;\n",
       "    }\n",
       "\n",
       "    .dataframe thead th {\n",
       "        text-align: right;\n",
       "    }\n",
       "</style>\n",
       "<table border=\"1\" class=\"dataframe\">\n",
       "  <thead>\n",
       "    <tr style=\"text-align: right;\">\n",
       "      <th></th>\n",
       "      <th>dname</th>\n",
       "      <th>dbegin</th>\n",
       "      <th>dend</th>\n",
       "      <th>percid</th>\n",
       "      <th>strand</th>\n",
       "      <th>len</th>\n",
       "      <th>qname</th>\n",
       "      <th>qbegin</th>\n",
       "      <th>qend</th>\n",
       "    </tr>\n",
       "  </thead>\n",
       "  <tbody>\n",
       "    <tr>\n",
       "      <th>14</th>\n",
       "      <td>chr4</td>\n",
       "      <td>49635174</td>\n",
       "      <td>49635241</td>\n",
       "      <td>98.5294</td>\n",
       "      <td>+</td>\n",
       "      <td>67</td>\n",
       "      <td>m54329U_190906_205127/101581354/ccs</td>\n",
       "      <td>1188</td>\n",
       "      <td>1255</td>\n",
       "    </tr>\n",
       "    <tr>\n",
       "      <th>26</th>\n",
       "      <td>chr4</td>\n",
       "      <td>49639289</td>\n",
       "      <td>49639356</td>\n",
       "      <td>98.5294</td>\n",
       "      <td>+</td>\n",
       "      <td>67</td>\n",
       "      <td>m54329U_190906_205127/101581354/ccs</td>\n",
       "      <td>6452</td>\n",
       "      <td>6519</td>\n",
       "    </tr>\n",
       "  </tbody>\n",
       "</table>\n",
       "</div>"
      ],
      "text/plain": [
       "   dname    dbegin      dend   percid strand  len  \\\n",
       "14  chr4  49635174  49635241  98.5294      +   67   \n",
       "26  chr4  49639289  49639356  98.5294      +   67   \n",
       "\n",
       "                                  qname  qbegin  qend  \n",
       "14  m54329U_190906_205127/101581354/ccs    1188  1255  \n",
       "26  m54329U_190906_205127/101581354/ccs    6452  6519  "
      ]
     },
     "execution_count": 298,
     "metadata": {},
     "output_type": "execute_result"
    }
   ],
   "source": [
    "plus_best = plus[plus[\"len\"] == np.max(plus[\"len\"])].drop(15)\n",
    "plus_best"
   ]
  },
  {
   "cell_type": "code",
   "execution_count": 305,
   "id": "2a2776e5-d0d8-48e9-b381-79dc187c5f0d",
   "metadata": {},
   "outputs": [
    {
     "name": "stdout",
     "output_type": "stream",
     "text": [
      "Plus strand var range after clamp\t18045\n"
     ]
    }
   ],
   "source": [
    "print(\"Plus strand var range after clamp\\t\" + str(np.max(plus[\"dbegin\"]) - np.min(plus[\"dbegin\"])))"
   ]
  },
  {
   "cell_type": "code",
   "execution_count": 370,
   "id": "92df62ef-cc36-4f34-aad4-71be4d63e605",
   "metadata": {},
   "outputs": [],
   "source": []
  },
  {
   "cell_type": "code",
   "execution_count": 371,
   "id": "37dfb265-8aa9-489c-bcdd-efb33914da67",
   "metadata": {},
   "outputs": [],
   "source": [
    "a, b = line_params(plus_best)"
   ]
  },
  {
   "cell_type": "code",
   "execution_count": 335,
   "id": "841f59c6-2a20-4b6e-98c7-ca9e00434e33",
   "metadata": {},
   "outputs": [
    {
     "data": {
      "text/plain": [
       "array([49630000., 49632500., 49635000., 49637500., 49640000., 49642500.,\n",
       "       49645000., 49647500., 49650000., 49652500.])"
      ]
     },
     "execution_count": 335,
     "metadata": {},
     "output_type": "execute_result"
    }
   ],
   "source": [
    "locs"
   ]
  },
  {
   "cell_type": "code",
   "execution_count": 336,
   "id": "107476ce-9995-46cc-a6ee-78118dae17b9",
   "metadata": {},
   "outputs": [
    {
     "data": {
      "text/plain": [
       "[49632837.0, 49646837.0]"
      ]
     },
     "execution_count": 336,
     "metadata": {},
     "output_type": "execute_result"
    }
   ],
   "source": [
    "y_line = [0, 14000]\n",
    "x_line = []\n",
    "for y in y_line:\n",
    "    x_line.append((y - b) / a)\n",
    "x_line"
   ]
  },
  {
   "cell_type": "code",
   "execution_count": 337,
   "id": "0d7d9b47-765f-4bcf-a454-fd75ba226feb",
   "metadata": {},
   "outputs": [
    {
     "data": {
      "image/png": "[encoded data removed]",
      "text/plain": [
       "<Figure size 640x480 with 1 Axes>"
      ]
     },
     "metadata": {},
     "output_type": "display_data"
    }
   ],
   "source": [
    "for index, row in plus.iterrows():\n",
    "    plt.plot(np.array(row[[\"dbegin\", \"dend\"]]), np.array(row[[\"qbegin\", \"qend\"]]), 'b-')\n",
    "\n",
    "for index, row in plus_best.iterrows():\n",
    "    plt.plot(np.array(row[[\"dbegin\", \"dend\"]]), np.array(row[[\"qbegin\", \"qend\"]]), 'r-')\n",
    "\n",
    "plt.plot(x_line, y_line, 'y-')\n",
    "locs, labels = plt.xticks()\n",
    "\n",
    "plt.xticks(locs, labels, rotation = 20)\n",
    "\n",
    "plt.xlabel(\"GRCh38\")\n",
    "plt.ylabel(df[\"qname\"].iloc[0])\n",
    "plt.title(df[\"dname\"].iloc[0])\n",
    "plt.tight_layout()"
   ]
  },
  {
   "cell_type": "code",
   "execution_count": 303,
   "id": "03c88601-8cad-47d8-9655-de90a6cd32bf",
   "metadata": {},
   "outputs": [
    {
     "data": {
      "image/png": "[encoded data removed]",
      "text/plain": [
       "<Figure size 640x480 with 1 Axes>"
      ]
     },
     "metadata": {},
     "output_type": "display_data"
    }
   ],
   "source": [
    "for index, row in minus.iterrows():\n",
    "    plt.plot(np.array(row[[\"dbegin\", \"dend\"]]), np.array(row[[\"qbegin\", \"qend\"]]), 'b-')\n",
    "\n",
    "for index, row in minus_best.iterrows():\n",
    "    plt.plot(np.array(row[[\"dbegin\", \"dend\"]]), np.array(row[[\"qbegin\", \"qend\"]]), 'r-')\n",
    "\n",
    "locs, labels = plt.xticks()\n",
    "plt.xticks(locs, labels, rotation = 20)\n",
    "\n",
    "plt.xlabel(\"GRCh38\")\n",
    "plt.ylabel(df[\"qname\"].iloc[0])\n",
    "plt.title(df[\"dname\"].iloc[0])\n",
    "plt.tight_layout()"
   ]
  },
  {
   "cell_type": "code",
   "execution_count": 304,
   "id": "abb886bb-c608-419d-9e50-0885bc9cfca8",
   "metadata": {},
   "outputs": [
    {
     "data": {
      "image/png": "[encoded data removed]",
      "text/plain": [
       "<Figure size 640x480 with 1 Axes>"
      ]
     },
     "metadata": {},
     "output_type": "display_data"
    }
   ],
   "source": [
    "for index, row in plus_best.iterrows():\n",
    "    plt.plot(np.array(row[[\"dbegin\", \"dend\"]]), np.array(row[[\"qbegin\", \"qend\"]]), 'b-')\n",
    "\n",
    "for index, row in minus_best.iterrows():\n",
    "    plt.plot(np.array(row[[\"dbegin\", \"dend\"]]), np.array(row[[\"qbegin\", \"qend\"]]), 'r-')\n",
    "\n",
    "locs, labels = plt.xticks()\n",
    "#plt.xticks(locs, (locs - 49000000), rotation = 20)\n",
    "\n",
    "plt.xlabel(\"GRCh38\")\n",
    "plt.ylabel(df[\"qname\"].iloc[0])\n",
    "plt.title(df[\"dname\"].iloc[0])\n",
    "#plt.legend(handles=[high_entropy, low_entropy])\n",
    "plt.tight_layout()\n",
    "#plt.savefig(outfile, dpi = 200)\n",
    "    "
   ]
  }
 ],
 "metadata": {
  "kernelspec": {
   "display_name": "Python 3 (ipykernel)",
   "language": "python",
   "name": "python3"
  },
  "language_info": {
   "codemirror_mode": {
    "name": "ipython",
    "version": 3
   },
   "file_extension": ".py",
   "mimetype": "text/x-python",
   "name": "python",
   "nbconvert_exporter": "python",
   "pygments_lexer": "ipython3",
   "version": "3.12.2"
  }
 },
 "nbformat": 4,
 "nbformat_minor": 5
}
