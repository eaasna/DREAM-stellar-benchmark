{
 "cells": [
  {
   "cell_type": "code",
   "execution_count": 2,
   "id": "3dcc46f1-e5a3-43aa-8924-cf41487632c9",
   "metadata": {},
   "outputs": [],
   "source": [
    "%matplotlib inline\n",
    "import pandas as pd\n",
    "import numpy as np\n",
    "import seaborn as sns\n",
    "import matplotlib.pyplot as plt\n",
    "import math"
   ]
  },
  {
   "cell_type": "markdown",
   "id": "7777cc0d-48d0-43c2-8998-62774b88038c",
   "metadata": {},
   "source": [
    "## K-mer occurrence probability"
   ]
  },
  {
   "cell_type": "code",
   "execution_count": 3,
   "id": "75e1a198-e173-4eb5-a011-0e7fdcf5c463",
   "metadata": {},
   "outputs": [],
   "source": [
    "alphabet_size = 4\n",
    "def distinct_kmer_count(k):\n",
    "    return alphabet_size**k\n",
    "\n",
    "def vanilla_kmer_occ_prob(k, bin_size):\n",
    "    return min(1.0, bin_size / distinct_kmer_count(k))\n",
    "\n",
    "def recursive_kmer_hit_placement_count(seq_len, k, kmer_hits):\n",
    "    if (seq_len - k * kmer_hits < 0):\n",
    "        return 0\n",
    "    elif (kmer_hits > 1):\n",
    "        count = 0\n",
    "        for free_positions in range(k * (kmer_hits - 1), seq_len - k + 1):\n",
    "            count += recursive_kmer_hit_placement_count(free_positions, k, kmer_hits - 1)\n",
    "        return count\n",
    "    else:\n",
    "        return seq_len - k + 1\n",
    "\n",
    "def kmer_hit_placement_count(seq_len, k, kmer_hits):\n",
    "    if (kmer_hits == 0):\n",
    "        return 0\n",
    "    elif (kmer_hits == 1):\n",
    "        return seq_len - k + 1\n",
    "    else:\n",
    "        count_table = []\n",
    "        for h in range(1, kmer_hits + 1):\n",
    "            row = []\n",
    "            for l in range(1, seq_len + 1):\n",
    "                if (l < k * h):\n",
    "                    row.append(0)\n",
    "                elif (h == 1):\n",
    "                    row.append(l - k + 1)\n",
    "                else:\n",
    "                    #print(str(h) + \"\\t\" + str(l) + \"\\t\" + str(k * (h - 1) - 1))\n",
    "                    #print(count_table[-1][k * (h - 1) - 1:l - k])\n",
    "                    row.append(sum(count_table[-1][k * (h - 1) - 1:l - k]))\n",
    "            \n",
    "            count_table.append(row)\n",
    "\n",
    "    #for row in count_table:\n",
    "    #    print(row)\n",
    "    return count_table[kmer_hits - 1][seq_len - 1]\n",
    "        \n",
    "def distinct_seq_count(seq_len, k, kmer_hits):\n",
    "    free_positions = seq_len - k * kmer_hits\n",
    "    return alphabet_size**free_positions\n",
    "\n",
    "def swenja_kmer_occ_prob(k, bin_size):\n",
    "    kmer_prob_numerator = 0\n",
    "    max_hits = bin_size // k\n",
    "    \n",
    "    for kmer_hits in range(1, max_hits + 1, 1):\n",
    "        # combinations among n+1 kmer hits\n",
    "        comb_multiplier = max(1, math.comb(kmer_hits, kmer_hits - 1) - 1)\n",
    "        # Set the position of the k-mers in the bin\n",
    "        # ATCxxxATCxxx\n",
    "        # Find the number of distinct sequences with this placement of k-mer hits\n",
    "        dist_seq_count = distinct_seq_count(bin_size, k, kmer_hits)\n",
    "        # Find all possible placements of k-mer hits\n",
    "        # ATCATCxxxxxx\n",
    "        # ATCxATCxxxxx\n",
    "        # .\n",
    "        # .\n",
    "        # .\n",
    "        # xxxxxxATCATC\n",
    "        kmer_hit_placements = kmer_hit_placement_count(bin_size, k, kmer_hits) \n",
    "\n",
    "        #print(\"comb_multiplier\\t\" + str(comb_multiplier) )\n",
    "        #print(\"dist_seq_count\\t\" + str(dist_seq_count) )\n",
    "        #print(\"kmer_hit_placements\\t\" + str(kmer_hit_placements))\n",
    "        \n",
    "        ith_union = comb_multiplier * dist_seq_count * kmer_hit_placements\n",
    "\n",
    "        #print(ith_union)\n",
    "        if (kmer_hits % 2 == 0):\n",
    "            kmer_prob_numerator -= ith_union\n",
    "        else: \n",
    "            kmer_prob_numerator += ith_union\n",
    "\n",
    "        #print(kmer_prob_numerator)\n",
    "        \n",
    "    #print(str(max_kmers) + \"\\t\" + str(bin_size) + \"\\t\" + str(kmer_occ_prob))\n",
    "    return kmer_prob_numerator / alphabet_size**bin_size\n",
    "\n",
    "def recursive_swenja_kmer_occ_prob(k, bin_size):\n",
    "    kmer_prob_numerator = 0\n",
    "    max_hits = bin_size // k\n",
    "    \n",
    "    for kmer_hits in range(1, max_hits + 1, 1):\n",
    "        # combinations among n+1 kmer hits\n",
    "        comb_multiplier = max(1, math.comb(kmer_hits, kmer_hits - 1) - 1)\n",
    "        # Set the position of the k-mers in the bin\n",
    "        # ATCxxxATCxxx\n",
    "        # Find the number of distinct sequences with this placement of k-mer hits\n",
    "        dist_seq_count = distinct_seq_count(bin_size, k, kmer_hits)\n",
    "        # Find all possible placements of k-mer hits\n",
    "        # ATCATCxxxxxx\n",
    "        # ATCxATCxxxxx\n",
    "        # .\n",
    "        # .\n",
    "        # .\n",
    "        # xxxxxxATCATC\n",
    "        kmer_hit_placements = recursive_kmer_hit_placement_count(bin_size, k, kmer_hits) \n",
    "\n",
    "        #print(\"comb_multiplier\\t\" + str(comb_multiplier) )\n",
    "        #print(\"dist_seq_count\\t\" + str(dist_seq_count) )\n",
    "        #print(\"kmer_hit_placements\\t\" + str(kmer_hit_placements))\n",
    "        \n",
    "        ith_union = comb_multiplier * dist_seq_count * kmer_hit_placements\n",
    "\n",
    "        #print(ith_union)\n",
    "        if (kmer_hits % 2 == 0):\n",
    "            kmer_prob_numerator -= ith_union\n",
    "        else: \n",
    "            kmer_prob_numerator += ith_union\n",
    "\n",
    "        #print(kmer_prob_numerator)\n",
    "        \n",
    "    #print(str(max_kmers) + \"\\t\" + str(bin_size) + \"\\t\" + str(kmer_occ_prob))\n",
    "    return kmer_prob_numerator / alphabet_size**bin_size"
   ]
  },
  {
   "cell_type": "code",
   "execution_count": 4,
   "id": "0e260995-1fcb-4fcc-825a-2814619871ab",
   "metadata": {},
   "outputs": [
    {
     "name": "stdout",
     "output_type": "stream",
     "text": [
      "0.06503732083729119\n",
      "CPU times: user 514 µs, sys: 8 µs, total: 522 µs\n",
      "Wall time: 507 µs\n"
     ]
    }
   ],
   "source": [
    "%%time\n",
    "print(recursive_swenja_kmer_occ_prob(4, 20))"
   ]
  },
  {
   "cell_type": "code",
   "execution_count": 5,
   "id": "a5769347-1cf6-48b9-beb4-e236429568a9",
   "metadata": {},
   "outputs": [
    {
     "name": "stdout",
     "output_type": "stream",
     "text": [
      "0.17037931242810453\n",
      "CPU times: user 3.8 ms, sys: 0 ns, total: 3.8 ms\n",
      "Wall time: 3.79 ms\n"
     ]
    }
   ],
   "source": [
    "%%time\n",
    "print(swenja_kmer_occ_prob(4, 50))"
   ]
  },
  {
   "cell_type": "code",
   "execution_count": 6,
   "id": "0c5b2f19-8aa1-445d-9c45-46e1af1bd723",
   "metadata": {},
   "outputs": [
    {
     "name": "stdout",
     "output_type": "stream",
     "text": [
      "0.390625\n",
      "CPU times: user 28 µs, sys: 18 µs, total: 46 µs\n",
      "Wall time: 48.2 µs\n"
     ]
    }
   ],
   "source": [
    "%%time\n",
    "print(vanilla_kmer_occ_prob(4, 100))"
   ]
  },
  {
   "cell_type": "code",
   "execution_count": null,
   "id": "f53a87ae-de9a-494c-88ca-76406dd27e1c",
   "metadata": {},
   "outputs": [],
   "source": [
    "#https://stackoverflow.com/questions/6790620/probability-of-3-character-string-appearing-in-a-randomly-generated-password\n",
    "bin_size = 20\n",
    "vanilla_p = []\n",
    "swenja_p = []\n",
    "k = 11\n",
    "for i in range(10):\n",
    "    vanilla_p.append(vanilla_kmer_occ_prob(k, bin_size))\n",
    "    swenja_p.append(swenja_kmer_occ_prob(k, bin_size))\n",
    "    bin_size += 1024"
   ]
  },
  {
   "cell_type": "code",
   "execution_count": null,
   "id": "35fc0542-0588-4093-8f1f-6ff4da8f544a",
   "metadata": {},
   "outputs": [],
   "source": [
    "vanilla_p"
   ]
  },
  {
   "cell_type": "code",
   "execution_count": 57,
   "id": "ca639a82-778b-42ed-8848-76de29bdf7f7",
   "metadata": {},
   "outputs": [
    {
     "data": {
      "text/plain": [
       "[0.0002416991972240955,\n",
       " 0.0004856633948665042,\n",
       " 0.0007295083832619945,\n",
       " 0.0009732341624105668,\n",
       " 0.0012168407323122207,\n",
       " 0.0014603280929669565,\n",
       " 0.0017036962443747739,\n",
       " 0.0019469451865356732,\n",
       " 0.002190074919449654,\n",
       " 0.0024330854431167167]"
      ]
     },
     "execution_count": 57,
     "metadata": {},
     "output_type": "execute_result"
    }
   ],
   "source": [
    "swenja_p"
   ]
  },
  {
   "cell_type": "markdown",
   "id": "2b6088d4-dbd7-4381-bd30-c5d8acaa0208",
   "metadata": {},
   "source": [
    "## Objective function"
   ]
  },
  {
   "cell_type": "code",
   "execution_count": 15,
   "id": "09e189e4-4c8d-4aa6-b029-0e82e39625ab",
   "metadata": {},
   "outputs": [],
   "source": [
    "err_list = [0, 3, 2, 4, 5]\n",
    "\n",
    "def find_FPR(pattern_p):\n",
    "    none_match_p = (1 - pattern_p)**patterns_per_segment\n",
    "    return min(1 - none_match_p, 1)\n"
   ]
  },
  {
   "cell_type": "code",
   "execution_count": 38,
   "id": "cf0c728c-593d-46ae-83cd-f86fbd268f67",
   "metadata": {},
   "outputs": [
    {
     "data": {
      "image/png": "[encoded data removed]",
      "text/plain": [
       "<Figure size 1200x400 with 4 Axes>"
      ]
     },
     "metadata": {},
     "output_type": "display_data"
    }
   ],
   "source": [
    "er = 4\n",
    "\n",
    "fig, axs = plt.subplots(1,2)\n",
    "fig.set_size_inches(12, 4)\n",
    "#fig.suptitle('Query k-mer thresholds')\n",
    "\n",
    "fnr_df = pd.read_csv('fnr_' + str(er) + '.tsv', sep='\\t', index_col=0)\n",
    "fnr_df = fnr_df.iloc[:, :-1]    \n",
    "\n",
    "sns.heatmap(fnr_df, ax = axs[0], vmin=0, vmax=1)\n",
    "axs[0].set_title(\"Query FNR\")\n",
    "\n",
    "# these are the false positive probabilities of a pattern appearing in a reference bin\n",
    "pattern_fp_df = pd.read_csv('fpr_' + str(er) + '.tsv', sep='\\t', index_col=0)\n",
    "pattern_fp_df = pattern_fp_df.iloc[:, :-1]    \n",
    "\n",
    "# recreation of FPR calculation in filtering_request.hpp\n",
    "query_len = 100000000\n",
    "query_seg_count = 10000\n",
    "pattern = 50\n",
    "query_every = 2\n",
    "patterns_per_segment = (query_len / query_seg_count - pattern + 1) / query_every  \n",
    "\n",
    "fpr_df = pattern_fp_df.map(find_FPR)\n",
    "\n",
    "sns.heatmap(fpr_df, ax = axs[1], vmin=0, vmax=1)    \n",
    "axs[1].set_title(\"Query FPR\")\n",
    "\n",
    "fig.savefig('100Mb.4e.50l.heatmap.png', dpi=400, bbox_inches='tight')\n",
    "plt.show()"
   ]
  }
 ],
 "metadata": {
  "kernelspec": {
   "display_name": "Python 3 (ipykernel)",
   "language": "python",
   "name": "python3"
  },
  "language_info": {
   "codemirror_mode": {
    "name": "ipython",
    "version": 3
   },
   "file_extension": ".py",
   "mimetype": "text/x-python",
   "name": "python",
   "nbconvert_exporter": "python",
   "pygments_lexer": "ipython3",
   "version": "3.12.2"
  }
 },
 "nbformat": 4,
 "nbformat_minor": 5
}
