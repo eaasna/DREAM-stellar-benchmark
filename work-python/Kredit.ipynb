{
 "cells": [
  {
   "cell_type": "code",
   "execution_count": 33,
   "id": "1ceca299",
   "metadata": {},
   "outputs": [],
   "source": [
    "kaufpreis = 300000\n",
    "nebenkostenanteil = 0.12\n",
    "eigenkapital = 100000\n",
    "\n",
    "jahre_zinsbindung = 10\n",
    "zinssatz = 0.035\n",
    "tilgungsrate = 0.065"
   ]
  },
  {
   "cell_type": "code",
   "execution_count": 34,
   "id": "fb8aa01e",
   "metadata": {},
   "outputs": [],
   "source": [
    "def gesamtkosten():\n",
    "    return round(kaufpreis * (1 + nebenkostenanteil))\n",
    "\n",
    "def darlehensbetrag():\n",
    "    return gesamtkosten() - eigenkapital\n",
    "\n",
    "def jahresrate():\n",
    "    return round(darlehensbetrag() * (zinssatz + tilgungsrate))"
   ]
  },
  {
   "cell_type": "code",
   "execution_count": 35,
   "id": "7929d531",
   "metadata": {
    "scrolled": true
   },
   "outputs": [
    {
     "name": "stdout",
     "output_type": "stream",
     "text": [
      "Die Gesamtkosten betragen 336000€\n",
      "Jährlich zahlt man 23600€\n",
      "Monatlich zahlt man 1967€\n"
     ]
    }
   ],
   "source": [
    "print(\"Die Gesamtkosten betragen \" + str(gesamtkosten()) + \"€\")\n",
    "print(\"Jährlich zahlt man \" + str(jahresrate()) + \"€\")\n",
    "print(\"Monatlich zahlt man \" + str(round(jahresrate() / 12)) + \"€\")"
   ]
  },
  {
   "cell_type": "code",
   "execution_count": 36,
   "id": "67a99a3b",
   "metadata": {},
   "outputs": [
    {
     "name": "stdout",
     "output_type": "stream",
     "text": [
      "Jahr\tTilgung\tZinsen\tRestbetrag\n",
      "1\t15340\t8260\t220660\n",
      "2\t15877\t7723\t204783\n",
      "3\t16433\t7167\t188351\n",
      "4\t17008\t6592\t171343\n",
      "5\t17603\t5997\t153740\n",
      "6\t18219\t5381\t135521\n",
      "7\t18857\t4743\t116664\n",
      "8\t19517\t4083\t97147\n",
      "9\t20200\t3400\t76947\n",
      "10\t20907\t2693\t56040\n"
     ]
    }
   ],
   "source": [
    "restbetrag = darlehensbetrag()\n",
    "tilgung_list = []\n",
    "zinsen_list = []\n",
    "print(\"Jahr\\tTilgung\\tZinsen\\tRestbetrag\")\n",
    "for jahr in range(1, jahre_zinsbindung + 1):\n",
    "    zinsen = restbetrag * zinssatz\n",
    "    zinsen_list.append(zinsen)\n",
    "    tilgung = jahresrate() - zinsen\n",
    "    tilgung_list.append(tilgung)\n",
    "    restbetrag -= tilgung\n",
    "    \n",
    "    print(str(jahr) + \"\\t\" + str(round(tilgung)) + \"\\t\" + str(round(zinsen)) + \"\\t\" + str(round(restbetrag)))"
   ]
  },
  {
   "cell_type": "code",
   "execution_count": 37,
   "id": "688c6a3d",
   "metadata": {},
   "outputs": [
    {
     "data": {
      "text/plain": [
       "[]"
      ]
     },
     "execution_count": 37,
     "metadata": {},
     "output_type": "execute_result"
    },
    {
     "data": {
      "image/png": "[encoded data removed]",
      "text/plain": [
       "<Figure size 640x480 with 1 Axes>"
      ]
     },
     "metadata": {},
     "output_type": "display_data"
    }
   ],
   "source": [
    "import matplotlib.pyplot as plt\n",
    "import numpy as np\n",
    " \n",
    "x = list(range(1, jahre_zinsbindung + 1))\n",
    "\n",
    "fig, ax = plt.subplots()\n",
    "ax.bar(x, tilgung_list, color='g', label = \"Tilgung\")\n",
    "ax.bar(x, zinsen_list, bottom=tilgung_list, color='r', label = \"Zinsen\")\n",
    "plt.axhline(y = round(jahresrate() / 2), linestyle = ':', color = \"black\", label = \"50%\") \n",
    "ax.set_title(\"Rückzahlungen\")\n",
    "ax.set_xticks(np.arange(1, jahre_zinsbindung + 1, 1))\n",
    "ax.set_xlabel(\"Jahr\")\n",
    "ax.set_ylabel(\"€\")\n",
    "ax.legend()\n",
    "ax.plot()"
   ]
  }
 ],
 "metadata": {
  "kernelspec": {
   "display_name": "Python 3 (ipykernel)",
   "language": "python",
   "name": "python3"
  },
  "language_info": {
   "codemirror_mode": {
    "name": "ipython",
    "version": 3
   },
   "file_extension": ".py",
   "mimetype": "text/x-python",
   "name": "python",
   "nbconvert_exporter": "python",
   "pygments_lexer": "ipython3",
   "version": "3.11.2"
  }
 },
 "nbformat": 4,
 "nbformat_minor": 5
}
