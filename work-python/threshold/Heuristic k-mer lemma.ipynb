{
 "cells": [
  {
   "cell_type": "markdown",
   "id": "8850aa63-6e38-46bb-bf15-381e3b86245f",
   "metadata": {},
   "source": [
    "# Effects of a heuristic k-mer threshold"
   ]
  },
  {
   "cell_type": "markdown",
   "id": "d095ca02-94c7-455a-ab9f-324d79d43884",
   "metadata": {},
   "source": [
    "## Basics"
   ]
  },
  {
   "attachments": {
    "5e116906-aaeb-4f85-b31c-6381ab9236d2.png": {
     "image/png": "[encoded data removed]"
    },
    "6e417821-5a0a-4237-824a-1c32831618fa.png": {
     "image/png": "[encoded data removed]"
    }
   },
   "cell_type": "markdown",
   "id": "3534be3c-c0af-402b-b54c-4c14fef5a310",
   "metadata": {},
   "source": [
    "![image.png](attachment:5e116906-aaeb-4f85-b31c-6381ab9236d2.png)![image.png](attachment:6e417821-5a0a-4237-824a-1c32831618fa.png)"
   ]
  },
  {
   "cell_type": "code",
   "execution_count": 214,
   "id": "94a9d5d4",
   "metadata": {},
   "outputs": [],
   "source": [
    "from math import factorial\n",
    "\n",
    "# how many error combinations for e errors in a sequence of length n\n",
    "def error_distribution_count(n, e):\n",
    "    if (n >= e):\n",
    "        return int(factorial(n) / (factorial(n - e) * factorial(e)))\n",
    "    else:\n",
    "        return 0\n",
    "        \n",
    "# minimum length of k-mer that does not appear spuriously in this reference\n",
    "def min_k(ref_len):\n",
    "    z = 4 #alphabet size\n",
    "    for k in range(30):\n",
    "        if (z**k > ref_len):\n",
    "            return k\n",
    "\n",
    "def kmer_count(k, n):\n",
    "    return n - k + 1\n",
    "\n",
    "def kmer_lemma_threshold(k, n, e):\n",
    "    return kmer_count(k, n) - (k * e)"
   ]
  },
  {
   "cell_type": "code",
   "execution_count": 215,
   "id": "41aec626",
   "metadata": {
    "scrolled": true
   },
   "outputs": [
    {
     "data": {
      "text/plain": [
       "1"
      ]
     },
     "execution_count": 215,
     "metadata": {},
     "output_type": "execute_result"
    }
   ],
   "source": [
    "error_distribution_count(50, 0)"
   ]
  },
  {
   "cell_type": "code",
   "execution_count": 216,
   "id": "7a9bc59c-6d56-4837-bd31-ac3e51188917",
   "metadata": {},
   "outputs": [
    {
     "data": {
      "text/plain": [
       "16"
      ]
     },
     "execution_count": 216,
     "metadata": {},
     "output_type": "execute_result"
    }
   ],
   "source": [
    "min_k(3e9)"
   ]
  },
  {
   "cell_type": "code",
   "execution_count": 217,
   "id": "8b48d787-1367-4573-89ef-2cc2b81ad258",
   "metadata": {},
   "outputs": [
    {
     "data": {
      "text/plain": [
       "-45"
      ]
     },
     "execution_count": 217,
     "metadata": {},
     "output_type": "execute_result"
    }
   ],
   "source": [
    "kmer_lemma_threshold(16, 50, 5)"
   ]
  },
  {
   "cell_type": "markdown",
   "id": "9f0d1059-0c92-445b-bf01-7b75f523cf78",
   "metadata": {},
   "source": [
    "## Visualise error distributions"
   ]
  },
  {
   "cell_type": "code",
   "execution_count": 218,
   "id": "47b78883-2d1d-4e85-bcc0-994f26645cbc",
   "metadata": {},
   "outputs": [],
   "source": [
    "def print_error_dist(n, err_list):\n",
    "    j = 0\n",
    "    for i in range(1, n + 1):\n",
    "        if (j < len(err_list)):\n",
    "            err_pos = err_list[j]\n",
    "            if (i != err_pos):\n",
    "                print(\"A\", end = '')\n",
    "            else:\n",
    "                print(\"x\", end = '')\n",
    "                j += 1\n",
    "        else:\n",
    "            print(\"A\", end = '')\n",
    "    print()"
   ]
  },
  {
   "cell_type": "code",
   "execution_count": 219,
   "id": "4e11b3fc-53f6-4473-8079-1e2997453d07",
   "metadata": {},
   "outputs": [
    {
     "name": "stdout",
     "output_type": "stream",
     "text": [
      "AxxAAAxAAA\n"
     ]
    }
   ],
   "source": [
    "print_error_dist(10, [2, 3, 7])"
   ]
  },
  {
   "cell_type": "markdown",
   "id": "4923cedb-7dd9-45cb-9bbb-9eed83bf0196",
   "metadata": {},
   "source": [
    "## Find all error distributions\n",
    "\n",
    "For a given minimum length and number of errors, find all possible error distributions"
   ]
  },
  {
   "cell_type": "code",
   "execution_count": 220,
   "id": "e30a5620-cf9a-4177-9526-16f1b4284e6a",
   "metadata": {},
   "outputs": [],
   "source": [
    "# for a given number of errors and sequence length\n",
    "# return a table with e rows\n",
    "# row i are the starting positions for error e counted from the left\n",
    "def make_err_pos_list_list(n, e):\n",
    "    pos_list_list = []\n",
    "    for first_pos in range(1, e + 1):\n",
    "        pos_list_list.append(list(range(first_pos, n + 1 - e + first_pos)))\n",
    "    \n",
    "    return pos_list_list"
   ]
  },
  {
   "cell_type": "code",
   "execution_count": 221,
   "id": "3c045eaf-5ab5-4f07-876c-c10cdceb0345",
   "metadata": {},
   "outputs": [
    {
     "data": {
      "text/plain": [
       "[[1, 2], [2, 3]]"
      ]
     },
     "execution_count": 221,
     "metadata": {},
     "output_type": "execute_result"
    }
   ],
   "source": [
    "#Example for e = 2 and n = 3\n",
    "#[[1, 2] the first error can be at position 1 or 2 \n",
    "#[2, 3]] the second error can be at position 2 or 3\n",
    "make_err_pos_list_list(3, 2)"
   ]
  },
  {
   "cell_type": "code",
   "execution_count": 222,
   "id": "3b57e87a-cc28-4642-92f1-8c9aac10442d",
   "metadata": {},
   "outputs": [],
   "source": [
    "import itertools\n",
    "\n",
    "def is_sorted(x, key = lambda x: x): \t\n",
    "    return all([key(x[i]) <= key(x[i + 1]) for i in range(len(x) - 1)])\n",
    "\n",
    "def make_err_distributions(n, e):\n",
    "    pos_list_list = make_err_pos_list_list(n, e)\n",
    "    combinations = list(itertools.product(*pos_list_list))\n",
    "    #print(pos_list_list)\n",
    "    err_list_list = []\n",
    "    for err_list in combinations:\n",
    "        if len(err_list) == len(set(err_list)) and is_sorted(err_list):\n",
    "            err_list_list.append(err_list)\n",
    "\n",
    "    return err_list_list"
   ]
  },
  {
   "cell_type": "code",
   "execution_count": 223,
   "id": "2d848a08-ca07-41b8-841b-795433d73b35",
   "metadata": {},
   "outputs": [
    {
     "name": "stdout",
     "output_type": "stream",
     "text": [
      "[(1, 2), (1, 3), (1, 4), (1, 5), (2, 3), (2, 4), (2, 5), (3, 4), (3, 5), (4, 5)]\n",
      "True\n",
      "xxAAA\n",
      "xAxAA\n",
      "xAAxA\n",
      "xAAAx\n",
      "AxxAA\n",
      "AxAxA\n",
      "AxAAx\n",
      "AAxxA\n",
      "AAxAx\n",
      "AAAxx\n"
     ]
    }
   ],
   "source": [
    "print(make_err_distributions(5, 2))\n",
    "print(len(make_err_distributions(5, 2)) == error_distribution_count(5, 2))\n",
    "\n",
    "for err_dist in make_err_distributions(5, 2):\n",
    "    print_error_dist(5, err_dist)"
   ]
  },
  {
   "cell_type": "code",
   "execution_count": 224,
   "id": "d1ab303e-712c-47ca-81fb-a01b5f67b4f5",
   "metadata": {},
   "outputs": [
    {
     "name": "stdout",
     "output_type": "stream",
     "text": [
      "3 errors can be configured in 286 ways on a sequence of length 13\n"
     ]
    }
   ],
   "source": [
    "min_len = 13\n",
    "k = 3\n",
    "e = 3\n",
    "err_list_list = make_err_distributions(min_len, e)\n",
    "total_count = len(err_list_list)\n",
    "print(str(e) + \" errors can be configured in \" + str(total_count) + \" ways on a sequence of length \" + str(min_len))"
   ]
  },
  {
   "cell_type": "markdown",
   "id": "17259ae3-3766-4c0c-95b5-08f62199a0ea",
   "metadata": {},
   "source": [
    "## Exhaustive iteration of error distributions"
   ]
  },
  {
   "cell_type": "code",
   "execution_count": 225,
   "id": "30ac9a3f-f95e-4c7a-a19a-628610f2b8f3",
   "metadata": {},
   "outputs": [],
   "source": [
    "def all_kmers_destroyed(n, k, err_list):\n",
    "    if (err_list[0]) > k:\n",
    "        return False\n",
    "    for i in range(len(err_list) - 1):\n",
    "        if (err_list[i+1] - err_list[i]) > k:\n",
    "            return False\n",
    "    if (n - err_list[-1]) >= k:\n",
    "        return False\n",
    "    return True"
   ]
  },
  {
   "cell_type": "markdown",
   "id": "c83d969c-352c-4773-807f-74a879108e7f",
   "metadata": {},
   "source": [
    "In how many error configurations would all shared k-mers be destroyed?"
   ]
  },
  {
   "cell_type": "code",
   "execution_count": 226,
   "id": "200a7a8f-e6ab-4a26-8d6f-f05a3478774b",
   "metadata": {},
   "outputs": [
    {
     "name": "stdout",
     "output_type": "stream",
     "text": [
      "total configurations\t286\n",
      "all destroyed\t0\n",
      "Able to capture similarity \t100.0%\n"
     ]
    }
   ],
   "source": [
    "print(\"total configurations\\t\" + str(total_count))\n",
    "print(\"all destroyed\\t\", end = '')\n",
    "    \n",
    "for threshold in range(0, 1):\n",
    "    all_destroyed = 0\n",
    "    for err_list in err_list_list:\n",
    "        if all_kmers_destroyed(min_len, k, err_list):\n",
    "            all_destroyed += 1\n",
    "        else:\n",
    "            continue\n",
    "            \n",
    "print(all_destroyed)\n",
    "print(\"Able to capture similarity \\t\" + str(round(100 - (all_destroyed * 100)/total_count, 2)) + \"%\")"
   ]
  },
  {
   "cell_type": "markdown",
   "id": "f30106ab-fdba-4b86-b864-a39f2c2677d3",
   "metadata": {},
   "source": [
    "How many of the error configurations would destroy more than the threshold number of k-mers. That is, in how many cases would the number of errors be in the allowed range but the sequences would not share the threshold number of k-mers."
   ]
  },
  {
   "cell_type": "code",
   "execution_count": 227,
   "id": "2a9aa2af-85e7-415f-9e52-c7aae961c13e",
   "metadata": {},
   "outputs": [],
   "source": [
    "def count_remaining_kmers(n, k, err_list):\n",
    "    kmer_count = 0\n",
    "    if (err_list[0]) > k:\n",
    "        kmer_count += err_list[0] - k\n",
    "    for i in range(len(err_list) - 1):\n",
    "        if (err_list[i+1] - err_list[i]) > k:\n",
    "            kmer_count += err_list[i+1] - err_list[i] - k\n",
    "    if (n - err_list[-1] >= k):\n",
    "        kmer_count += n - err_list[-1] - k + 1\n",
    "    return kmer_count"
   ]
  },
  {
   "cell_type": "code",
   "execution_count": 228,
   "id": "ef6e3ba3-1275-449c-b8dc-83d2fbf6b29e",
   "metadata": {},
   "outputs": [
    {
     "name": "stdout",
     "output_type": "stream",
     "text": [
      "min length\t13\n",
      "error count\t3\n",
      "k-mer length\t3\n",
      "kmer-lemma\t2\n",
      "\n",
      "threshold\tFN\tover threshold\n",
      "1\t0.0%\t286\n",
      "2\t0.0%\t286\n",
      "3\t3.5%\t276\n",
      "4\t17.48%\t236\n"
     ]
    }
   ],
   "source": [
    "print(\"min length\\t\" + str(min_len))\n",
    "print(\"error count\\t\" + str(e))\n",
    "print(\"k-mer length\\t\" + str(k))\n",
    "print(\"kmer-lemma\\t\" + str(kmer_lemma_threshold(k, min_len, e)) + \"\\n\")\n",
    "\n",
    "print(\"threshold\\tFN\\tover threshold\")\n",
    "    \n",
    "for threshold in range(1, 5):\n",
    "    over_threshold = 0\n",
    "    for err_list in err_list_list:\n",
    "        if count_remaining_kmers(min_len, k, err_list) >= threshold:\n",
    "            over_threshold += 1\n",
    "        else:\n",
    "            continue\n",
    "\n",
    "    print(threshold, end=\"\\t\")\n",
    "    if (over_threshold > 0):\n",
    "        print(str(round(100 - (over_threshold / total_count) * 100, 2)) + \"%\\t\" + str(over_threshold))\n",
    "    else:\n",
    "        print(\"100%\\t0\")"
   ]
  },
  {
   "cell_type": "markdown",
   "id": "c1349911-3fe5-46cb-9b4a-4be22d157f1d",
   "metadata": {},
   "source": [
    "## Dynamic programming approach\n",
    "\n",
    "Calculate the number of configurations that destroy all k-mers "
   ]
  },
  {
   "cell_type": "code",
   "execution_count": 229,
   "id": "67586c31-26fe-4e53-ac13-d7533f817f20",
   "metadata": {},
   "outputs": [],
   "source": [
    "table = []\n",
    "for err in range(e + 1):\n",
    "    row = []\n",
    "    for seq_len in range(0, min_len + 1):\n",
    "        shared_base_count = seq_len - err\n",
    "        if (k > shared_base_count):\n",
    "            row.append(error_distribution_count(seq_len, err))\n",
    "        elif (err == 0):\n",
    "            row.append(0)\n",
    "        else:\n",
    "            row.append(row[-1] + table[-1][seq_len - 1] - table[-1][seq_len - k - 1])\n",
    "            \n",
    "    table.append(row)"
   ]
  },
  {
   "cell_type": "code",
   "execution_count": 230,
   "id": "63e1f4ee-9486-481d-a0fc-4cdf3b13a19e",
   "metadata": {},
   "outputs": [],
   "source": [
    "def get_FN(table, err, min_len):\n",
    "    return table[err][min_len]"
   ]
  },
  {
   "cell_type": "code",
   "execution_count": 231,
   "id": "c9a95634-73f3-48ad-a374-38e5ad9fd5f7",
   "metadata": {},
   "outputs": [
    {
     "name": "stdout",
     "output_type": "stream",
     "text": [
      "min length\t13\n",
      "error count\t3\n",
      "k-mer length\t3\n",
      "kmer-lemma\t2\n",
      "\n",
      "total configurations\t286\n",
      "all destroyed\t 0\n"
     ]
    }
   ],
   "source": [
    "print(\"min length\\t\" + str(min_len))\n",
    "print(\"error count\\t\" + str(e))\n",
    "print(\"k-mer length\\t\" + str(k))\n",
    "print(\"kmer-lemma\\t\" + str(kmer_lemma_threshold(k, min_len, e)) + \"\\n\")\n",
    "\n",
    "print(\"total configurations\\t\" + str(total_count))\n",
    "print(\"all destroyed\\t\", str(get_FN(table, e, min_len)))"
   ]
  },
  {
   "cell_type": "code",
   "execution_count": 232,
   "id": "32025382-e346-4c3c-8a29-721066ea8f84",
   "metadata": {},
   "outputs": [
    {
     "name": "stdout",
     "output_type": "stream",
     "text": [
      "\t0\t1\t2\t3\t4\t5\t6\t7\t8\t9\t10\t11\t12\t13\t\n",
      "0\t1\t1\t1\t0\t0\t0\t0\t0\t0\t0\t0\t0\t0\t0\t\n",
      "1\t0\t1\t2\t3\t2\t1\t0\t0\t0\t0\t0\t0\t0\t0\t\n",
      "2\t0\t0\t1\t3\t6\t7\t6\t3\t1\t0\t0\t0\t0\t0\t\n",
      "3\t0\t0\t0\t1\t4\t10\t16\t19\t16\t10\t4\t1\t0\t0\t\n"
     ]
    }
   ],
   "source": [
    "def print_table(table):\n",
    "    print(end = \"\\t\")\n",
    "    for seq_len in range(len(table[0])):\n",
    "        print(seq_len, end = \"\\t\")\n",
    "    print()\n",
    "    for err in range(len(table)):\n",
    "        print(err, end = \"\\t\")\n",
    "        for seq_len in range(len(table[err])):\n",
    "            cell = table[err][seq_len]\n",
    "            print(str(cell), end = \"\\t\")\n",
    "    \n",
    "        print(\"\")\n",
    "\n",
    "print_table(table)"
   ]
  },
  {
   "cell_type": "markdown",
   "id": "75e8b372-d409-41c4-a568-5edae71787c8",
   "metadata": {},
   "source": [
    "### Apply threshold\n",
    "\n",
    "Dynamic programming above: find error distributions that destroy (min_len - k + 1) k-mers \\\n",
    "Goal: find error distributions that destroy at least (min_len - k + 1 - threshold) k-mers"
   ]
  },
  {
   "cell_type": "code",
   "execution_count": 311,
   "id": "041297af-afb6-4b78-8919-b2e2c94a5899",
   "metadata": {},
   "outputs": [],
   "source": [
    "def table_for_threshold(threshold):\n",
    "    matrix = []\n",
    "    for t in range(1, threshold + 1):\n",
    "        table = []\n",
    "        for err in range(e + 1):\n",
    "            row = []\n",
    "            for seq_len in range(0, min_len + 1):\n",
    "                shared_base_count = seq_len - err\n",
    "                if (k + t - 1 > shared_base_count): # all error distributions destroy enough k-mers\n",
    "                    row.append(error_distribution_count(seq_len, err))\n",
    "                elif (err == 0):\n",
    "                    row.append(0)\n",
    "                else:\n",
    "                    row.append(row[-1] + table[-1][seq_len - 1])\n",
    "\n",
    "                    # band width is the number of adjacent matrix cells a value depends on\n",
    "                    band = seq_len - k - t # band width is the number of positions the leftmost error can be in\n",
    "                    \n",
    "                    row[-1] -= table[-1][band + t - 1]    \n",
    "                    for i in range(1, t):\n",
    "                        row[-1] -= matrix[-i][err - 1][band + t - i - 1]\n",
    "                        row[-1] += matrix[-i][err - 1][band + t - i]\n",
    "                        \n",
    "            table.append(row)\n",
    "        #print_table(table)\n",
    "        matrix.append(table)\n",
    "    return matrix"
   ]
  },
  {
   "cell_type": "code",
   "execution_count": 312,
   "id": "634f6480-c07e-4d02-9585-1266e3f5cee3",
   "metadata": {},
   "outputs": [
    {
     "name": "stdout",
     "output_type": "stream",
     "text": [
      "threshold\tFN\tover threshold\n",
      "1\t0.0%\t286\n",
      "2\t0.0%\t286\n",
      "3\t3.5%\t276\n",
      "4\t17.48%\t236\n"
     ]
    }
   ],
   "source": [
    "print(\"threshold\\tFN\\tover threshold\")\n",
    "    \n",
    "for threshold in range(1, 5):\n",
    "    matrix = table_for_threshold(threshold)\n",
    "    table = matrix[-1]\n",
    "    #print_table(table)\n",
    "\n",
    "    print(threshold, end=\"\\t\")\n",
    "    over_threshold = total_count - table[-1][-1]\n",
    "    if (over_threshold > 0):\n",
    "        print(str(round(100 - (over_threshold / total_count) * 100, 2)) + \"%\\t\" + str(over_threshold))\n",
    "    else:\n",
    "        print(\"100%\\t0\")"
   ]
  },
  {
   "cell_type": "markdown",
   "id": "52844cb6-f0c9-48ba-86f6-cb81bc9fddeb",
   "metadata": {},
   "source": [
    "## Recursion from Knut"
   ]
  },
  {
   "cell_type": "code",
   "execution_count": 239,
   "id": "3e094393-44b6-4d04-a4a0-7c72c6345f8a",
   "metadata": {},
   "outputs": [],
   "source": [
    "# how many error distributions would destroy all shared k-mers\n",
    "def f(k, n, e):\n",
    "    if(e == 0):\n",
    "        return (1 if (n < k) else 0) # if (n < k) no shared k-mers\n",
    "        \n",
    "    sum = 0\n",
    "    for err_pos in range(1, min(k, n - e) + 1):\n",
    "        #print(str(n) + \"\\t\" + str(err_pos) + \"\\t\" + str(e - 1))\n",
    "        sum += f(k, n - err_pos, e - 1)\n",
    "        \n",
    "    return sum\n",
    "\n",
    "def missed_case_rate(k, n, e):\n",
    "    print(\"k-mer length\\t\" + str(k))\n",
    "    print(\"min length\\t\" + str(n))\n",
    "    print(\"errors\\t\" + str(e))\n",
    "    total_dist_count = error_distribution_count(n, e)\n",
    "    print(\"total configurations\\t\" + str(total_dist_count))\n",
    "    destroyed_dist_count = f(k, n, e)\n",
    "    print(\"all destroyed\\t\" + str(destroyed_dist_count))\n",
    "        \n",
    "    print(\"\\nProbability\")\n",
    "    return round( destroyed_dist_count / total_dist_count, 3)"
   ]
  },
  {
   "cell_type": "code",
   "execution_count": 240,
   "id": "fd885788-9b9c-46d9-9e4d-d1d419b3ee01",
   "metadata": {},
   "outputs": [
    {
     "name": "stdout",
     "output_type": "stream",
     "text": [
      "k-mer length\t3\n",
      "min length\t13\n",
      "errors\t3\n",
      "total configurations\t286\n",
      "all destroyed\t0\n",
      "\n",
      "Probability\n"
     ]
    },
    {
     "data": {
      "text/plain": [
       "0.0"
      ]
     },
     "execution_count": 240,
     "metadata": {},
     "output_type": "execute_result"
    }
   ],
   "source": [
    "missed_case_rate(k, min_len, e)"
   ]
  }
 ],
 "metadata": {
  "kernelspec": {
   "display_name": "Python 3 (ipykernel)",
   "language": "python",
   "name": "python3"
  },
  "language_info": {
   "codemirror_mode": {
    "name": "ipython",
    "version": 3
   },
   "file_extension": ".py",
   "mimetype": "text/x-python",
   "name": "python",
   "nbconvert_exporter": "python",
   "pygments_lexer": "ipython3",
   "version": "3.12.2"
  }
 },
 "nbformat": 4,
 "nbformat_minor": 5
}
