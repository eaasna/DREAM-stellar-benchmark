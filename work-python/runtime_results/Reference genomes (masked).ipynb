{
 "cells": [
  {
   "cell_type": "code",
   "execution_count": 4,
   "id": "4de66a7b-6c77-4cb5-9923-aa556e892bda",
   "metadata": {},
   "outputs": [],
   "source": [
    "import pandas as pd\n",
    "import numpy as np\n",
    "import matplotlib.pyplot as plt\n",
    "from datetime import datetime"
   ]
  },
  {
   "cell_type": "code",
   "execution_count": 5,
   "id": "c7b14390-1f56-4ddb-8b99-7c6ceaa8fa61",
   "metadata": {},
   "outputs": [],
   "source": [
    "def make_timedelta(df):\n",
    "    df['seconds'] = df['time']\n",
    "    df['time'] = pd.to_timedelta(df['time'], unit='s')\n",
    "\n",
    "def get_highest_accuracy(df):\n",
    "    highest_accuracy = pd.DataFrame(columns=df.columns)\n",
    "   \n",
    "    i = 0\n",
    "    for er in np.unique(df[\"error-rate\"]):\n",
    "        for j in range(len(df[df[\"matches\"] == np.max(df[df[\"error-rate\"] == er][\"matches\"])])):\n",
    "            highest_accuracy.loc[i + j] = list(df[df[\"matches\"] == np.max(df[df[\"error-rate\"] == er][\"matches\"])].iloc[j])\n",
    "            i = i + 1\n",
    "    \n",
    "    return highest_accuracy\n",
    "\n",
    "def get_lowest_memory(df):\n",
    "    lowest_memory = pd.DataFrame(columns=df.columns)\n",
    "   \n",
    "    i = 0\n",
    "    for er in np.unique(df[\"error-rate\"]):\n",
    "        for j in range(len(df[df[\"mem\"] == np.min(df[df[\"error-rate\"] == er][\"mem\"])])):\n",
    "            lowest_memory.loc[i + j] = list(df[df[\"mem\"] == np.min(df[df[\"error-rate\"] == er][\"mem\"])].iloc[j])\n",
    "            i = i + 1\n",
    "    \n",
    "    return lowest_memory\n",
    "    \n",
    "def get_fewest_matches(df):\n",
    "    fewest_matches = pd.DataFrame(columns=df.columns)\n",
    "   \n",
    "    i = 0\n",
    "    for er in np.unique(df[\"error-rate\"]):\n",
    "        for j in range(len(df[df[\"matches\"] == np.min(df[df[\"error-rate\"] == er][\"matches\"])])):\n",
    "            fewest_matches.loc[i + j] = list(df[df[\"matches\"] == np.min(df[df[\"error-rate\"] == er][\"matches\"])].iloc[j])\n",
    "        i = i + 1\n",
    "    \n",
    "    return fewest_matches\n",
    "\n",
    "\n",
    "def get_fastest(df):\n",
    "    fastest = pd.DataFrame(columns=df.columns)\n",
    "   \n",
    "    i = 0\n",
    "    for er in np.unique(df[\"error-rate\"]):\n",
    "        for j in range(len(df[df[\"seconds\"] == np.max(df[df[\"error-rate\"] == er][\"seconds\"])])):\n",
    "            fastest.loc[i + j] = list(df[df[\"seconds\"] == np.max(df[df[\"error-rate\"] == er][\"seconds\"])].iloc[j])\n",
    "            i = i + 1\n",
    "    \n",
    "    return fastest"
   ]
  }
 ],
 "metadata": {
  "kernelspec": {
   "display_name": "Python 3 (ipykernel)",
   "language": "python",
   "name": "python3"
  },
  "language_info": {
   "codemirror_mode": {
    "name": "ipython",
    "version": 3
   },
   "file_extension": ".py",
   "mimetype": "text/x-python",
   "name": "python",
   "nbconvert_exporter": "python",
   "pygments_lexer": "ipython3",
   "version": "3.11.2"
  }
 },
 "nbformat": 4,
 "nbformat_minor": 5
}
