{
 "cells": [
  {
   "cell_type": "markdown",
   "metadata": {},
   "source": [
    "### Preprocess stellar output and ground truth files"
   ]
  },
  {
   "cell_type": "code",
   "execution_count": 69,
   "metadata": {},
   "outputs": [],
   "source": [
    "er = \"0\"\n",
    "\n",
    "stellar_out_file = \"../stellar/\" + er + \".gff\"\n",
    "truth_file = \"../ground_truth/\" + er + \".tsv\""
   ]
  },
  {
   "cell_type": "code",
   "execution_count": 88,
   "metadata": {
    "scrolled": true
   },
   "outputs": [
    {
     "data": {
      "text/html": [
       "<div>\n",
       "<style scoped>\n",
       "    .dataframe tbody tr th:only-of-type {\n",
       "        vertical-align: middle;\n",
       "    }\n",
       "\n",
       "    .dataframe tbody tr th {\n",
       "        vertical-align: top;\n",
       "    }\n",
       "\n",
       "    .dataframe thead th {\n",
       "        text-align: right;\n",
       "    }\n",
       "</style>\n",
       "<table border=\"1\" class=\"dataframe\">\n",
       "  <thead>\n",
       "    <tr style=\"text-align: right;\">\n",
       "      <th></th>\n",
       "      <th>DNAME</th>\n",
       "      <th>stellar</th>\n",
       "      <th>eps-matches</th>\n",
       "      <th>DBEGIN</th>\n",
       "      <th>DEND</th>\n",
       "      <th>PERCID</th>\n",
       "      <th>DSTRAND</th>\n",
       "      <th>.</th>\n",
       "      <th>ATTRIBUTES</th>\n",
       "    </tr>\n",
       "  </thead>\n",
       "  <tbody>\n",
       "    <tr>\n",
       "      <th>0</th>\n",
       "      <td>1</td>\n",
       "      <td>Stellar</td>\n",
       "      <td>eps-matches</td>\n",
       "      <td>957189</td>\n",
       "      <td>957393</td>\n",
       "      <td>100</td>\n",
       "      <td>+</td>\n",
       "      <td>.</td>\n",
       "      <td>1;seq2Range=921246,921450;cigar=205M;mutations=</td>\n",
       "    </tr>\n",
       "    <tr>\n",
       "      <th>1</th>\n",
       "      <td>1</td>\n",
       "      <td>Stellar</td>\n",
       "      <td>eps-matches</td>\n",
       "      <td>25455</td>\n",
       "      <td>25658</td>\n",
       "      <td>100</td>\n",
       "      <td>+</td>\n",
       "      <td>.</td>\n",
       "      <td>1;seq2Range=864040,864243;cigar=204M;mutations=</td>\n",
       "    </tr>\n",
       "    <tr>\n",
       "      <th>2</th>\n",
       "      <td>1</td>\n",
       "      <td>Stellar</td>\n",
       "      <td>eps-matches</td>\n",
       "      <td>275627</td>\n",
       "      <td>275829</td>\n",
       "      <td>100</td>\n",
       "      <td>+</td>\n",
       "      <td>.</td>\n",
       "      <td>1;seq2Range=468261,468463;cigar=203M;mutations=</td>\n",
       "    </tr>\n",
       "    <tr>\n",
       "      <th>3</th>\n",
       "      <td>1</td>\n",
       "      <td>Stellar</td>\n",
       "      <td>eps-matches</td>\n",
       "      <td>444936</td>\n",
       "      <td>445138</td>\n",
       "      <td>100</td>\n",
       "      <td>+</td>\n",
       "      <td>.</td>\n",
       "      <td>1;seq2Range=589391,589593;cigar=203M;mutations=</td>\n",
       "    </tr>\n",
       "    <tr>\n",
       "      <th>4</th>\n",
       "      <td>1</td>\n",
       "      <td>Stellar</td>\n",
       "      <td>eps-matches</td>\n",
       "      <td>605699</td>\n",
       "      <td>605901</td>\n",
       "      <td>100</td>\n",
       "      <td>+</td>\n",
       "      <td>.</td>\n",
       "      <td>1;seq2Range=149199,149401;cigar=203M;mutations=</td>\n",
       "    </tr>\n",
       "  </tbody>\n",
       "</table>\n",
       "</div>"
      ],
      "text/plain": [
       "   DNAME  stellar  eps-matches  DBEGIN    DEND  PERCID DSTRAND  .  \\\n",
       "0      1  Stellar  eps-matches  957189  957393     100       +  .   \n",
       "1      1  Stellar  eps-matches   25455   25658     100       +  .   \n",
       "2      1  Stellar  eps-matches  275627  275829     100       +  .   \n",
       "3      1  Stellar  eps-matches  444936  445138     100       +  .   \n",
       "4      1  Stellar  eps-matches  605699  605901     100       +  .   \n",
       "\n",
       "                                        ATTRIBUTES  \n",
       "0  1;seq2Range=921246,921450;cigar=205M;mutations=  \n",
       "1  1;seq2Range=864040,864243;cigar=204M;mutations=  \n",
       "2  1;seq2Range=468261,468463;cigar=203M;mutations=  \n",
       "3  1;seq2Range=589391,589593;cigar=203M;mutations=  \n",
       "4  1;seq2Range=149199,149401;cigar=203M;mutations=  "
      ]
     },
     "execution_count": 88,
     "metadata": {},
     "output_type": "execute_result"
    }
   ],
   "source": [
    "import pandas as pd\n",
    "\n",
    "stellar_df = pd.read_csv(stellar_out_file, sep='\\t', header=None)\n",
    "stellar_df.columns = [\"DNAME\", \"stellar\", \"eps-matches\", \"DBEGIN\", \"DEND\", \"PERCID\", \"DSTRAND\", \".\", \"ATTRIBUTES\"]\n",
    "\n",
    "stellar_df.head()"
   ]
  },
  {
   "cell_type": "code",
   "execution_count": 89,
   "metadata": {},
   "outputs": [
    {
     "data": {
      "text/html": [
       "<div>\n",
       "<style scoped>\n",
       "    .dataframe tbody tr th:only-of-type {\n",
       "        vertical-align: middle;\n",
       "    }\n",
       "\n",
       "    .dataframe tbody tr th {\n",
       "        vertical-align: top;\n",
       "    }\n",
       "\n",
       "    .dataframe thead th {\n",
       "        text-align: right;\n",
       "    }\n",
       "</style>\n",
       "<table border=\"1\" class=\"dataframe\">\n",
       "  <thead>\n",
       "    <tr style=\"text-align: right;\">\n",
       "      <th></th>\n",
       "      <th>QBEGIN</th>\n",
       "      <th>QEND</th>\n",
       "    </tr>\n",
       "  </thead>\n",
       "  <tbody>\n",
       "    <tr>\n",
       "      <th>0</th>\n",
       "      <td>921246</td>\n",
       "      <td>921450</td>\n",
       "    </tr>\n",
       "    <tr>\n",
       "      <th>1</th>\n",
       "      <td>864040</td>\n",
       "      <td>864243</td>\n",
       "    </tr>\n",
       "    <tr>\n",
       "      <th>2</th>\n",
       "      <td>468261</td>\n",
       "      <td>468463</td>\n",
       "    </tr>\n",
       "    <tr>\n",
       "      <th>3</th>\n",
       "      <td>589391</td>\n",
       "      <td>589593</td>\n",
       "    </tr>\n",
       "    <tr>\n",
       "      <th>4</th>\n",
       "      <td>149199</td>\n",
       "      <td>149401</td>\n",
       "    </tr>\n",
       "  </tbody>\n",
       "</table>\n",
       "</div>"
      ],
      "text/plain": [
       "   QBEGIN    QEND\n",
       "0  921246  921450\n",
       "1  864040  864243\n",
       "2  468261  468463\n",
       "3  589391  589593\n",
       "4  149199  149401"
      ]
     },
     "execution_count": 89,
     "metadata": {},
     "output_type": "execute_result"
    }
   ],
   "source": [
    "interesting_attributes = stellar_df['ATTRIBUTES'].str.split(';',expand=True).drop(labels = [0, 2, 3], axis = 1)\n",
    "interesting_attributes = interesting_attributes[1].str.split('=', expand=True).drop(labels=0, axis = 1)\n",
    "interesting_attributes = interesting_attributes[1].str.split(',', expand=True)\n",
    "interesting_attributes.columns = ['QBEGIN', 'QEND']\n",
    "interesting_attributes.head()"
   ]
  },
  {
   "cell_type": "code",
   "execution_count": 90,
   "metadata": {},
   "outputs": [
    {
     "data": {
      "text/html": [
       "<div>\n",
       "<style scoped>\n",
       "    .dataframe tbody tr th:only-of-type {\n",
       "        vertical-align: middle;\n",
       "    }\n",
       "\n",
       "    .dataframe tbody tr th {\n",
       "        vertical-align: top;\n",
       "    }\n",
       "\n",
       "    .dataframe thead th {\n",
       "        text-align: right;\n",
       "    }\n",
       "</style>\n",
       "<table border=\"1\" class=\"dataframe\">\n",
       "  <thead>\n",
       "    <tr style=\"text-align: right;\">\n",
       "      <th></th>\n",
       "      <th>DNAME</th>\n",
       "      <th>DBEGIN</th>\n",
       "      <th>DEND</th>\n",
       "      <th>PERCID</th>\n",
       "      <th>.</th>\n",
       "      <th>QBEGIN</th>\n",
       "      <th>QEND</th>\n",
       "      <th>length</th>\n",
       "    </tr>\n",
       "  </thead>\n",
       "  <tbody>\n",
       "    <tr>\n",
       "      <th>286</th>\n",
       "      <td>1</td>\n",
       "      <td>761209</td>\n",
       "      <td>761309</td>\n",
       "      <td>100</td>\n",
       "      <td>.</td>\n",
       "      <td>851</td>\n",
       "      <td>951</td>\n",
       "      <td>100</td>\n",
       "    </tr>\n",
       "    <tr>\n",
       "      <th>223</th>\n",
       "      <td>1</td>\n",
       "      <td>680792</td>\n",
       "      <td>680941</td>\n",
       "      <td>100</td>\n",
       "      <td>.</td>\n",
       "      <td>1299</td>\n",
       "      <td>1448</td>\n",
       "      <td>149</td>\n",
       "    </tr>\n",
       "    <tr>\n",
       "      <th>47</th>\n",
       "      <td>1</td>\n",
       "      <td>914225</td>\n",
       "      <td>914425</td>\n",
       "      <td>100</td>\n",
       "      <td>.</td>\n",
       "      <td>3795</td>\n",
       "      <td>3995</td>\n",
       "      <td>200</td>\n",
       "    </tr>\n",
       "    <tr>\n",
       "      <th>201</th>\n",
       "      <td>1</td>\n",
       "      <td>305110</td>\n",
       "      <td>305259</td>\n",
       "      <td>100</td>\n",
       "      <td>.</td>\n",
       "      <td>4970</td>\n",
       "      <td>5119</td>\n",
       "      <td>149</td>\n",
       "    </tr>\n",
       "    <tr>\n",
       "      <th>30</th>\n",
       "      <td>1</td>\n",
       "      <td>294912</td>\n",
       "      <td>295112</td>\n",
       "      <td>100</td>\n",
       "      <td>.</td>\n",
       "      <td>7404</td>\n",
       "      <td>7604</td>\n",
       "      <td>200</td>\n",
       "    </tr>\n",
       "  </tbody>\n",
       "</table>\n",
       "</div>"
      ],
      "text/plain": [
       "     DNAME  DBEGIN    DEND  PERCID  .  QBEGIN  QEND  length\n",
       "286      1  761209  761309     100  .     851   951     100\n",
       "223      1  680792  680941     100  .    1299  1448     149\n",
       "47       1  914225  914425     100  .    3795  3995     200\n",
       "201      1  305110  305259     100  .    4970  5119     149\n",
       "30       1  294912  295112     100  .    7404  7604     200"
      ]
     },
     "execution_count": 90,
     "metadata": {},
     "output_type": "execute_result"
    }
   ],
   "source": [
    "stellar_df = stellar_df.drop(labels = [\"stellar\", \"eps-matches\", \"DSTRAND\", \"ATTRIBUTES\"], axis = 1)\n",
    "stellar_df = stellar_df.join(interesting_attributes)\n",
    "stellar_df[\"QBEGIN\"] = pd.to_numeric(stellar_df[\"QBEGIN\"])\n",
    "stellar_df[\"QEND\"] = pd.to_numeric(stellar_df[\"QEND\"])\n",
    "\n",
    "# convert stellar 1-based indices to 0-based\n",
    "stellar_df[\"QBEGIN\"] = stellar_df.apply(lambda row: row.QBEGIN - 1, axis=1)\n",
    "stellar_df[\"QEND\"] = stellar_df.apply(lambda row: row.QEND - 1, axis=1)\n",
    "\n",
    "sorted_stellar = stellar_df.sort_values('QBEGIN')\n",
    "sorted_stellar[\"length\"] = sorted_stellar.apply(lambda row: row.DEND - row.DBEGIN, axis=1)\n",
    "\n",
    "sorted_stellar.head()"
   ]
  },
  {
   "cell_type": "code",
   "execution_count": 93,
   "metadata": {},
   "outputs": [
    {
     "data": {
      "text/html": [
       "<div>\n",
       "<style scoped>\n",
       "    .dataframe tbody tr th:only-of-type {\n",
       "        vertical-align: middle;\n",
       "    }\n",
       "\n",
       "    .dataframe tbody tr th {\n",
       "        vertical-align: top;\n",
       "    }\n",
       "\n",
       "    .dataframe thead th {\n",
       "        text-align: right;\n",
       "    }\n",
       "</style>\n",
       "<table border=\"1\" class=\"dataframe\">\n",
       "  <thead>\n",
       "    <tr style=\"text-align: right;\">\n",
       "      <th></th>\n",
       "      <th>id</th>\n",
       "      <th>QBEGIN</th>\n",
       "      <th>length</th>\n",
       "      <th>QEND</th>\n",
       "    </tr>\n",
       "  </thead>\n",
       "  <tbody>\n",
       "    <tr>\n",
       "      <th>0</th>\n",
       "      <td>l100-109</td>\n",
       "      <td>851</td>\n",
       "      <td>100</td>\n",
       "      <td>951</td>\n",
       "    </tr>\n",
       "    <tr>\n",
       "      <th>1</th>\n",
       "      <td>l150-101</td>\n",
       "      <td>1299</td>\n",
       "      <td>150</td>\n",
       "      <td>1449</td>\n",
       "    </tr>\n",
       "    <tr>\n",
       "      <th>2</th>\n",
       "      <td>l200-124</td>\n",
       "      <td>3796</td>\n",
       "      <td>200</td>\n",
       "      <td>3996</td>\n",
       "    </tr>\n",
       "    <tr>\n",
       "      <th>3</th>\n",
       "      <td>l150-97</td>\n",
       "      <td>4970</td>\n",
       "      <td>150</td>\n",
       "      <td>5120</td>\n",
       "    </tr>\n",
       "    <tr>\n",
       "      <th>4</th>\n",
       "      <td>l200-43</td>\n",
       "      <td>7405</td>\n",
       "      <td>200</td>\n",
       "      <td>7605</td>\n",
       "    </tr>\n",
       "  </tbody>\n",
       "</table>\n",
       "</div>"
      ],
      "text/plain": [
       "         id  QBEGIN  length  QEND\n",
       "0  l100-109     851     100   951\n",
       "1  l150-101    1299     150  1449\n",
       "2  l200-124    3796     200  3996\n",
       "3   l150-97    4970     150  5120\n",
       "4   l200-43    7405     200  7605"
      ]
     },
     "execution_count": 93,
     "metadata": {},
     "output_type": "execute_result"
    }
   ],
   "source": [
    "truth_df = pd.read_csv(truth_file, sep='\\t')\n",
    "truth_df['QEND'] =  truth_df.apply(lambda row: row.position + row.length, axis=1)\n",
    "truth_df.rename(columns = {'position':'QBEGIN'}, inplace = True)\n",
    "truth_df.head()"
   ]
  },
  {
   "cell_type": "markdown",
   "metadata": {},
   "source": [
    "### Check if stellar finds ground truth\n",
    "\n",
    "More specifically check if for each local match in the ground truth there exists a stellar match which overlaps the ground truth by at least 50bp. "
   ]
  },
  {
   "cell_type": "code",
   "execution_count": 107,
   "metadata": {},
   "outputs": [
    {
     "name": "stdout",
     "output_type": "stream",
     "text": [
      "500\n"
     ]
    }
   ],
   "source": [
    "true_match_count = 0\n",
    "overlap_list = []\n",
    "\n",
    "for t_ind in range(len(truth_df[\"id\"])):\n",
    "    truth_range = range(truth_df.iloc[t_ind]['QBEGIN'],truth_df.iloc[t_ind]['QEND'])\n",
    "    for s_ind in range(len(sorted_stellar['DNAME'])):\n",
    "        stellar_range = range(sorted_stellar.iloc[s_ind]['QBEGIN'],sorted_stellar.iloc[s_ind]['QEND'])\n",
    "        \n",
    "        # find overlap between two ranges\n",
    "        overlap_range = range(max(truth_range[0], stellar_range[0]), min(truth_range[-1], stellar_range[-1])+1)\n",
    "        if (len(overlap_range) >= 40):\n",
    "            true_match_count += 1\n",
    "            overlap_list.append(len(overlap_range))\n",
    "            \n",
    "print(true_match_count)"
   ]
  },
  {
   "cell_type": "code",
   "execution_count": 112,
   "metadata": {},
   "outputs": [
    {
     "data": {
      "text/plain": [
       "500"
      ]
     },
     "execution_count": 112,
     "metadata": {},
     "output_type": "execute_result"
    }
   ],
   "source": [
    "len(truth_df[\"id\"])"
   ]
  },
  {
   "cell_type": "code",
   "execution_count": 115,
   "metadata": {},
   "outputs": [
    {
     "data": {
      "text/plain": [
       "True"
      ]
     },
     "execution_count": 115,
     "metadata": {},
     "output_type": "execute_result"
    }
   ],
   "source": [
    "# Did Stellar find all matches?\n",
    "true_match_count == len(truth_df[\"id\"])"
   ]
  },
  {
   "cell_type": "code",
   "execution_count": 111,
   "metadata": {},
   "outputs": [
    {
     "data": {
      "image/png": "[encoded data removed]",
      "text/plain": [
       "<Figure size 432x288 with 1 Axes>"
      ]
     },
     "metadata": {
      "needs_background": "light"
     },
     "output_type": "display_data"
    }
   ],
   "source": [
    "import matplotlib.pyplot as plt\n",
    "import numpy as np\n",
    "%matplotlib inline\n",
    "\n",
    "plt.hist(overlap_list, density=False, bins=10)  # density=False would make counts\n",
    "plt.ylabel('Count of matches')\n",
    "plt.xlabel('Length of overlap between Stellar output and ground truth');"
   ]
  }
 ],
 "metadata": {
  "kernelspec": {
   "display_name": "Python 3",
   "language": "python",
   "name": "python3"
  },
  "language_info": {
   "codemirror_mode": {
    "name": "ipython",
    "version": 3
   },
   "file_extension": ".py",
   "mimetype": "text/x-python",
   "name": "python",
   "nbconvert_exporter": "python",
   "pygments_lexer": "ipython3",
   "version": "3.7.6"
  }
 },
 "nbformat": 4,
 "nbformat_minor": 4
}
