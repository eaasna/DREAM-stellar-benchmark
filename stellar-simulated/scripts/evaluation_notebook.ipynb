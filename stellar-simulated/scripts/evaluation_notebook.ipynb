{
 "cells": [
  {
   "cell_type": "markdown",
   "metadata": {},
   "source": [
    "### Just a sandbox"
   ]
  },
  {
   "cell_type": "code",
   "execution_count": 37,
   "metadata": {},
   "outputs": [],
   "source": [
    "import pandas as pd\n",
    "import numpy as np"
   ]
  },
  {
   "cell_type": "code",
   "execution_count": 50,
   "metadata": {},
   "outputs": [],
   "source": [
    "ref_sizes = [\"1kb\", \"10kb\", \"100kb\", \"1Mb\", \"10Mb\"]"
   ]
  },
  {
   "cell_type": "code",
   "execution_count": 52,
   "metadata": {},
   "outputs": [
    {
     "name": "stdout",
     "output_type": "stream",
     "text": [
      "1kb\n",
      "10kb\n",
      "100kb\n",
      "1Mb\n",
      "10Mb\n"
     ]
    },
    {
     "data": {
      "text/html": [
       "<div>\n",
       "<style scoped>\n",
       "    .dataframe tbody tr th:only-of-type {\n",
       "        vertical-align: middle;\n",
       "    }\n",
       "\n",
       "    .dataframe tbody tr th {\n",
       "        vertical-align: top;\n",
       "    }\n",
       "\n",
       "    .dataframe thead th {\n",
       "        text-align: right;\n",
       "    }\n",
       "</style>\n",
       "<table border=\"1\" class=\"dataframe\">\n",
       "  <thead>\n",
       "    <tr style=\"text-align: right;\">\n",
       "      <th></th>\n",
       "      <th>time mean (sec)</th>\n",
       "      <th>time std deviation</th>\n",
       "      <th>missed (%)</th>\n",
       "    </tr>\n",
       "  </thead>\n",
       "  <tbody>\n",
       "    <tr>\n",
       "      <th>0</th>\n",
       "      <td>0.52</td>\n",
       "      <td>0.005</td>\n",
       "      <td>0.0</td>\n",
       "    </tr>\n",
       "    <tr>\n",
       "      <th>1</th>\n",
       "      <td>0.44</td>\n",
       "      <td>0.005</td>\n",
       "      <td>0.0</td>\n",
       "    </tr>\n",
       "    <tr>\n",
       "      <th>2</th>\n",
       "      <td>0.75</td>\n",
       "      <td>0.182</td>\n",
       "      <td>0.0</td>\n",
       "    </tr>\n",
       "    <tr>\n",
       "      <th>3</th>\n",
       "      <td>8.99</td>\n",
       "      <td>11.601</td>\n",
       "      <td>0.0</td>\n",
       "    </tr>\n",
       "    <tr>\n",
       "      <th>4</th>\n",
       "      <td>2562.43</td>\n",
       "      <td>3952.684</td>\n",
       "      <td>0.0</td>\n",
       "    </tr>\n",
       "  </tbody>\n",
       "</table>\n",
       "</div>"
      ],
      "text/plain": [
       "   time mean (sec)  time std deviation  missed (%)\n",
       "0             0.52               0.005         0.0\n",
       "1             0.44               0.005         0.0\n",
       "2             0.75               0.182         0.0\n",
       "3             8.99              11.601         0.0\n",
       "4          2562.43            3952.684         0.0"
      ]
     },
     "execution_count": 52,
     "metadata": {},
     "output_type": "execute_result"
    }
   ],
   "source": [
    "avg_times = []\n",
    "time_deviations = []\n",
    "missed = []\n",
    "\n",
    "for size in ref_sizes:\n",
    "    print(size)\n",
    "    table_name = \"../\" + size + \"/table1.tsv\"\n",
    "    table = pd.read_csv(table_name, sep='\\t', index_col=0)\n",
    "    time_array = table[\"time (sec)\"]\n",
    "    avg_times.append(round(np.mean(time_array), 2))\n",
    "    time_deviations.append(round(np.std(time_array), 3))\n",
    "    missed.append(np.mean(table[\"missed (%)\"]))\n",
    "    \n",
    "data = {'time mean (sec)': avg_times,\n",
    "        'time std deviation': time_deviations,\n",
    "        'missed (%)': missed}\n",
    " \n",
    "# Create DataFrame\n",
    "df = pd.DataFrame(data)\n",
    "df"
   ]
  }
 ],
 "metadata": {
  "kernelspec": {
   "display_name": "Python 3",
   "language": "python",
   "name": "python3"
  },
  "language_info": {
   "codemirror_mode": {
    "name": "ipython",
    "version": 3
   },
   "file_extension": ".py",
   "mimetype": "text/x-python",
   "name": "python",
   "nbconvert_exporter": "python",
   "pygments_lexer": "ipython3",
   "version": "3.7.6"
  }
 },
 "nbformat": 4,
 "nbformat_minor": 4
}
