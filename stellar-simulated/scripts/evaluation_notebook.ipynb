{
 "cells": [
  {
   "cell_type": "markdown",
   "metadata": {},
   "source": [
    "### Preprocess stellar output and ground truth files\n",
    "\n",
    "Most of this is now done in `evaluate_stellar_search.py` and could be deleted.\n",
    "\n",
    "TODO: why is the accuracy low for 5% and 7.5% error rates?"
   ]
  },
  {
   "cell_type": "code",
   "execution_count": 50,
   "metadata": {},
   "outputs": [],
   "source": []
  },
  {
   "cell_type": "code",
   "execution_count": 54,
   "metadata": {},
   "outputs": [
    {
     "data": {
      "text/html": [
       "<div>\n",
       "<style scoped>\n",
       "    .dataframe tbody tr th:only-of-type {\n",
       "        vertical-align: middle;\n",
       "    }\n",
       "\n",
       "    .dataframe tbody tr th {\n",
       "        vertical-align: top;\n",
       "    }\n",
       "\n",
       "    .dataframe thead th {\n",
       "        text-align: right;\n",
       "    }\n",
       "</style>\n",
       "<table border=\"1\" class=\"dataframe\">\n",
       "  <thead>\n",
       "    <tr style=\"text-align: right;\">\n",
       "      <th></th>\n",
       "      <th>error_rate</th>\n",
       "      <th>time (sec)</th>\n",
       "      <th>missed (%)</th>\n",
       "    </tr>\n",
       "  </thead>\n",
       "  <tbody>\n",
       "    <tr>\n",
       "      <th>0</th>\n",
       "      <td>0</td>\n",
       "      <td>11.16</td>\n",
       "      <td>0.00</td>\n",
       "    </tr>\n",
       "    <tr>\n",
       "      <th>1</th>\n",
       "      <td>0.025</td>\n",
       "      <td>1.14</td>\n",
       "      <td>0.00</td>\n",
       "    </tr>\n",
       "    <tr>\n",
       "      <th>2</th>\n",
       "      <td>0.05</td>\n",
       "      <td>1.23</td>\n",
       "      <td>0.22</td>\n",
       "    </tr>\n",
       "    <tr>\n",
       "      <th>3</th>\n",
       "      <td>0.075</td>\n",
       "      <td>1.56</td>\n",
       "      <td>0.20</td>\n",
       "    </tr>\n",
       "    <tr>\n",
       "      <th>4</th>\n",
       "      <td>0.1</td>\n",
       "      <td>54.34</td>\n",
       "      <td>0.00</td>\n",
       "    </tr>\n",
       "  </tbody>\n",
       "</table>\n",
       "</div>"
      ],
      "text/plain": [
       "  error_rate  time (sec)  missed (%)\n",
       "0          0       11.16        0.00\n",
       "1      0.025        1.14        0.00\n",
       "2       0.05        1.23        0.22\n",
       "3      0.075        1.56        0.20\n",
       "4        0.1       54.34        0.00"
      ]
     },
     "execution_count": 54,
     "metadata": {},
     "output_type": "execute_result"
    }
   ],
   "source": [
    "error_rate_list = [\"0\", \"0025\", \"005\", \"0075\", \"01\"]\n",
    "\n",
    "dfs = []\n",
    "\n",
    "for rep in range(5):\n",
    "    time_list = []\n",
    "    missed_list = []\n",
    "    for er in error_rate_list:\n",
    "        benchmark_file = \"../benchmarks/stellar_\" + str(rep) + \"_\" + er + \".txt\"\n",
    "        benchmark = pd.read_csv(benchmark_file, sep='\\t')\n",
    "        time_list.append(round(benchmark['s'].iloc[0], 3))\n",
    "    \n",
    "        evaluation_file = \"../evaluation/\" + str(rep) + \"_\" + er + \".tsv\"\n",
    "        evaluation = pd.read_csv(evaluation_file, sep='\\t', index_col = 0)\n",
    "        missed_list.append(round(evaluation[\"missed\"].iloc[0], 3))\n",
    "\n",
    "    data = {'error_rate':error_rate_list,\n",
    "            'time (sec)':time_list,\n",
    "            'missed (%)':missed_list}\n",
    "\n",
    "    df = pd.DataFrame(data)\n",
    "    #print(df)\n",
    "    dfs.append(pd.DataFrame(data))\n",
    "    \n",
    "# find mean of each time and missed cell over all repetitions\n",
    "rep_mean = pd.concat(dfs).groupby(level=0).mean()\n",
    "rep_mean[\"error_rate\"] = df[\"error_rate\"].apply(get_float_er)\n",
    "\n",
    "# change order of columns\n",
    "cols = rep_mean.columns.tolist()\n",
    "cols = cols[-1:] + cols[:-1]\n",
    "rep_mean = rep_mean[cols]\n",
    "\n",
    "rep_mean.round(2)"
   ]
  },
  {
   "cell_type": "code",
   "execution_count": null,
   "metadata": {},
   "outputs": [],
   "source": []
  }
 ],
 "metadata": {
  "kernelspec": {
   "display_name": "Python 3",
   "language": "python",
   "name": "python3"
  },
  "language_info": {
   "codemirror_mode": {
    "name": "ipython",
    "version": 3
   },
   "file_extension": ".py",
   "mimetype": "text/x-python",
   "name": "python",
   "nbconvert_exporter": "python",
   "pygments_lexer": "ipython3",
   "version": "3.7.6"
  }
 },
 "nbformat": 4,
 "nbformat_minor": 4
}
