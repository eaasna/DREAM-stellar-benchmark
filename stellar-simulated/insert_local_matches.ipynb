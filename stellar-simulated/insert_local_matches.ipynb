{
 "cells": [
  {
   "cell_type": "markdown",
   "metadata": {},
   "source": [
    "# Create 1MB of query that contains 500 local matches\n",
    "\n",
    "# Set error rate"
   ]
  },
  {
   "cell_type": "code",
   "execution_count": 162,
   "metadata": {},
   "outputs": [],
   "source": [
    "error_rate = \"0\"    #   0%\n",
    "#error_rate = \"0025\" # 2.5%\n",
    "#error_rate = \"005\"  #   5%\n",
    "#error_rate = \"0075\" # 7.5%\n",
    "#error_rate = \"010\"  #  10%\n",
    "\n",
    "# ------- INPUT -------\n",
    "# Local matches sampled with certain error rate\n",
    "match_file = \"local_matches_\" + error_rate + \".fastq\"\n",
    "\n",
    "# 1MB of sequence where local matches will be inserted into\n",
    "query_file = \"one_line.fasta\"\n",
    "\n",
    "# ------- OUTPUT ------- \n",
    "# query sequence file\n",
    "query_with_insertions_file = \"query_with_insertions_\" + error_rate + \".fasta\"\n",
    "# ground truth file\n",
    "ground_truth_file = \"ground_truth_\" + error_rate + \".tsv\""
   ]
  },
  {
   "cell_type": "markdown",
   "metadata": {},
   "source": [
    "## Read in local matches and 1MB query sequence"
   ]
  },
  {
   "cell_type": "code",
   "execution_count": 163,
   "metadata": {},
   "outputs": [],
   "source": [
    "import sys\n",
    "import os\n",
    "from Bio import SeqIO\n",
    "import pandas as pd\n",
    "\n",
    "def check_file_exists(fn):\n",
    "    if not os.path.exists(fn):\n",
    "        raise SystemError(\"Error: File does not exist\\n\")"
   ]
  },
  {
   "cell_type": "code",
   "execution_count": 164,
   "metadata": {},
   "outputs": [
    {
     "data": {
      "text/plain": [
       "Seq('CCAATGGATATTGGCTCGACACCACAGCGTCGATTCTTTCGTTAACCGCT', SingleLetterAlphabet())"
      ]
     },
     "execution_count": 164,
     "metadata": {},
     "output_type": "execute_result"
    }
   ],
   "source": [
    "check_file_exists(match_file)\n",
    "\n",
    "local_matches = list(SeqIO.parse(match_file, \"fastq\"))\n",
    "local_matches[0].seq"
   ]
  },
  {
   "cell_type": "code",
   "execution_count": 165,
   "metadata": {},
   "outputs": [],
   "source": [
    "check_file_exists(query_file)\n",
    "\n",
    "query = list(SeqIO.parse(query_file, \"fasta\"))\n",
    "assert (len(query) == 1),\"Query contains more than one sequence, pick which one to insert to.\""
   ]
  },
  {
   "cell_type": "markdown",
   "metadata": {},
   "source": [
    "## Assign random location to each local match"
   ]
  },
  {
   "cell_type": "code",
   "execution_count": 166,
   "metadata": {},
   "outputs": [
    {
     "data": {
      "text/plain": [
       "1048576"
      ]
     },
     "execution_count": 166,
     "metadata": {},
     "output_type": "execute_result"
    }
   ],
   "source": [
    "query_len = len(query[0].seq)\n",
    "query_len"
   ]
  },
  {
   "cell_type": "code",
   "execution_count": 167,
   "metadata": {},
   "outputs": [
    {
     "data": {
      "text/plain": [
       "[851, 1199, 3546, 4520, 6805]"
      ]
     },
     "execution_count": 167,
     "metadata": {},
     "output_type": "execute_result"
    }
   ],
   "source": [
    "import random\n",
    "random.seed(42)\n",
    "ran_ind_list = random.sample(range(query_len), len(local_matches))\n",
    "ran_ind_list.sort()\n",
    "ran_ind_list[0:5]"
   ]
  },
  {
   "cell_type": "code",
   "execution_count": 168,
   "metadata": {},
   "outputs": [
    {
     "data": {
      "text/plain": [
       "[SeqRecord(seq=Seq('GAGTCCGAAATGTACATAGAATTTATGTAATTCTAGTTCGTTTGGGCGATTGCA...TCG', SingleLetterAlphabet()), id='l100-109', name='l100-109', description=851, dbxrefs=[]),\n",
       " SeqRecord(seq=Seq('TGATTGATCCGATTCACACCATATAGTAGGGCTGGTAACACCCCTCTCGAGTGT...GGC', SingleLetterAlphabet()), id='l150-101', name='l150-101', description=1199, dbxrefs=[]),\n",
       " SeqRecord(seq=Seq('CAGCACCGGCGCGGGCAAGAAAATCCATAGGGAGAATCAGCAATTAGTTCGACT...CCG', SingleLetterAlphabet()), id='l200-124', name='l200-124', description=3546, dbxrefs=[]),\n",
       " SeqRecord(seq=Seq('CGATGTGTGATCCTTAAACTTCGGGCAACTTACGCTGTCGCCCATCAGACAGTC...CTA', SingleLetterAlphabet()), id='l150-97', name='l150-97', description=4520, dbxrefs=[]),\n",
       " SeqRecord(seq=Seq('CCGCATTCTGGTGACACAGACCGCCTGAATGCCATCCCTGCGTCTCCAAATGAA...GAT', SingleLetterAlphabet()), id='l200-43', name='l200-43', description=6805, dbxrefs=[])]"
      ]
     },
     "execution_count": 168,
     "metadata": {},
     "output_type": "execute_result"
    }
   ],
   "source": [
    "# shuffle local matches so that they would appear in the query in a random order\n",
    "random.shuffle(local_matches) \n",
    "\n",
    "for i in range(len(local_matches)):\n",
    "    local_matches[i].description = ran_ind_list[i]\n",
    "\n",
    "local_matches[0:5]"
   ]
  },
  {
   "cell_type": "markdown",
   "metadata": {},
   "source": [
    "## Insert local matches into query at random positions"
   ]
  },
  {
   "cell_type": "code",
   "execution_count": 169,
   "metadata": {},
   "outputs": [],
   "source": [
    "original_query = query[0].seq\n",
    "\n",
    "id_list = []\n",
    "position_list = []\n",
    "length_list = []"
   ]
  },
  {
   "cell_type": "code",
   "execution_count": 170,
   "metadata": {},
   "outputs": [],
   "source": [
    "insertion_length = 0\n",
    "query_with_insertions = original_query[0:local_matches[0].description]\n",
    "\n",
    "for i in range(0, len(local_matches)):\n",
    "    match = local_matches[i]\n",
    "    \n",
    "    # gather ground truth\n",
    "    id_list.append(match.name)\n",
    "    insertion_position = match.description + insertion_length\n",
    "    position_list.append(insertion_position)\n",
    "    length_list.append(len(match.seq))\n",
    "    \n",
    "    prefix = query_with_insertions[0:insertion_position]\n",
    "    insertion = match.seq\n",
    "    \n",
    "    if (i < (len(local_matches) - 1)):\n",
    "        postfix = original_query[match.description:local_matches[i+1].description]\n",
    "    else:\n",
    "        # edge case: insert last local match\n",
    "        postfix = original_query[local_matches[-1].description:]\n",
    "        \n",
    "    insertion_length += len(match.seq)\n",
    "    query_with_insertions = prefix + insertion + postfix "
   ]
  },
  {
   "cell_type": "code",
   "execution_count": 171,
   "metadata": {},
   "outputs": [],
   "source": [
    "assert (len(query_with_insertions) - len(original_query)) == insertion_length,\"Wrong length of sequence inserted.\""
   ]
  },
  {
   "cell_type": "code",
   "execution_count": 175,
   "metadata": {},
   "outputs": [],
   "source": [
    "with open(query_with_insertions_file, 'w') as f:\n",
    "    f.write('>1\\n')\n",
    "    f.write(str(query_with_insertions))\n",
    "    \n",
    "f.close()"
   ]
  },
  {
   "cell_type": "markdown",
   "metadata": {},
   "source": [
    "## Create ground truth file"
   ]
  },
  {
   "cell_type": "code",
   "execution_count": 176,
   "metadata": {},
   "outputs": [
    {
     "data": {
      "text/html": [
       "<div>\n",
       "<style scoped>\n",
       "    .dataframe tbody tr th:only-of-type {\n",
       "        vertical-align: middle;\n",
       "    }\n",
       "\n",
       "    .dataframe tbody tr th {\n",
       "        vertical-align: top;\n",
       "    }\n",
       "\n",
       "    .dataframe thead th {\n",
       "        text-align: right;\n",
       "    }\n",
       "</style>\n",
       "<table border=\"1\" class=\"dataframe\">\n",
       "  <thead>\n",
       "    <tr style=\"text-align: right;\">\n",
       "      <th></th>\n",
       "      <th>id</th>\n",
       "      <th>position</th>\n",
       "      <th>length</th>\n",
       "    </tr>\n",
       "  </thead>\n",
       "  <tbody>\n",
       "    <tr>\n",
       "      <th>0</th>\n",
       "      <td>l100-109</td>\n",
       "      <td>851</td>\n",
       "      <td>100</td>\n",
       "    </tr>\n",
       "    <tr>\n",
       "      <th>1</th>\n",
       "      <td>l150-101</td>\n",
       "      <td>1299</td>\n",
       "      <td>150</td>\n",
       "    </tr>\n",
       "    <tr>\n",
       "      <th>2</th>\n",
       "      <td>l200-124</td>\n",
       "      <td>3796</td>\n",
       "      <td>200</td>\n",
       "    </tr>\n",
       "    <tr>\n",
       "      <th>3</th>\n",
       "      <td>l150-97</td>\n",
       "      <td>4970</td>\n",
       "      <td>150</td>\n",
       "    </tr>\n",
       "    <tr>\n",
       "      <th>4</th>\n",
       "      <td>l200-43</td>\n",
       "      <td>7405</td>\n",
       "      <td>200</td>\n",
       "    </tr>\n",
       "  </tbody>\n",
       "</table>\n",
       "</div>"
      ],
      "text/plain": [
       "         id  position  length\n",
       "0  l100-109       851     100\n",
       "1  l150-101      1299     150\n",
       "2  l200-124      3796     200\n",
       "3   l150-97      4970     150\n",
       "4   l200-43      7405     200"
      ]
     },
     "execution_count": 176,
     "metadata": {},
     "output_type": "execute_result"
    }
   ],
   "source": [
    "ground_truth = {'id':id_list,\n",
    "                'position':position_list,\n",
    "                'length':length_list}\n",
    " \n",
    "ground_truth_df = pd.DataFrame(ground_truth)\n",
    "ground_truth_df.to_csv(ground_truth_file, index=False, sep='\\t')\n",
    "ground_truth_df.head()"
   ]
  }
 ],
 "metadata": {
  "kernelspec": {
   "display_name": "Python 3",
   "language": "python",
   "name": "python3"
  },
  "language_info": {
   "codemirror_mode": {
    "name": "ipython",
    "version": 3
   },
   "file_extension": ".py",
   "mimetype": "text/x-python",
   "name": "python",
   "nbconvert_exporter": "python",
   "pygments_lexer": "ipython3",
   "version": "3.7.6"
  }
 },
 "nbformat": 4,
 "nbformat_minor": 4
}
