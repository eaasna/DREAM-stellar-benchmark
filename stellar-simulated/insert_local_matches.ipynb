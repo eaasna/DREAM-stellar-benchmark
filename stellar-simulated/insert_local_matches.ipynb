{
 "cells": [
  {
   "cell_type": "markdown",
   "metadata": {},
   "source": [
    "# Create 1MB of query that contains 500 local matches\n",
    "\n",
    "# Set error rate"
   ]
  },
  {
   "cell_type": "code",
   "execution_count": 45,
   "metadata": {},
   "outputs": [],
   "source": [
    "#error_rate = \"0\"    #   0%\n",
    "#error_rate = \"0025\" # 2.5%\n",
    "#error_rate = \"005\"  #   5%\n",
    "#error_rate = \"0075\" # 7.5%\n",
    "error_rate = \"010\"  #  10%\n",
    "\n",
    "# Local matches sampled with certain error rate\n",
    "match_file = \"local_matches_\" + error_rate + \".fastq\"\n",
    "\n",
    "# 1MB of sequence where local matches will be inserted into\n",
    "query_file = \"one_line.fasta\"\n",
    "\n",
    "# Output file\n",
    "query_with_insertions_file = \"query_with_insertions_\" + error_rate + \".fasta\""
   ]
  },
  {
   "cell_type": "markdown",
   "metadata": {},
   "source": [
    "## Read in local matches and 1MB query sequence"
   ]
  },
  {
   "cell_type": "code",
   "execution_count": 46,
   "metadata": {},
   "outputs": [],
   "source": [
    "import sys\n",
    "import os\n",
    "from Bio import SeqIO\n",
    "import pandas as pd\n",
    "\n",
    "def check_file_exists(fn):\n",
    "    if not os.path.exists(fn):\n",
    "        raise SystemError(\"Error: File does not exist\\n\")"
   ]
  },
  {
   "cell_type": "code",
   "execution_count": 47,
   "metadata": {},
   "outputs": [
    {
     "data": {
      "text/plain": [
       "Seq('GGTGGCTTAAAAGGAAGAACAGGCACCTGATAGCGAGGGGAGCAGCCTGT', SingleLetterAlphabet())"
      ]
     },
     "execution_count": 47,
     "metadata": {},
     "output_type": "execute_result"
    }
   ],
   "source": [
    "check_file_exists(match_file)\n",
    "\n",
    "local_matches = list(SeqIO.parse(match_file, \"fastq\"))\n",
    "local_matches[0].seq"
   ]
  },
  {
   "cell_type": "code",
   "execution_count": 48,
   "metadata": {},
   "outputs": [],
   "source": [
    "check_file_exists(query_file)\n",
    "\n",
    "query = list(SeqIO.parse(query_file, \"fasta\"))\n",
    "assert (len(query) == 1),\"Query contains more than one sequence, pick which one to insert to.\""
   ]
  },
  {
   "cell_type": "markdown",
   "metadata": {},
   "source": [
    "## Assign random location to each local match"
   ]
  },
  {
   "cell_type": "code",
   "execution_count": 49,
   "metadata": {},
   "outputs": [
    {
     "data": {
      "text/plain": [
       "1048576"
      ]
     },
     "execution_count": 49,
     "metadata": {},
     "output_type": "execute_result"
    }
   ],
   "source": [
    "query_len = len(query[0].seq)\n",
    "query_len"
   ]
  },
  {
   "cell_type": "code",
   "execution_count": 50,
   "metadata": {},
   "outputs": [
    {
     "data": {
      "text/plain": [
       "[851, 1199, 3546, 4520, 6805]"
      ]
     },
     "execution_count": 50,
     "metadata": {},
     "output_type": "execute_result"
    }
   ],
   "source": [
    "import random\n",
    "random.seed(42)\n",
    "ran_ind_list = random.sample(range(query_len), len(local_matches))\n",
    "ran_ind_list.sort()\n",
    "ran_ind_list[0:5]"
   ]
  },
  {
   "cell_type": "code",
   "execution_count": 51,
   "metadata": {},
   "outputs": [
    {
     "data": {
      "text/plain": [
       "[SeqRecord(seq=Seq('GAGACCTCTGGTAGTATGAAGAGGTTCTTATGACACAAGACTGGTCGACGGACT...CGA', SingleLetterAlphabet()), id='l100-109', name='l100-109', description=851, dbxrefs=[]),\n",
       " SeqRecord(seq=Seq('GCGGGATCTTAGGACCTCGGTTAAATTATTTTCGCTAGATCACCCAAGCGTTCT...TAG', SingleLetterAlphabet()), id='l150-101', name='l150-101', description=1199, dbxrefs=[]),\n",
       " SeqRecord(seq=Seq('AAGGGGCCTCAGGTTCTGTTACTTGTTAAATATGGGCGGGAAGTGCTGCAGTTT...ACG', SingleLetterAlphabet()), id='l200-124', name='l200-124', description=3546, dbxrefs=[]),\n",
       " SeqRecord(seq=Seq('AGTAGCATTTGAAGCTGGGCACACACTGGCGGGTAGGAGAACGATCGCTGTTGA...TAG', SingleLetterAlphabet()), id='l150-97', name='l150-97', description=4520, dbxrefs=[]),\n",
       " SeqRecord(seq=Seq('AGATCCTCCAGTGAGCGTCTCAAACCCTCAATTGAGACCTGTCTAAGAAGGATT...AAA', SingleLetterAlphabet()), id='l200-43', name='l200-43', description=6805, dbxrefs=[])]"
      ]
     },
     "execution_count": 51,
     "metadata": {},
     "output_type": "execute_result"
    }
   ],
   "source": [
    "# shuffle local matches so that they would appear in the query in a random order\n",
    "random.shuffle(local_matches) \n",
    "\n",
    "for i in range(len(local_matches)):\n",
    "    local_matches[i].description = ran_ind_list[i]\n",
    "\n",
    "local_matches[0:5]"
   ]
  },
  {
   "cell_type": "markdown",
   "metadata": {},
   "source": [
    "## Insert local matches into query at random positions"
   ]
  },
  {
   "cell_type": "code",
   "execution_count": 52,
   "metadata": {},
   "outputs": [],
   "source": [
    "original_query = query[0].seq"
   ]
  },
  {
   "cell_type": "code",
   "execution_count": 53,
   "metadata": {},
   "outputs": [],
   "source": [
    "insertion_length = 0\n",
    "query_with_insertions = original_query[0:local_matches[0].description]\n",
    "\n",
    "for i in range(0, len(local_matches) - 1):\n",
    "    prefix = query_with_insertions[0:local_matches[i].description + insertion_length]\n",
    "    insertion = local_matches[i].seq\n",
    "    postfix = original_query[local_matches[i].description:local_matches[i+1].description]\n",
    "    \n",
    "    query_with_insertions = prefix + insertion + postfix \n",
    "    insertion_length += len(local_matches[i].seq)\n",
    "\n",
    "# edge case: insert last local match\n",
    "query_with_insertions = query_with_insertions[0:local_matches[-1].description + insertion_length]\n",
    "query_with_insertions += local_matches[-1].seq\n",
    "insertion_length += len(local_matches[-1].seq)\n",
    "query_with_insertions += original_query[local_matches[-1].description:]"
   ]
  },
  {
   "cell_type": "code",
   "execution_count": 54,
   "metadata": {},
   "outputs": [],
   "source": [
    "assert (len(query_with_insertions) - len(original_query)) == insertion_length,\"Wrong length of sequence inserted.\""
   ]
  },
  {
   "cell_type": "code",
   "execution_count": 55,
   "metadata": {},
   "outputs": [],
   "source": [
    "with open(query_with_insertions_file, 'w') as f:\n",
    "    f.write('>1\\n')\n",
    "    f.write(str(query_with_insertions))\n",
    "    \n",
    "f.close()"
   ]
  }
 ],
 "metadata": {
  "kernelspec": {
   "display_name": "Python 3",
   "language": "python",
   "name": "python3"
  },
  "language_info": {
   "codemirror_mode": {
    "name": "ipython",
    "version": 3
   },
   "file_extension": ".py",
   "mimetype": "text/x-python",
   "name": "python",
   "nbconvert_exporter": "python",
   "pygments_lexer": "ipython3",
   "version": "3.7.6"
  }
 },
 "nbformat": 4,
 "nbformat_minor": 4
}
