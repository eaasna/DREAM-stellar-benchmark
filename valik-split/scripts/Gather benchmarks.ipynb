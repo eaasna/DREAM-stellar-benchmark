{
 "cells": [
  {
   "cell_type": "markdown",
   "metadata": {},
   "source": [
    "# Gather run-time and memory"
   ]
  },
  {
   "cell_type": "code",
   "execution_count": 1,
   "metadata": {},
   "outputs": [],
   "source": [
    "workdir = \"4Gb\"\n",
    "\n",
    "#--------- INPUT ---------\n",
    "er = 0.05\n",
    "bins = [64]\n",
    "modes = [\"DREAM (64 bins storage)\", \"DREAM (64 bins memory)\"]\n",
    "\n",
    "#--------- OUTPUT ---------\n",
    "totals_out = \"../\" + workdir + \"_split_total.tsv\"\n",
    "storage_vs_memory = \"../\" + workdir + \"_storage_vs_memory_io.tsv\"\n",
    "\n",
    "import os\n",
    "import pandas as pd\n",
    "import numpy as np"
   ]
  },
  {
   "cell_type": "markdown",
   "metadata": {},
   "source": [
    "### /usr/bin/time run-time results (Snakemake)"
   ]
  },
  {
   "cell_type": "code",
   "execution_count": 2,
   "metadata": {},
   "outputs": [],
   "source": [
    "segment_name = \"create_seg_files\"\n",
    "build_name = \"valik_build\"\n",
    "search_name = \"valik_search\"\n",
    "parallel_name = \"dream_parallel\"\n",
    "dream_total = \"dream\"\n",
    "\n",
    "def get_filepath(name):\n",
    "    return \"../\" + workdir + \"/\" + name + \".time\"\n",
    "\n",
    "def get_time_df(path):\n",
    "    df = pd.read_csv(path, sep = \"\\t\", header = None)\n",
    "    df.columns = [\"Time (sec)\", \"Memory (KB)\", \"Exitcode\", \"Command\"]\n",
    "    \n",
    "    assert(np.unique(df[\"Exitcode\"]) == 0)\n",
    "    df = df.drop(labels = \"Exitcode\", axis = 1)\n",
    "    # check the command column to see if input/output in memory etc\n",
    "    df = df.drop(labels = \"Command\", axis = 1)\n",
    "    return df\n",
    "\n",
    "def make_pretty_units(df_orig):\n",
    "    df = df_orig.copy()\n",
    "    df[\"Time (sec)\"] = df[\"Time (sec)\"] = df[\"Time (sec)\"].astype('float64')  \n",
    "    df[\"Time (sec)\"] = pd.to_datetime(df[\"Time (sec)\"], unit='s').dt.strftime(\"%M:%S\")\n",
    "    \n",
    "    df[\"Memory (KB)\"] = np.round(df[\"Memory (KB)\"] / 10**3)\n",
    "    df.columns = [\"Time (mm:ss)\", \"Memory (MB)\"]\n",
    "    return df"
   ]
  },
  {
   "cell_type": "code",
   "execution_count": 3,
   "metadata": {},
   "outputs": [
    {
     "data": {
      "text/html": [
       "<div>\n",
       "<style scoped>\n",
       "    .dataframe tbody tr th:only-of-type {\n",
       "        vertical-align: middle;\n",
       "    }\n",
       "\n",
       "    .dataframe tbody tr th {\n",
       "        vertical-align: top;\n",
       "    }\n",
       "\n",
       "    .dataframe thead th {\n",
       "        text-align: right;\n",
       "    }\n",
       "</style>\n",
       "<table border=\"1\" class=\"dataframe\">\n",
       "  <thead>\n",
       "    <tr style=\"text-align: right;\">\n",
       "      <th></th>\n",
       "      <th>Time (mm:ss)</th>\n",
       "      <th>Memory (MB)</th>\n",
       "    </tr>\n",
       "  </thead>\n",
       "  <tbody>\n",
       "    <tr>\n",
       "      <th>DREAM (64 bins storage)</th>\n",
       "      <td>07:44</td>\n",
       "      <td>19921.0</td>\n",
       "    </tr>\n",
       "    <tr>\n",
       "      <th>DREAM (64 bins memory)</th>\n",
       "      <td>07:14</td>\n",
       "      <td>19926.0</td>\n",
       "    </tr>\n",
       "  </tbody>\n",
       "</table>\n",
       "</div>"
      ],
      "text/plain": [
       "                        Time (mm:ss)  Memory (MB)\n",
       "DREAM (64 bins storage)        07:44      19921.0\n",
       "DREAM (64 bins memory)         07:14      19926.0"
      ]
     },
     "execution_count": 3,
     "metadata": {},
     "output_type": "execute_result"
    }
   ],
   "source": [
    "dream_df = get_time_df(get_filepath(dream_total))\n",
    "dream_pretty = make_pretty_units(dream_df)\n",
    "dream_pretty.index = modes\n",
    "dream_pretty"
   ]
  },
  {
   "cell_type": "markdown",
   "metadata": {},
   "source": [
    "### Stellar runs\n",
    "\n",
    "These have no significant difference, take average."
   ]
  },
  {
   "cell_type": "code",
   "execution_count": 4,
   "metadata": {},
   "outputs": [
    {
     "data": {
      "text/html": [
       "<div>\n",
       "<style scoped>\n",
       "    .dataframe tbody tr th:only-of-type {\n",
       "        vertical-align: middle;\n",
       "    }\n",
       "\n",
       "    .dataframe tbody tr th {\n",
       "        vertical-align: top;\n",
       "    }\n",
       "\n",
       "    .dataframe thead th {\n",
       "        text-align: right;\n",
       "    }\n",
       "</style>\n",
       "<table border=\"1\" class=\"dataframe\">\n",
       "  <thead>\n",
       "    <tr style=\"text-align: right;\">\n",
       "      <th></th>\n",
       "      <th>Time (sec)</th>\n",
       "      <th>Memory (KB)</th>\n",
       "    </tr>\n",
       "  </thead>\n",
       "  <tbody>\n",
       "    <tr>\n",
       "      <th>0</th>\n",
       "      <td>3519.29</td>\n",
       "      <td>64893948</td>\n",
       "    </tr>\n",
       "  </tbody>\n",
       "</table>\n",
       "</div>"
      ],
      "text/plain": [
       "   Time (sec)  Memory (KB)\n",
       "0     3519.29     64893948"
      ]
     },
     "execution_count": 4,
     "metadata": {},
     "output_type": "execute_result"
    }
   ],
   "source": [
    "stellar_total = \"../../metagenome/\" + workdir + \"/stellar.time\"\n",
    "stellar_df = get_time_df(stellar_total)\n",
    "s_avg_t = round(np.mean(stellar_df[\"Time (sec)\"]), 2)\n",
    "s_avg_m = round(np.mean(stellar_df[\"Memory (KB)\"]))\n",
    "\n",
    "stellar_df.at[0, 'Time (sec)'] = s_avg_t\n",
    "stellar_df.at[0, 'Memory (KB)'] = s_avg_m\n",
    "stellar_df = stellar_df.drop(labels = [1, 2, 3])\n",
    "\n",
    "stellar_df"
   ]
  },
  {
   "cell_type": "code",
   "execution_count": 5,
   "metadata": {},
   "outputs": [
    {
     "data": {
      "text/html": [
       "<div>\n",
       "<style scoped>\n",
       "    .dataframe tbody tr th:only-of-type {\n",
       "        vertical-align: middle;\n",
       "    }\n",
       "\n",
       "    .dataframe tbody tr th {\n",
       "        vertical-align: top;\n",
       "    }\n",
       "\n",
       "    .dataframe thead th {\n",
       "        text-align: right;\n",
       "    }\n",
       "</style>\n",
       "<table border=\"1\" class=\"dataframe\">\n",
       "  <thead>\n",
       "    <tr style=\"text-align: right;\">\n",
       "      <th></th>\n",
       "      <th>Time (mm:ss)</th>\n",
       "      <th>Memory (MB)</th>\n",
       "    </tr>\n",
       "  </thead>\n",
       "  <tbody>\n",
       "    <tr>\n",
       "      <th>Stellar</th>\n",
       "      <td>58:39</td>\n",
       "      <td>64894.0</td>\n",
       "    </tr>\n",
       "  </tbody>\n",
       "</table>\n",
       "</div>"
      ],
      "text/plain": [
       "        Time (mm:ss)  Memory (MB)\n",
       "Stellar        58:39      64894.0"
      ]
     },
     "execution_count": 5,
     "metadata": {},
     "output_type": "execute_result"
    }
   ],
   "source": [
    "stellar_pretty = make_pretty_units(stellar_df)\n",
    "stellar_pretty.index = [\"Stellar\"]\n",
    "stellar_pretty"
   ]
  },
  {
   "cell_type": "markdown",
   "metadata": {},
   "source": [
    "### Table with Stellar and DREAM-Stellar total run-time and peak memory"
   ]
  },
  {
   "cell_type": "code",
   "execution_count": 6,
   "metadata": {},
   "outputs": [],
   "source": [
    "bin_nr_table = pd.concat([stellar_pretty, dream_pretty])\n",
    "bin_nr_table.to_csv(totals_out, sep=\"\\t\")"
   ]
  },
  {
   "cell_type": "markdown",
   "metadata": {},
   "source": [
    "### Gather /usr/bin/time run-time results for DREAM-Stellar alignment (GNU parallel)"
   ]
  },
  {
   "cell_type": "code",
   "execution_count": 7,
   "metadata": {},
   "outputs": [
    {
     "data": {
      "text/html": [
       "<div>\n",
       "<style scoped>\n",
       "    .dataframe tbody tr th:only-of-type {\n",
       "        vertical-align: middle;\n",
       "    }\n",
       "\n",
       "    .dataframe tbody tr th {\n",
       "        vertical-align: top;\n",
       "    }\n",
       "\n",
       "    .dataframe thead th {\n",
       "        text-align: right;\n",
       "    }\n",
       "</style>\n",
       "<table border=\"1\" class=\"dataframe\">\n",
       "  <thead>\n",
       "    <tr style=\"text-align: right;\">\n",
       "      <th></th>\n",
       "      <th>Time (mm:ss)</th>\n",
       "      <th>Memory (MB)</th>\n",
       "    </tr>\n",
       "  </thead>\n",
       "  <tbody>\n",
       "    <tr>\n",
       "      <th>DREAM (64 bins storage)</th>\n",
       "      <td>03:45</td>\n",
       "      <td>682.0</td>\n",
       "    </tr>\n",
       "    <tr>\n",
       "      <th>DREAM (64 bins memory)</th>\n",
       "      <td>03:42</td>\n",
       "      <td>681.0</td>\n",
       "    </tr>\n",
       "  </tbody>\n",
       "</table>\n",
       "</div>"
      ],
      "text/plain": [
       "                        Time (mm:ss)  Memory (MB)\n",
       "DREAM (64 bins storage)        03:45        682.0\n",
       "DREAM (64 bins memory)         03:42        681.0"
      ]
     },
     "execution_count": 7,
     "metadata": {},
     "output_type": "execute_result"
    }
   ],
   "source": [
    "parallel_search = get_time_df(get_filepath(parallel_name))\n",
    "parallel_pretty = make_pretty_units(parallel_search)\n",
    "parallel_pretty.index = modes\n",
    "parallel_pretty"
   ]
  },
  {
   "cell_type": "markdown",
   "metadata": {},
   "source": [
    "### Gather segment creation from Snakemake benchmark"
   ]
  },
  {
   "cell_type": "code",
   "execution_count": 8,
   "metadata": {},
   "outputs": [
    {
     "data": {
      "text/html": [
       "<div>\n",
       "<style scoped>\n",
       "    .dataframe tbody tr th:only-of-type {\n",
       "        vertical-align: middle;\n",
       "    }\n",
       "\n",
       "    .dataframe tbody tr th {\n",
       "        vertical-align: top;\n",
       "    }\n",
       "\n",
       "    .dataframe thead th {\n",
       "        text-align: right;\n",
       "    }\n",
       "</style>\n",
       "<table border=\"1\" class=\"dataframe\">\n",
       "  <thead>\n",
       "    <tr style=\"text-align: right;\">\n",
       "      <th></th>\n",
       "      <th>Time (sec)</th>\n",
       "      <th>Memory (MB)</th>\n",
       "    </tr>\n",
       "  </thead>\n",
       "  <tbody>\n",
       "    <tr>\n",
       "      <th>0</th>\n",
       "      <td>31.28</td>\n",
       "      <td>7168.54</td>\n",
       "    </tr>\n",
       "  </tbody>\n",
       "</table>\n",
       "</div>"
      ],
      "text/plain": [
       "   Time (sec)  Memory (MB)\n",
       "0       31.28      7168.54"
      ]
     },
     "execution_count": 8,
     "metadata": {},
     "output_type": "execute_result"
    }
   ],
   "source": [
    "segment_df = pd.read_csv(get_filepath(segment_name), sep='\\t')\n",
    "\n",
    "segment_df = segment_df.drop(labels = \"h:m:s\", axis = 1)\n",
    "\n",
    "# repeated the benchmark 3 times\n",
    "for column in segment_df.columns: \n",
    "    seg_avg = round(np.mean(segment_df[column]), 2)\n",
    "    segment_df.at[0, column] = seg_avg\n",
    "\n",
    "segment_df = segment_df.drop(labels = [1, 2])\n",
    "segment_df = segment_df.drop(labels = [\"max_vms\", \"max_uss\", \"max_pss\", \"io_in\", \"io_out\", \"mean_load\", \"cpu_time\"], axis = 1)\n",
    "# Snakemake benchmark output in MB \n",
    "# /usr/bin/time output in KB\n",
    "segment_df.columns = [\"Time (sec)\", \"Memory (MB)\"]\n",
    "\n",
    "segment_df"
   ]
  },
  {
   "cell_type": "code",
   "execution_count": 9,
   "metadata": {},
   "outputs": [
    {
     "data": {
      "text/html": [
       "<div>\n",
       "<style scoped>\n",
       "    .dataframe tbody tr th:only-of-type {\n",
       "        vertical-align: middle;\n",
       "    }\n",
       "\n",
       "    .dataframe tbody tr th {\n",
       "        vertical-align: top;\n",
       "    }\n",
       "\n",
       "    .dataframe thead th {\n",
       "        text-align: right;\n",
       "    }\n",
       "</style>\n",
       "<table border=\"1\" class=\"dataframe\">\n",
       "  <thead>\n",
       "    <tr style=\"text-align: right;\">\n",
       "      <th></th>\n",
       "      <th>Time (mm:ss)</th>\n",
       "      <th>Memory (MB)</th>\n",
       "    </tr>\n",
       "  </thead>\n",
       "  <tbody>\n",
       "    <tr>\n",
       "      <th>0</th>\n",
       "      <td>00:31</td>\n",
       "      <td>7168.54</td>\n",
       "    </tr>\n",
       "  </tbody>\n",
       "</table>\n",
       "</div>"
      ],
      "text/plain": [
       "  Time (mm:ss)  Memory (MB)\n",
       "0        00:31      7168.54"
      ]
     },
     "execution_count": 9,
     "metadata": {},
     "output_type": "execute_result"
    }
   ],
   "source": [
    "segment_pretty = segment_df.copy()\n",
    "segment_pretty[\"Time (sec)\"] = segment_pretty[\"Time (sec)\"] = segment_pretty[\"Time (sec)\"].astype('float64')  \n",
    "segment_pretty[\"Time (sec)\"] = pd.to_datetime(segment_pretty[\"Time (sec)\"], unit='s').dt.strftime(\"%M:%S\")\n",
    "\n",
    "segment_pretty.columns = [\"Time (mm:ss)\", \"Memory (MB)\"]\n",
    "segment_pretty"
   ]
  },
  {
   "cell_type": "markdown",
   "metadata": {},
   "source": [
    "### Table with detailed DREAM-Stellar steps\n",
    "\n",
    "Speed-up from reading intermediate files from memory"
   ]
  },
  {
   "cell_type": "code",
   "execution_count": 10,
   "metadata": {
    "scrolled": true
   },
   "outputs": [
    {
     "data": {
      "text/html": [
       "<div>\n",
       "<style scoped>\n",
       "    .dataframe tbody tr th:only-of-type {\n",
       "        vertical-align: middle;\n",
       "    }\n",
       "\n",
       "    .dataframe tbody tr th {\n",
       "        vertical-align: top;\n",
       "    }\n",
       "\n",
       "    .dataframe thead th {\n",
       "        text-align: right;\n",
       "    }\n",
       "</style>\n",
       "<table border=\"1\" class=\"dataframe\">\n",
       "  <thead>\n",
       "    <tr style=\"text-align: right;\">\n",
       "      <th></th>\n",
       "      <th>Time (mm:ss)</th>\n",
       "      <th>Memory (MB)</th>\n",
       "    </tr>\n",
       "  </thead>\n",
       "  <tbody>\n",
       "    <tr>\n",
       "      <th>DREAM (64 bins storage)</th>\n",
       "      <td>01:05</td>\n",
       "      <td>2868.0</td>\n",
       "    </tr>\n",
       "    <tr>\n",
       "      <th>DREAM (64 bins memory)</th>\n",
       "      <td>00:50</td>\n",
       "      <td>2868.0</td>\n",
       "    </tr>\n",
       "  </tbody>\n",
       "</table>\n",
       "</div>"
      ],
      "text/plain": [
       "                        Time (mm:ss)  Memory (MB)\n",
       "DREAM (64 bins storage)        01:05       2868.0\n",
       "DREAM (64 bins memory)         00:50       2868.0"
      ]
     },
     "execution_count": 10,
     "metadata": {},
     "output_type": "execute_result"
    }
   ],
   "source": [
    "build_df = get_time_df(get_filepath(build_name))\n",
    "build_pretty = make_pretty_units(build_df)\n",
    "build_pretty.index = modes\n",
    "build_pretty"
   ]
  },
  {
   "cell_type": "code",
   "execution_count": 11,
   "metadata": {},
   "outputs": [
    {
     "data": {
      "text/html": [
       "<div>\n",
       "<style scoped>\n",
       "    .dataframe tbody tr th:only-of-type {\n",
       "        vertical-align: middle;\n",
       "    }\n",
       "\n",
       "    .dataframe tbody tr th {\n",
       "        vertical-align: top;\n",
       "    }\n",
       "\n",
       "    .dataframe thead th {\n",
       "        text-align: right;\n",
       "    }\n",
       "</style>\n",
       "<table border=\"1\" class=\"dataframe\">\n",
       "  <thead>\n",
       "    <tr style=\"text-align: right;\">\n",
       "      <th></th>\n",
       "      <th>Time (mm:ss)</th>\n",
       "      <th>Memory (MB)</th>\n",
       "    </tr>\n",
       "  </thead>\n",
       "  <tbody>\n",
       "    <tr>\n",
       "      <th>DREAM (64 bins storage)</th>\n",
       "      <td>01:00</td>\n",
       "      <td>19921.0</td>\n",
       "    </tr>\n",
       "    <tr>\n",
       "      <th>DREAM (64 bins memory)</th>\n",
       "      <td>00:48</td>\n",
       "      <td>19926.0</td>\n",
       "    </tr>\n",
       "  </tbody>\n",
       "</table>\n",
       "</div>"
      ],
      "text/plain": [
       "                        Time (mm:ss)  Memory (MB)\n",
       "DREAM (64 bins storage)        01:00      19921.0\n",
       "DREAM (64 bins memory)         00:48      19926.0"
      ]
     },
     "execution_count": 11,
     "metadata": {},
     "output_type": "execute_result"
    }
   ],
   "source": [
    "search_df = get_time_df(get_filepath(search_name))\n",
    "search_pretty = make_pretty_units(search_df)\n",
    "search_pretty.index = modes\n",
    "search_pretty"
   ]
  },
  {
   "cell_type": "code",
   "execution_count": 12,
   "metadata": {},
   "outputs": [
    {
     "data": {
      "text/html": [
       "<div>\n",
       "<style scoped>\n",
       "    .dataframe tbody tr th:only-of-type {\n",
       "        vertical-align: middle;\n",
       "    }\n",
       "\n",
       "    .dataframe tbody tr th {\n",
       "        vertical-align: top;\n",
       "    }\n",
       "\n",
       "    .dataframe thead th {\n",
       "        text-align: right;\n",
       "    }\n",
       "</style>\n",
       "<table border=\"1\" class=\"dataframe\">\n",
       "  <thead>\n",
       "    <tr style=\"text-align: right;\">\n",
       "      <th></th>\n",
       "      <th>Mode</th>\n",
       "      <th>Total DREAM</th>\n",
       "      <th>Segment creation</th>\n",
       "      <th>IBF construct</th>\n",
       "      <th>IBF search</th>\n",
       "      <th>Distributed Stellar</th>\n",
       "      <th>Snakemake overhead</th>\n",
       "    </tr>\n",
       "  </thead>\n",
       "  <tbody>\n",
       "    <tr>\n",
       "      <th>0</th>\n",
       "      <td>DREAM (64 bins storage)</td>\n",
       "      <td>464.23</td>\n",
       "      <td>31.28</td>\n",
       "      <td>65.46</td>\n",
       "      <td>60.30</td>\n",
       "      <td>225.41</td>\n",
       "      <td>81.78</td>\n",
       "    </tr>\n",
       "    <tr>\n",
       "      <th>1</th>\n",
       "      <td>DREAM (64 bins memory)</td>\n",
       "      <td>434.60</td>\n",
       "      <td>31.28</td>\n",
       "      <td>50.23</td>\n",
       "      <td>48.45</td>\n",
       "      <td>222.95</td>\n",
       "      <td>81.69</td>\n",
       "    </tr>\n",
       "  </tbody>\n",
       "</table>\n",
       "</div>"
      ],
      "text/plain": [
       "                      Mode  Total DREAM  Segment creation  IBF construct  \\\n",
       "0  DREAM (64 bins storage)       464.23             31.28          65.46   \n",
       "1   DREAM (64 bins memory)       434.60             31.28          50.23   \n",
       "\n",
       "   IBF search  Distributed Stellar  Snakemake overhead  \n",
       "0       60.30               225.41               81.78  \n",
       "1       48.45               222.95               81.69  "
      ]
     },
     "execution_count": 12,
     "metadata": {},
     "output_type": "execute_result"
    }
   ],
   "source": [
    "data = {\"Mode\": modes,\n",
    "        \"Total DREAM\": list(dream_df[\"Time (sec)\"]),\n",
    "        \"Segment creation\": list(segment_df[\"Time (sec)\"]) * 2,\n",
    "        \"IBF construct\": list(build_df[\"Time (sec)\"]),\n",
    "        \"IBF search\": list(search_df[\"Time (sec)\"]),\n",
    "        \"Distributed Stellar\": list(parallel_search[\"Time (sec)\"])}\n",
    "\n",
    "dream_table = pd.DataFrame(data)\n",
    "dream_table[\"Snakemake overhead\"] = dream_table[\"Total DREAM\"] - dream_table[\"Segment creation\"] - dream_table[\"IBF construct\"] - dream_table[\"IBF search\"] - dream_table[\"Distributed Stellar\"]\n",
    "dream_table"
   ]
  },
  {
   "cell_type": "code",
   "execution_count": 13,
   "metadata": {},
   "outputs": [
    {
     "data": {
      "text/html": [
       "<div>\n",
       "<style scoped>\n",
       "    .dataframe tbody tr th:only-of-type {\n",
       "        vertical-align: middle;\n",
       "    }\n",
       "\n",
       "    .dataframe tbody tr th {\n",
       "        vertical-align: top;\n",
       "    }\n",
       "\n",
       "    .dataframe thead th {\n",
       "        text-align: right;\n",
       "    }\n",
       "</style>\n",
       "<table border=\"1\" class=\"dataframe\">\n",
       "  <thead>\n",
       "    <tr style=\"text-align: right;\">\n",
       "      <th></th>\n",
       "      <th>Mode</th>\n",
       "      <th>Total DREAM (mm:ss)</th>\n",
       "      <th>Segment creation (mm:ss)</th>\n",
       "      <th>IBF construct (mm:ss)</th>\n",
       "      <th>IBF search (mm:ss)</th>\n",
       "      <th>Distributed Stellar (mm:ss)</th>\n",
       "      <th>Snakemake overhead (mm:ss)</th>\n",
       "    </tr>\n",
       "  </thead>\n",
       "  <tbody>\n",
       "    <tr>\n",
       "      <th>0</th>\n",
       "      <td>DREAM (64 bins storage)</td>\n",
       "      <td>07:44</td>\n",
       "      <td>00:31</td>\n",
       "      <td>01:05</td>\n",
       "      <td>01:00</td>\n",
       "      <td>03:45</td>\n",
       "      <td>01:21</td>\n",
       "    </tr>\n",
       "    <tr>\n",
       "      <th>1</th>\n",
       "      <td>DREAM (64 bins memory)</td>\n",
       "      <td>07:14</td>\n",
       "      <td>00:31</td>\n",
       "      <td>00:50</td>\n",
       "      <td>00:48</td>\n",
       "      <td>03:42</td>\n",
       "      <td>01:21</td>\n",
       "    </tr>\n",
       "  </tbody>\n",
       "</table>\n",
       "</div>"
      ],
      "text/plain": [
       "                      Mode Total DREAM (mm:ss) Segment creation (mm:ss)  \\\n",
       "0  DREAM (64 bins storage)               07:44                    00:31   \n",
       "1   DREAM (64 bins memory)               07:14                    00:31   \n",
       "\n",
       "  IBF construct (mm:ss) IBF search (mm:ss) Distributed Stellar (mm:ss)  \\\n",
       "0                 01:05              01:00                       03:45   \n",
       "1                 00:50              00:48                       03:42   \n",
       "\n",
       "  Snakemake overhead (mm:ss)  \n",
       "0                      01:21  \n",
       "1                      01:21  "
      ]
     },
     "execution_count": 13,
     "metadata": {},
     "output_type": "execute_result"
    }
   ],
   "source": [
    "for column in dream_table.drop(labels=\"Mode\", axis = 1).columns:\n",
    "    dream_table[column] = dream_table[column] = dream_table[column].astype('float64')  \n",
    "    dream_table[column] = pd.to_datetime(dream_table[column], unit='s').dt.strftime(\"%M:%S\")\n",
    "    \n",
    "cols = dream_table.columns\n",
    "dream_table.columns = [col + \" (mm:ss)\" for col in cols]\n",
    "dream_table=dream_table.rename(columns = {'Mode (mm:ss)':'Mode'})\n",
    "dream_table.to_csv(storage_vs_memory, sep=\"\\t\")\n",
    "dream_table"
   ]
  }
 ],
 "metadata": {
  "kernelspec": {
   "display_name": "Python 3",
   "language": "python",
   "name": "python3"
  },
  "language_info": {
   "codemirror_mode": {
    "name": "ipython",
    "version": 3
   },
   "file_extension": ".py",
   "mimetype": "text/x-python",
   "name": "python",
   "nbconvert_exporter": "python",
   "pygments_lexer": "ipython3",
   "version": "3.7.6"
  }
 },
 "nbformat": 4,
 "nbformat_minor": 4
}
