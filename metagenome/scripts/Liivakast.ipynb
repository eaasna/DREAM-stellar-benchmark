{
 "cells": [
  {
   "cell_type": "markdown",
   "metadata": {},
   "source": [
    "## Create segment files"
   ]
  },
  {
   "cell_type": "code",
   "execution_count": 52,
   "metadata": {},
   "outputs": [],
   "source": [
    "import pandas as pd\n",
    "import sys\n",
    "import os\n",
    "from Bio import SeqIO\n",
    "\n",
    "#------------ INPUT ------------ \n",
    "ref_file = \"../100kb/ref_rep0.fasta\"\n",
    "seg_file = \"../100kb/split/ref_seg_rep0.txt\"\n",
    "rep = 0\n",
    "bins = 4\n",
    "\n",
    "#------------ OUTPUT ------------\n",
    "outfile_prefix = \"../100kb/split/rep\" + str(rep) + \"_seg\""
   ]
  },
  {
   "cell_type": "code",
   "execution_count": 53,
   "metadata": {},
   "outputs": [],
   "source": [
    "segments = pd.read_csv(seg_file, header=None, sep='\\t')\n",
    "segments.columns = [\"bin_id\", \"ref_id\", \"start\", \"length\"]\n",
    "reference_segments = list(SeqIO.parse(ref_file, \"fasta\"))"
   ]
  },
  {
   "cell_type": "code",
   "execution_count": 54,
   "metadata": {},
   "outputs": [],
   "source": [
    "# assuming a single reference sequence\n",
    "for index, row in segments.iterrows():\n",
    "    bin_id = row[\"bin_id\"]\n",
    "    ref_id = row[\"ref_id\"]\n",
    "    start = row[\"start\"]\n",
    "    length = row[\"length\"]\n",
    "    with open(outfile_prefix + str(bin_id) + \".fasta\", 'w') as f:\n",
    "        f.write('>' + str(bin_id) + '\\t' + \"ref=\" + str(ref_id) + \",start=\" + str(start) + \",length=\" + str(length) + '\\n')\n",
    "        f.write(str(reference_segments[0].seq[start:start+length]))\n",
    "    f.close()"
   ]
  },
  {
   "cell_type": "markdown",
   "metadata": {},
   "source": [
    "## Distribute queries"
   ]
  },
  {
   "cell_type": "code",
   "execution_count": 77,
   "metadata": {},
   "outputs": [],
   "source": [
    "import numpy as np\n",
    "import pandas as pd\n",
    "from Bio import SeqIO\n",
    "\n",
    "#------------ INPUT ------------ \n",
    "bins = 64\n",
    "rep = 0\n",
    "er = 0.05\n",
    "\n",
    "bin_int_list = list(range(bins))\n",
    "bin_str_list = [str(b).zfill(len(str(bins))) for b in bin_int_list]\n",
    "\n",
    "query_file = \"../10Mb/rep\" + str(rep) + \"/queries/e\" + str(er) + \".fastq\"\n",
    "search_file = \"../10Mb/rep\" + str(rep) + \"/search/e\" + str(er) + \".out\"\n",
    "\n",
    "#------------ OUTPUT ------------ \n",
    "output_prefix = \"../10Mb/rep\" + str(rep) + \"/queries/\""
   ]
  },
  {
   "cell_type": "code",
   "execution_count": 78,
   "metadata": {},
   "outputs": [
    {
     "data": {
      "text/html": [
       "<div>\n",
       "<style scoped>\n",
       "    .dataframe tbody tr th:only-of-type {\n",
       "        vertical-align: middle;\n",
       "    }\n",
       "\n",
       "    .dataframe tbody tr th {\n",
       "        vertical-align: top;\n",
       "    }\n",
       "\n",
       "    .dataframe thead th {\n",
       "        text-align: right;\n",
       "    }\n",
       "</style>\n",
       "<table border=\"1\" class=\"dataframe\">\n",
       "  <thead>\n",
       "    <tr style=\"text-align: right;\">\n",
       "      <th></th>\n",
       "      <th>read_id</th>\n",
       "      <th>bin_id</th>\n",
       "    </tr>\n",
       "  </thead>\n",
       "  <tbody>\n",
       "    <tr>\n",
       "      <th>0</th>\n",
       "      <td>0</td>\n",
       "      <td>0</td>\n",
       "    </tr>\n",
       "    <tr>\n",
       "      <th>1</th>\n",
       "      <td>0</td>\n",
       "      <td>3</td>\n",
       "    </tr>\n",
       "    <tr>\n",
       "      <th>2</th>\n",
       "      <td>0</td>\n",
       "      <td>12</td>\n",
       "    </tr>\n",
       "    <tr>\n",
       "      <th>3</th>\n",
       "      <td>1</td>\n",
       "      <td>0</td>\n",
       "    </tr>\n",
       "    <tr>\n",
       "      <th>4</th>\n",
       "      <td>2</td>\n",
       "      <td>0</td>\n",
       "    </tr>\n",
       "  </tbody>\n",
       "</table>\n",
       "</div>"
      ],
      "text/plain": [
       "   read_id  bin_id\n",
       "0        0       0\n",
       "1        0       3\n",
       "2        0      12\n",
       "3        1       0\n",
       "4        2       0"
      ]
     },
     "execution_count": 78,
     "metadata": {},
     "output_type": "execute_result"
    }
   ],
   "source": [
    "matches = pd.read_csv(search_file, sep='\\t', header=None)\n",
    "matches.columns = [\"read_id\", \"matches\"]\n",
    "matches = matches.assign(match_cols=matches['matches'].str.split(',')).explode('matches')\n",
    "matches = matches.drop([\"matches\"], axis = 1)\n",
    "matches = matches.explode(\"match_cols\")\n",
    "matches.columns = [\"read_id\", \"bin_id\"]\n",
    "matches = matches.replace(r'^\\s*$', np.nan, regex=True).dropna() # drop empty rows\n",
    "matches = matches.reset_index(drop = True)\n",
    "matches[\"bin_id\"] = pd.to_numeric(matches[\"bin_id\"])\n",
    "matches.head()"
   ]
  },
  {
   "cell_type": "code",
   "execution_count": 80,
   "metadata": {},
   "outputs": [
    {
     "name": "stdout",
     "output_type": "stream",
     "text": [
      "0\n",
      "3\n",
      "12\n",
      "0\n",
      "0\n",
      "0\n",
      "2\n",
      "0\n"
     ]
    }
   ],
   "source": [
    "# open all output bin query files \n",
    "bin_query_files = [open((output_prefix + 'bin_{}_e' + str(er) + \".fasta\").format(b), 'w') for b in bin_str_list]\n",
    "\n",
    "queries = list(SeqIO.parse(query_file, \"fastq\"))\n",
    "# the aim is to only scan over query file once\n",
    "for query in queries[0:5]:\n",
    "    read_matches = matches[matches[\"read_id\"]==int(query.name)]\n",
    "    for index, match in read_matches.iterrows():\n",
    "        print(match[\"bin_id\"])\n",
    "        SeqIO.write(query, bin_query_files[match[\"bin_id\"]], \"fasta\")\n",
    "    \n",
    "for f in bin_query_files:\n",
    "    f.close()"
   ]
  },
  {
   "cell_type": "markdown",
   "metadata": {},
   "source": [
    "## Analyse run-time table"
   ]
  },
  {
   "cell_type": "code",
   "execution_count": 178,
   "metadata": {},
   "outputs": [],
   "source": [
    "#--------- INPUT ---------\n",
    "n = 1\n",
    "error_rates = [0, 0.025, 0.05]\n",
    "\n",
    "#--------- OUTPUT ---------\n",
    "outfile = \"../10Mb/table1.tsv\"\n",
    "\n",
    "import os\n",
    "import pandas as pd\n",
    "\n",
    "# gather benchmarks for steps that are shared between all error rates\n",
    "def gather_benchmarks(tool, rep, prefixes):\n",
    "    dir_path = \"../10Mb/benchmarks/rep\" + str(rep) + \"/\" + tool\n",
    "    total_runtimes = []\n",
    "    prefix_tuple = tuple(prefixes)\n",
    "    with os.scandir(dir_path) as it:\n",
    "        for entry in it:\n",
    "            if (entry.name.endswith(prefix_tuple)) and entry.is_file():\n",
    "                #print(entry.name)\n",
    "                benchmark = pd.read_csv(entry.path, sep=\"\\t\")\n",
    "                rep_runtime = benchmark[\"s\"].iloc[0]\n",
    "                continue\n",
    "    it.close()\n",
    "    return rep_runtime\n",
    "\n",
    "# steps that are repeated for each error rate\n",
    "def gather_er_benchmarks(tool, rep, prefixes):\n",
    "    dir_path = \"../10Mb/benchmarks/rep\" + str(rep) + \"/\" + tool\n",
    "    total_runtimes = []\n",
    "    prefix_tuple = tuple(prefixes)\n",
    "    # summation of run-times from a single repetition\n",
    "    for er in error_rates:\n",
    "        rep_er_runtimes = []\n",
    "        with os.scandir(dir_path) as it:\n",
    "            for entry in it:\n",
    "                if (entry.name.endswith(prefix_tuple) or entry.name.endswith(\"e\" + str(er) + \".txt\")) and entry.is_file():\n",
    "                    benchmark = pd.read_csv(entry.path, sep=\"\\t\")\n",
    "                    rep_er_runtimes.append(benchmark[\"s\"].iloc[0])\n",
    "        it.close()\n",
    "        total_runtimes.append(sum(rep_er_runtimes))\n",
    "    return total_runtimes"
   ]
  },
  {
   "cell_type": "code",
   "execution_count": 179,
   "metadata": {},
   "outputs": [
    {
     "data": {
      "text/html": [
       "<div>\n",
       "<style scoped>\n",
       "    .dataframe tbody tr th:only-of-type {\n",
       "        vertical-align: middle;\n",
       "    }\n",
       "\n",
       "    .dataframe tbody tr th {\n",
       "        vertical-align: top;\n",
       "    }\n",
       "\n",
       "    .dataframe thead th {\n",
       "        text-align: right;\n",
       "    }\n",
       "</style>\n",
       "<table border=\"1\" class=\"dataframe\">\n",
       "  <thead>\n",
       "    <tr style=\"text-align: right;\">\n",
       "      <th></th>\n",
       "      <th>Error-rate</th>\n",
       "    </tr>\n",
       "  </thead>\n",
       "  <tbody>\n",
       "    <tr>\n",
       "      <th>0</th>\n",
       "      <td>0.000</td>\n",
       "    </tr>\n",
       "    <tr>\n",
       "      <th>1</th>\n",
       "      <td>0.025</td>\n",
       "    </tr>\n",
       "    <tr>\n",
       "      <th>2</th>\n",
       "      <td>0.050</td>\n",
       "    </tr>\n",
       "  </tbody>\n",
       "</table>\n",
       "</div>"
      ],
      "text/plain": [
       "   Error-rate\n",
       "0       0.000\n",
       "1       0.025\n",
       "2       0.050"
      ]
     },
     "execution_count": 179,
     "metadata": {},
     "output_type": "execute_result"
    }
   ],
   "source": [
    "valik_build_tuple = (\"valik\", [\"build.txt\"], \"Valik-build\")\n",
    "\n",
    "shared_tuple_list = [valik_build_tuple]\n",
    "\n",
    "valik_search_tuple = (\"valik\", [], \"Valik-search\")\n",
    "distribution_tuple = (\"distribute\", [], \"Distributing-search\")\n",
    "distributed_stellar_tuple = (\"dream_stellar\", [], \"Distributed-Stellar\")\n",
    "stellar_tuple = (\"stellar\", [], \"Stellar\")\n",
    "\n",
    "with_errors_tuple_list = [valik_search_tuple, distribution_tuple, distributed_stellar_tuple, stellar_tuple]\n",
    "\n",
    "data = {'Error-rate' : error_rates}\n",
    "df = pd.DataFrame(data)\n",
    "df"
   ]
  },
  {
   "cell_type": "code",
   "execution_count": 180,
   "metadata": {},
   "outputs": [
    {
     "data": {
      "text/html": [
       "<div>\n",
       "<style scoped>\n",
       "    .dataframe tbody tr th:only-of-type {\n",
       "        vertical-align: middle;\n",
       "    }\n",
       "\n",
       "    .dataframe tbody tr th {\n",
       "        vertical-align: top;\n",
       "    }\n",
       "\n",
       "    .dataframe thead th {\n",
       "        text-align: right;\n",
       "    }\n",
       "</style>\n",
       "<table border=\"1\" class=\"dataframe\">\n",
       "  <thead>\n",
       "    <tr style=\"text-align: right;\">\n",
       "      <th></th>\n",
       "      <th>Error-rate</th>\n",
       "      <th>Valik-build</th>\n",
       "    </tr>\n",
       "  </thead>\n",
       "  <tbody>\n",
       "    <tr>\n",
       "      <th>0</th>\n",
       "      <td>0.000</td>\n",
       "      <td>8.46</td>\n",
       "    </tr>\n",
       "    <tr>\n",
       "      <th>1</th>\n",
       "      <td>0.025</td>\n",
       "      <td>8.46</td>\n",
       "    </tr>\n",
       "    <tr>\n",
       "      <th>2</th>\n",
       "      <td>0.050</td>\n",
       "      <td>8.46</td>\n",
       "    </tr>\n",
       "  </tbody>\n",
       "</table>\n",
       "</div>"
      ],
      "text/plain": [
       "   Error-rate  Valik-build\n",
       "0       0.000         8.46\n",
       "1       0.025         8.46\n",
       "2       0.050         8.46"
      ]
     },
     "execution_count": 180,
     "metadata": {},
     "output_type": "execute_result"
    }
   ],
   "source": [
    "for method in shared_tuple_list:\n",
    "    for rep in list(range(n)):\n",
    "        runtime = gather_benchmarks(method[0], rep, method[1])\n",
    "        df[\"rep\" + str(rep)] = runtime\n",
    "    \n",
    "    col = df.loc[: , \"rep0\":\"rep\" + str(n - 1)]\n",
    "    df[method[2]] = col.mean(axis=1).round(2)\n",
    "    df = df[df.columns.drop(list(df.filter(regex='rep')))]\n",
    "    \n",
    "df"
   ]
  },
  {
   "cell_type": "code",
   "execution_count": 181,
   "metadata": {},
   "outputs": [],
   "source": [
    "for method in with_errors_tuple_list:\n",
    "    for rep in list(range(n)):\n",
    "        runtimes = gather_er_benchmarks(method[0], rep, method[1])\n",
    "        df[\"rep\" + str(rep)] = runtimes\n",
    "    \n",
    "    col = df.loc[: , \"rep0\":\"rep\" + str(n - 1)]\n",
    "    df[method[2]] = col.mean(axis=1).round(2)\n",
    "    df = df[df.columns.drop(list(df.filter(regex='rep')))]\n",
    "    \n",
    "df[stellar_tuple[2]] = round(df[stellar_tuple[2]] / 8, 2)\n",
    "df[distributed_stellar_tuple[2]] = round(df[distributed_stellar_tuple[2]] / 8, 2)"
   ]
  },
  {
   "cell_type": "code",
   "execution_count": 186,
   "metadata": {},
   "outputs": [
    {
     "data": {
      "text/html": [
       "<div>\n",
       "<style scoped>\n",
       "    .dataframe tbody tr th:only-of-type {\n",
       "        vertical-align: middle;\n",
       "    }\n",
       "\n",
       "    .dataframe tbody tr th {\n",
       "        vertical-align: top;\n",
       "    }\n",
       "\n",
       "    .dataframe thead th {\n",
       "        text-align: right;\n",
       "    }\n",
       "</style>\n",
       "<table border=\"1\" class=\"dataframe\">\n",
       "  <thead>\n",
       "    <tr style=\"text-align: right;\">\n",
       "      <th></th>\n",
       "      <th>Error-rate</th>\n",
       "      <th>Valik-build</th>\n",
       "      <th>Valik-search</th>\n",
       "      <th>Distributing-search</th>\n",
       "      <th>Distributed-Stellar</th>\n",
       "      <th>DREAM-Stellar</th>\n",
       "      <th>Stellar</th>\n",
       "    </tr>\n",
       "  </thead>\n",
       "  <tbody>\n",
       "    <tr>\n",
       "      <th>0</th>\n",
       "      <td>0.000</td>\n",
       "      <td>8.46</td>\n",
       "      <td>2.83</td>\n",
       "      <td>12.57</td>\n",
       "      <td>13.33</td>\n",
       "      <td>37.19</td>\n",
       "      <td>27.80</td>\n",
       "    </tr>\n",
       "    <tr>\n",
       "      <th>1</th>\n",
       "      <td>0.025</td>\n",
       "      <td>8.46</td>\n",
       "      <td>0.99</td>\n",
       "      <td>2.77</td>\n",
       "      <td>10.94</td>\n",
       "      <td>23.16</td>\n",
       "      <td>13.02</td>\n",
       "    </tr>\n",
       "    <tr>\n",
       "      <th>2</th>\n",
       "      <td>0.050</td>\n",
       "      <td>8.46</td>\n",
       "      <td>1.60</td>\n",
       "      <td>6.10</td>\n",
       "      <td>21.19</td>\n",
       "      <td>37.35</td>\n",
       "      <td>19.72</td>\n",
       "    </tr>\n",
       "  </tbody>\n",
       "</table>\n",
       "</div>"
      ],
      "text/plain": [
       "   Error-rate  Valik-build  Valik-search  Distributing-search  \\\n",
       "0       0.000         8.46          2.83                12.57   \n",
       "1       0.025         8.46          0.99                 2.77   \n",
       "2       0.050         8.46          1.60                 6.10   \n",
       "\n",
       "   Distributed-Stellar  DREAM-Stellar  Stellar  \n",
       "0                13.33          37.19    27.80  \n",
       "1                10.94          23.16    13.02  \n",
       "2                21.19          37.35    19.72  "
      ]
     },
     "execution_count": 186,
     "metadata": {},
     "output_type": "execute_result"
    }
   ],
   "source": [
    "df[\"DREAM-Stellar\"] = df[\"Distributing-search\"] + df[\"Valik-build\"] + df[\"Valik-search\"] + df[\"Distributed-Stellar\"]\n",
    "df[\"DREAM-Stellar\"] = df[\"DREAM-Stellar\"].round(2)\n",
    "\n",
    "# reorder columns\n",
    "cols = df.columns.tolist()\n",
    "cols = cols[:-2] + [cols[-1]] + [cols[-2]]\n",
    "df = df[cols]\n",
    "df.to_csv(outfile, sep='\\t')\n",
    "df"
   ]
  },
  {
   "cell_type": "code",
   "execution_count": null,
   "metadata": {},
   "outputs": [],
   "source": [
    "# TODO: make a table of time output\n",
    "# TODO: why is the 100Mb not working on the cluster?\n",
    "# TODO: use the new Stellar version for DREAM-Stellar and conda version for Stellar"
   ]
  }
 ],
 "metadata": {
  "kernelspec": {
   "display_name": "Python 3",
   "language": "python",
   "name": "python3"
  },
  "language_info": {
   "codemirror_mode": {
    "name": "ipython",
    "version": 3
   },
   "file_extension": ".py",
   "mimetype": "text/x-python",
   "name": "python",
   "nbconvert_exporter": "python",
   "pygments_lexer": "ipython3",
   "version": "3.7.6"
  }
 },
 "nbformat": 4,
 "nbformat_minor": 4
}
