{
 "cells": [
  {
   "cell_type": "markdown",
   "metadata": {},
   "source": [
    "# Gather run-time and memory"
   ]
  },
  {
   "cell_type": "code",
   "execution_count": 161,
   "metadata": {},
   "outputs": [],
   "source": [
    "workdir = \"4Gb\"\n",
    "\n",
    "#--------- INPUT ---------\n",
    "er = 0.05\n",
    "bins = [8, 64, 1024, 8192, 16384]\n",
    "\n",
    "#--------- OUTPUT ---------\n",
    "bin_nr_out = \"../\" + workdir + \"_metagenome_bin_nr.tsv\"\n",
    "dream_bin_nr_out = \"../\" + workdir + \"_dream_bin_nr.tsv\"\n",
    "detailed_search_out = \"../\" + workdir + \"_detailed_dream.tsv\"\n",
    "\n",
    "\n",
    "import os\n",
    "import pandas as pd\n",
    "import numpy as np"
   ]
  },
  {
   "cell_type": "markdown",
   "metadata": {},
   "source": [
    "### Valik search app internal run-time results "
   ]
  },
  {
   "cell_type": "code",
   "execution_count": 14,
   "metadata": {},
   "outputs": [
    {
     "data": {
      "text/html": [
       "<div>\n",
       "<style scoped>\n",
       "    .dataframe tbody tr th:only-of-type {\n",
       "        vertical-align: middle;\n",
       "    }\n",
       "\n",
       "    .dataframe tbody tr th {\n",
       "        vertical-align: top;\n",
       "    }\n",
       "\n",
       "    .dataframe thead th {\n",
       "        text-align: right;\n",
       "    }\n",
       "</style>\n",
       "<table border=\"1\" class=\"dataframe\">\n",
       "  <thead>\n",
       "    <tr style=\"text-align: right;\">\n",
       "      <th></th>\n",
       "      <th>IBF bins</th>\n",
       "      <th>IBF I/O</th>\n",
       "      <th>Reads I/O</th>\n",
       "      <th>Bin-queries I/O</th>\n",
       "      <th>Compute</th>\n",
       "    </tr>\n",
       "  </thead>\n",
       "  <tbody>\n",
       "    <tr>\n",
       "      <th>0</th>\n",
       "      <td>8</td>\n",
       "      <td>0.29</td>\n",
       "      <td>12.43</td>\n",
       "      <td>1.62</td>\n",
       "      <td>16.36</td>\n",
       "    </tr>\n",
       "    <tr>\n",
       "      <th>0</th>\n",
       "      <td>64</td>\n",
       "      <td>0.20</td>\n",
       "      <td>4.07</td>\n",
       "      <td>0.94</td>\n",
       "      <td>14.77</td>\n",
       "    </tr>\n",
       "    <tr>\n",
       "      <th>0</th>\n",
       "      <td>1024</td>\n",
       "      <td>0.21</td>\n",
       "      <td>10.36</td>\n",
       "      <td>0.82</td>\n",
       "      <td>38.22</td>\n",
       "    </tr>\n",
       "    <tr>\n",
       "      <th>0</th>\n",
       "      <td>8192</td>\n",
       "      <td>0.25</td>\n",
       "      <td>12.57</td>\n",
       "      <td>0.97</td>\n",
       "      <td>420.34</td>\n",
       "    </tr>\n",
       "    <tr>\n",
       "      <th>0</th>\n",
       "      <td>16384</td>\n",
       "      <td>0.21</td>\n",
       "      <td>3.99</td>\n",
       "      <td>0.94</td>\n",
       "      <td>793.45</td>\n",
       "    </tr>\n",
       "  </tbody>\n",
       "</table>\n",
       "</div>"
      ],
      "text/plain": [
       "   IBF bins  IBF I/O  Reads I/O  Bin-queries I/O  Compute\n",
       "0         8     0.29      12.43             1.62    16.36\n",
       "0        64     0.20       4.07             0.94    14.77\n",
       "0      1024     0.21      10.36             0.82    38.22\n",
       "0      8192     0.25      12.57             0.97   420.34\n",
       "0     16384     0.21       3.99             0.94   793.45"
      ]
     },
     "execution_count": 14,
     "metadata": {},
     "output_type": "execute_result"
    }
   ],
   "source": [
    "dfs = []\n",
    "for b in bins:\n",
    "    detailed_search_file = \"../\" + workdir + \"/\" + str(b) + \"/search/e\" + str(er) + \".out.time\"\n",
    "\n",
    "    df = pd.read_csv(detailed_search_file, sep='\\t')\n",
    "    df[\"IBF bins\"] = b\n",
    "    cols = df.columns.tolist()\n",
    "    cols = cols[-1:] + cols[:-1]\n",
    "    df = df[cols]\n",
    "    dfs.append(df)\n",
    "\n",
    "detailed_search = pd.concat(dfs)\n",
    "detailed_search"
   ]
  },
  {
   "cell_type": "markdown",
   "metadata": {},
   "source": [
    "### /usr/bin/time run-time results for DREAM-Stellar alignment (GNU parallel)"
   ]
  },
  {
   "cell_type": "code",
   "execution_count": 25,
   "metadata": {},
   "outputs": [],
   "source": [
    "build_name = \"valik_build\"\n",
    "search_name = \"valik_search\"\n",
    "dream_total = \"dream\"\n",
    "stellar_total = \"stellar\"\n",
    "\n",
    "def get_filepath(name):\n",
    "    return \"../\" + workdir + \"/\" + name + \".time\""
   ]
  },
  {
   "cell_type": "code",
   "execution_count": 103,
   "metadata": {},
   "outputs": [],
   "source": [
    "def get_time_df(name):\n",
    "    path = get_filepath(name)\n",
    "    df = pd.read_csv(path, sep = \"\\t\", header = None)\n",
    "    df.columns = [\"Time (sec)\", \"Memory (KB)\", \"Exitcode\", \"Command\"]\n",
    "    \n",
    "    assert(np.unique(df[\"Exitcode\"]) == 0)\n",
    "    df = df.drop(labels = \"Exitcode\", axis = 1)\n",
    "    # check the command column to see if input/output in memory etc\n",
    "    df = df.drop(labels = \"Command\", axis = 1)\n",
    "    return df\n",
    "\n",
    "def make_pretty_units(df_orig):\n",
    "    df = df_orig.copy()\n",
    "    df[\"Time (sec)\"] = df[\"Time (sec)\"] = df[\"Time (sec)\"].astype('float64')  \n",
    "    df[\"Time (sec)\"] = pd.to_datetime(df[\"Time (sec)\"], unit='s').dt.strftime(\"%M:%S\")\n",
    "    \n",
    "    df[\"Memory (KB)\"] = np.round(df[\"Memory (KB)\"] / 10**3)\n",
    "    df.columns = [\"Time (mm:ss)\", \"Memory (MB)\"]\n",
    "    return df"
   ]
  },
  {
   "cell_type": "code",
   "execution_count": 122,
   "metadata": {},
   "outputs": [
    {
     "data": {
      "text/html": [
       "<div>\n",
       "<style scoped>\n",
       "    .dataframe tbody tr th:only-of-type {\n",
       "        vertical-align: middle;\n",
       "    }\n",
       "\n",
       "    .dataframe tbody tr th {\n",
       "        vertical-align: top;\n",
       "    }\n",
       "\n",
       "    .dataframe thead th {\n",
       "        text-align: right;\n",
       "    }\n",
       "</style>\n",
       "<table border=\"1\" class=\"dataframe\">\n",
       "  <thead>\n",
       "    <tr style=\"text-align: right;\">\n",
       "      <th></th>\n",
       "      <th>Time (mm:ss)</th>\n",
       "      <th>Memory (MB)</th>\n",
       "    </tr>\n",
       "  </thead>\n",
       "  <tbody>\n",
       "    <tr>\n",
       "      <th>DREAM (8 bins)</th>\n",
       "      <td>04:44</td>\n",
       "      <td>9823.0</td>\n",
       "    </tr>\n",
       "    <tr>\n",
       "      <th>DREAM (64 bins)</th>\n",
       "      <td>01:06</td>\n",
       "      <td>9591.0</td>\n",
       "    </tr>\n",
       "    <tr>\n",
       "      <th>DREAM (1024 bins)</th>\n",
       "      <td>01:50</td>\n",
       "      <td>9791.0</td>\n",
       "    </tr>\n",
       "    <tr>\n",
       "      <th>DREAM (8192 bins)</th>\n",
       "      <td>21:10</td>\n",
       "      <td>9870.0</td>\n",
       "    </tr>\n",
       "    <tr>\n",
       "      <th>DREAM (16384 bins)</th>\n",
       "      <td>29:52</td>\n",
       "      <td>10010.0</td>\n",
       "    </tr>\n",
       "  </tbody>\n",
       "</table>\n",
       "</div>"
      ],
      "text/plain": [
       "                   Time (mm:ss)  Memory (MB)\n",
       "DREAM (8 bins)            04:44       9823.0\n",
       "DREAM (64 bins)           01:06       9591.0\n",
       "DREAM (1024 bins)         01:50       9791.0\n",
       "DREAM (8192 bins)         21:10       9870.0\n",
       "DREAM (16384 bins)        29:52      10010.0"
      ]
     },
     "execution_count": 122,
     "metadata": {},
     "output_type": "execute_result"
    }
   ],
   "source": [
    "dream_df = get_time_df(dream_total)\n",
    "dream_pretty = make_pretty_units(dream_df)\n",
    "dream_pretty.index = [\"DREAM (\" + str(b) + \" bins)\" for b in bins]\n",
    "dream_pretty"
   ]
  },
  {
   "cell_type": "markdown",
   "metadata": {},
   "source": [
    "### Stellar runs\n",
    "\n",
    "These have no significant difference, take average."
   ]
  },
  {
   "cell_type": "code",
   "execution_count": 107,
   "metadata": {},
   "outputs": [
    {
     "data": {
      "text/html": [
       "<div>\n",
       "<style scoped>\n",
       "    .dataframe tbody tr th:only-of-type {\n",
       "        vertical-align: middle;\n",
       "    }\n",
       "\n",
       "    .dataframe tbody tr th {\n",
       "        vertical-align: top;\n",
       "    }\n",
       "\n",
       "    .dataframe thead th {\n",
       "        text-align: right;\n",
       "    }\n",
       "</style>\n",
       "<table border=\"1\" class=\"dataframe\">\n",
       "  <thead>\n",
       "    <tr style=\"text-align: right;\">\n",
       "      <th></th>\n",
       "      <th>Time (sec)</th>\n",
       "      <th>Memory (KB)</th>\n",
       "    </tr>\n",
       "  </thead>\n",
       "  <tbody>\n",
       "    <tr>\n",
       "      <th>0</th>\n",
       "      <td>3519.29</td>\n",
       "      <td>64893948</td>\n",
       "    </tr>\n",
       "  </tbody>\n",
       "</table>\n",
       "</div>"
      ],
      "text/plain": [
       "   Time (sec)  Memory (KB)\n",
       "0     3519.29     64893948"
      ]
     },
     "execution_count": 107,
     "metadata": {},
     "output_type": "execute_result"
    }
   ],
   "source": [
    "stellar_df = get_time_df(stellar_total)\n",
    "s_avg_t = round(np.mean(stellar_df[\"Time (sec)\"]), 2)\n",
    "s_avg_m = round(np.mean(stellar_df[\"Memory (KB)\"]))\n",
    "\n",
    "stellar_df.at[0, 'Time (sec)'] = s_avg_t\n",
    "stellar_df.at[0, 'Memory (KB)'] = s_avg_m\n",
    "stellar_df = stellar_df.drop(labels = [1, 2, 3])\n",
    "\n",
    "stellar_df"
   ]
  },
  {
   "cell_type": "code",
   "execution_count": 155,
   "metadata": {},
   "outputs": [
    {
     "data": {
      "text/html": [
       "<div>\n",
       "<style scoped>\n",
       "    .dataframe tbody tr th:only-of-type {\n",
       "        vertical-align: middle;\n",
       "    }\n",
       "\n",
       "    .dataframe tbody tr th {\n",
       "        vertical-align: top;\n",
       "    }\n",
       "\n",
       "    .dataframe thead th {\n",
       "        text-align: right;\n",
       "    }\n",
       "</style>\n",
       "<table border=\"1\" class=\"dataframe\">\n",
       "  <thead>\n",
       "    <tr style=\"text-align: right;\">\n",
       "      <th></th>\n",
       "      <th>Time (mm:ss)</th>\n",
       "      <th>Memory (MB)</th>\n",
       "    </tr>\n",
       "  </thead>\n",
       "  <tbody>\n",
       "    <tr>\n",
       "      <th>Stellar</th>\n",
       "      <td>58:39</td>\n",
       "      <td>64894.0</td>\n",
       "    </tr>\n",
       "  </tbody>\n",
       "</table>\n",
       "</div>"
      ],
      "text/plain": [
       "        Time (mm:ss)  Memory (MB)\n",
       "Stellar        58:39      64894.0"
      ]
     },
     "execution_count": 155,
     "metadata": {},
     "output_type": "execute_result"
    }
   ],
   "source": [
    "stellar_pretty = make_pretty_units(stellar_df)\n",
    "stellar_pretty.index = [\"Stellar\"]\n",
    "stellar_pretty"
   ]
  },
  {
   "cell_type": "markdown",
   "metadata": {},
   "source": [
    "### Table with Stellar and DREAM-Stellar total run-time and peak memory"
   ]
  },
  {
   "cell_type": "code",
   "execution_count": 130,
   "metadata": {},
   "outputs": [],
   "source": [
    "bin_nr_table = pd.concat([stellar_pretty, dream_pretty])\n",
    "bin_nr_table.to_csv(bin_nr_out, sep=\"\\t\")"
   ]
  },
  {
   "cell_type": "markdown",
   "metadata": {},
   "source": [
    "### Gather /usr/bin/time run-time results for DREAM-Stellar alignment (GNU parallel)"
   ]
  },
  {
   "cell_type": "code",
   "execution_count": 132,
   "metadata": {},
   "outputs": [
    {
     "data": {
      "text/html": [
       "<div>\n",
       "<style scoped>\n",
       "    .dataframe tbody tr th:only-of-type {\n",
       "        vertical-align: middle;\n",
       "    }\n",
       "\n",
       "    .dataframe tbody tr th {\n",
       "        vertical-align: top;\n",
       "    }\n",
       "\n",
       "    .dataframe thead th {\n",
       "        text-align: right;\n",
       "    }\n",
       "</style>\n",
       "<table border=\"1\" class=\"dataframe\">\n",
       "  <thead>\n",
       "    <tr style=\"text-align: right;\">\n",
       "      <th></th>\n",
       "      <th>Time (mm:ss)</th>\n",
       "      <th>Memory (MB)</th>\n",
       "    </tr>\n",
       "  </thead>\n",
       "  <tbody>\n",
       "    <tr>\n",
       "      <th>0</th>\n",
       "      <td>00:03</td>\n",
       "      <td>821.0</td>\n",
       "    </tr>\n",
       "    <tr>\n",
       "      <th>0</th>\n",
       "      <td>00:01</td>\n",
       "      <td>103.0</td>\n",
       "    </tr>\n",
       "    <tr>\n",
       "      <th>0</th>\n",
       "      <td>00:04</td>\n",
       "      <td>18.0</td>\n",
       "    </tr>\n",
       "    <tr>\n",
       "      <th>0</th>\n",
       "      <td>07:21</td>\n",
       "      <td>18.0</td>\n",
       "    </tr>\n",
       "    <tr>\n",
       "      <th>0</th>\n",
       "      <td>00:59</td>\n",
       "      <td>18.0</td>\n",
       "    </tr>\n",
       "  </tbody>\n",
       "</table>\n",
       "</div>"
      ],
      "text/plain": [
       "  Time (mm:ss)  Memory (MB)\n",
       "0        00:03        821.0\n",
       "0        00:01        103.0\n",
       "0        00:04         18.0\n",
       "0        07:21         18.0\n",
       "0        00:59         18.0"
      ]
     },
     "execution_count": 132,
     "metadata": {},
     "output_type": "execute_result"
    }
   ],
   "source": [
    "dfs = []\n",
    "for b in bins:\n",
    "    parallel_file = \"../\" + workdir + \"/\" + \"dream_\" + str(b) + \"_parallel.time\"\n",
    "    df = pd.read_csv(parallel_file, sep='\\t', header = None)\n",
    "    dfs.append(df)\n",
    "    \n",
    "parallel_search = pd.concat(dfs)\n",
    "parallel_search.columns = [\"Time (sec)\", \"Memory (KB)\", \"Exitcode\", \"Command\"]\n",
    "parallel_search = parallel_search.drop(labels = [\"Exitcode\", \"Command\"], axis = 1)\n",
    "parallel_pretty = make_pretty_units(parallel_search)\n",
    "parallel_pretty"
   ]
  },
  {
   "cell_type": "markdown",
   "metadata": {},
   "source": [
    "### Table with detailed DREAM-Stellar steps"
   ]
  },
  {
   "cell_type": "code",
   "execution_count": 104,
   "metadata": {
    "scrolled": true
   },
   "outputs": [
    {
     "data": {
      "text/html": [
       "<div>\n",
       "<style scoped>\n",
       "    .dataframe tbody tr th:only-of-type {\n",
       "        vertical-align: middle;\n",
       "    }\n",
       "\n",
       "    .dataframe tbody tr th {\n",
       "        vertical-align: top;\n",
       "    }\n",
       "\n",
       "    .dataframe thead th {\n",
       "        text-align: right;\n",
       "    }\n",
       "</style>\n",
       "<table border=\"1\" class=\"dataframe\">\n",
       "  <thead>\n",
       "    <tr style=\"text-align: right;\">\n",
       "      <th></th>\n",
       "      <th>Time (mm:ss)</th>\n",
       "      <th>Memory (MB)</th>\n",
       "    </tr>\n",
       "  </thead>\n",
       "  <tbody>\n",
       "    <tr>\n",
       "      <th>0</th>\n",
       "      <td>04:08</td>\n",
       "      <td>617.0</td>\n",
       "    </tr>\n",
       "    <tr>\n",
       "      <th>1</th>\n",
       "      <td>00:42</td>\n",
       "      <td>654.0</td>\n",
       "    </tr>\n",
       "    <tr>\n",
       "      <th>2</th>\n",
       "      <td>00:25</td>\n",
       "      <td>549.0</td>\n",
       "    </tr>\n",
       "    <tr>\n",
       "      <th>3</th>\n",
       "      <td>00:56</td>\n",
       "      <td>537.0</td>\n",
       "    </tr>\n",
       "    <tr>\n",
       "      <th>4</th>\n",
       "      <td>01:10</td>\n",
       "      <td>538.0</td>\n",
       "    </tr>\n",
       "  </tbody>\n",
       "</table>\n",
       "</div>"
      ],
      "text/plain": [
       "  Time (mm:ss)  Memory (MB)\n",
       "0        04:08        617.0\n",
       "1        00:42        654.0\n",
       "2        00:25        549.0\n",
       "3        00:56        537.0\n",
       "4        01:10        538.0"
      ]
     },
     "execution_count": 104,
     "metadata": {},
     "output_type": "execute_result"
    }
   ],
   "source": [
    "build_df = get_time_df(build_name)\n",
    "build_pretty = make_pretty_units(build_df)\n",
    "build_pretty"
   ]
  },
  {
   "cell_type": "code",
   "execution_count": 131,
   "metadata": {},
   "outputs": [
    {
     "data": {
      "text/html": [
       "<div>\n",
       "<style scoped>\n",
       "    .dataframe tbody tr th:only-of-type {\n",
       "        vertical-align: middle;\n",
       "    }\n",
       "\n",
       "    .dataframe tbody tr th {\n",
       "        vertical-align: top;\n",
       "    }\n",
       "\n",
       "    .dataframe thead th {\n",
       "        text-align: right;\n",
       "    }\n",
       "</style>\n",
       "<table border=\"1\" class=\"dataframe\">\n",
       "  <thead>\n",
       "    <tr style=\"text-align: right;\">\n",
       "      <th></th>\n",
       "      <th>Time (mm:ss)</th>\n",
       "      <th>Memory (MB)</th>\n",
       "    </tr>\n",
       "  </thead>\n",
       "  <tbody>\n",
       "    <tr>\n",
       "      <th>0</th>\n",
       "      <td>00:29</td>\n",
       "      <td>9823.0</td>\n",
       "    </tr>\n",
       "    <tr>\n",
       "      <th>1</th>\n",
       "      <td>00:19</td>\n",
       "      <td>9591.0</td>\n",
       "    </tr>\n",
       "    <tr>\n",
       "      <th>2</th>\n",
       "      <td>00:47</td>\n",
       "      <td>9791.0</td>\n",
       "    </tr>\n",
       "    <tr>\n",
       "      <th>3</th>\n",
       "      <td>07:14</td>\n",
       "      <td>9870.0</td>\n",
       "    </tr>\n",
       "    <tr>\n",
       "      <th>4</th>\n",
       "      <td>13:20</td>\n",
       "      <td>10010.0</td>\n",
       "    </tr>\n",
       "  </tbody>\n",
       "</table>\n",
       "</div>"
      ],
      "text/plain": [
       "  Time (mm:ss)  Memory (MB)\n",
       "0        00:29       9823.0\n",
       "1        00:19       9591.0\n",
       "2        00:47       9791.0\n",
       "3        07:14       9870.0\n",
       "4        13:20      10010.0"
      ]
     },
     "execution_count": 131,
     "metadata": {},
     "output_type": "execute_result"
    }
   ],
   "source": [
    "search_df = get_time_df(search_name)\n",
    "search_pretty = make_pretty_units(search_df)\n",
    "search_pretty"
   ]
  },
  {
   "cell_type": "code",
   "execution_count": 158,
   "metadata": {},
   "outputs": [
    {
     "data": {
      "text/html": [
       "<div>\n",
       "<style scoped>\n",
       "    .dataframe tbody tr th:only-of-type {\n",
       "        vertical-align: middle;\n",
       "    }\n",
       "\n",
       "    .dataframe tbody tr th {\n",
       "        vertical-align: top;\n",
       "    }\n",
       "\n",
       "    .dataframe thead th {\n",
       "        text-align: right;\n",
       "    }\n",
       "</style>\n",
       "<table border=\"1\" class=\"dataframe\">\n",
       "  <thead>\n",
       "    <tr style=\"text-align: right;\">\n",
       "      <th></th>\n",
       "      <th>#bins</th>\n",
       "      <th>Total DREAM</th>\n",
       "      <th>IBF construct</th>\n",
       "      <th>IBF search</th>\n",
       "      <th>Distributed Stellar</th>\n",
       "      <th>Snakemake overhead</th>\n",
       "    </tr>\n",
       "  </thead>\n",
       "  <tbody>\n",
       "    <tr>\n",
       "      <th>0</th>\n",
       "      <td>8</td>\n",
       "      <td>284.07</td>\n",
       "      <td>248.38</td>\n",
       "      <td>29.51</td>\n",
       "      <td>3.68</td>\n",
       "      <td>2.50</td>\n",
       "    </tr>\n",
       "    <tr>\n",
       "      <th>1</th>\n",
       "      <td>64</td>\n",
       "      <td>66.40</td>\n",
       "      <td>42.09</td>\n",
       "      <td>19.22</td>\n",
       "      <td>1.71</td>\n",
       "      <td>3.38</td>\n",
       "    </tr>\n",
       "    <tr>\n",
       "      <th>2</th>\n",
       "      <td>1024</td>\n",
       "      <td>110.13</td>\n",
       "      <td>25.07</td>\n",
       "      <td>47.93</td>\n",
       "      <td>4.69</td>\n",
       "      <td>32.44</td>\n",
       "    </tr>\n",
       "    <tr>\n",
       "      <th>3</th>\n",
       "      <td>8192</td>\n",
       "      <td>1270.96</td>\n",
       "      <td>56.54</td>\n",
       "      <td>434.27</td>\n",
       "      <td>441.35</td>\n",
       "      <td>338.80</td>\n",
       "    </tr>\n",
       "    <tr>\n",
       "      <th>4</th>\n",
       "      <td>16384</td>\n",
       "      <td>1792.97</td>\n",
       "      <td>70.91</td>\n",
       "      <td>800.73</td>\n",
       "      <td>59.80</td>\n",
       "      <td>861.53</td>\n",
       "    </tr>\n",
       "  </tbody>\n",
       "</table>\n",
       "</div>"
      ],
      "text/plain": [
       "   #bins  Total DREAM  IBF construct  IBF search  Distributed Stellar  \\\n",
       "0      8       284.07         248.38       29.51                 3.68   \n",
       "1     64        66.40          42.09       19.22                 1.71   \n",
       "2   1024       110.13          25.07       47.93                 4.69   \n",
       "3   8192      1270.96          56.54      434.27               441.35   \n",
       "4  16384      1792.97          70.91      800.73                59.80   \n",
       "\n",
       "   Snakemake overhead  \n",
       "0                2.50  \n",
       "1                3.38  \n",
       "2               32.44  \n",
       "3              338.80  \n",
       "4              861.53  "
      ]
     },
     "execution_count": 158,
     "metadata": {},
     "output_type": "execute_result"
    }
   ],
   "source": [
    "data = {\"#bins\": bins,\n",
    "        \"Total DREAM\": list(dream_df[\"Time (sec)\"]),\n",
    "        \"IBF construct\": list(build_df[\"Time (sec)\"]),\n",
    "        \"IBF search\": list(search_df[\"Time (sec)\"]),\n",
    "        \"Distributed Stellar\": list(parallel_search[\"Time (sec)\"])}\n",
    "\n",
    "dream_table = pd.DataFrame(data)\n",
    "dream_table[\"Snakemake overhead\"] = dream_table[\"Total DREAM\"] - dream_table[\"IBF construct\"] - dream_table[\"IBF search\"] - dream_table[\"Distributed Stellar\"]\n",
    "dream_table"
   ]
  },
  {
   "cell_type": "code",
   "execution_count": 159,
   "metadata": {},
   "outputs": [
    {
     "data": {
      "text/html": [
       "<div>\n",
       "<style scoped>\n",
       "    .dataframe tbody tr th:only-of-type {\n",
       "        vertical-align: middle;\n",
       "    }\n",
       "\n",
       "    .dataframe tbody tr th {\n",
       "        vertical-align: top;\n",
       "    }\n",
       "\n",
       "    .dataframe thead th {\n",
       "        text-align: right;\n",
       "    }\n",
       "</style>\n",
       "<table border=\"1\" class=\"dataframe\">\n",
       "  <thead>\n",
       "    <tr style=\"text-align: right;\">\n",
       "      <th></th>\n",
       "      <th>#bins</th>\n",
       "      <th>Total DREAM</th>\n",
       "      <th>IBF construct</th>\n",
       "      <th>IBF search</th>\n",
       "      <th>Distributed Stellar</th>\n",
       "      <th>Snakemake overhead</th>\n",
       "    </tr>\n",
       "  </thead>\n",
       "  <tbody>\n",
       "    <tr>\n",
       "      <th>0</th>\n",
       "      <td>8</td>\n",
       "      <td>04:44</td>\n",
       "      <td>04:08</td>\n",
       "      <td>00:29</td>\n",
       "      <td>00:03</td>\n",
       "      <td>00:02</td>\n",
       "    </tr>\n",
       "    <tr>\n",
       "      <th>1</th>\n",
       "      <td>64</td>\n",
       "      <td>01:06</td>\n",
       "      <td>00:42</td>\n",
       "      <td>00:19</td>\n",
       "      <td>00:01</td>\n",
       "      <td>00:03</td>\n",
       "    </tr>\n",
       "    <tr>\n",
       "      <th>2</th>\n",
       "      <td>1024</td>\n",
       "      <td>01:50</td>\n",
       "      <td>00:25</td>\n",
       "      <td>00:47</td>\n",
       "      <td>00:04</td>\n",
       "      <td>00:32</td>\n",
       "    </tr>\n",
       "    <tr>\n",
       "      <th>3</th>\n",
       "      <td>8192</td>\n",
       "      <td>21:10</td>\n",
       "      <td>00:56</td>\n",
       "      <td>07:14</td>\n",
       "      <td>07:21</td>\n",
       "      <td>05:38</td>\n",
       "    </tr>\n",
       "    <tr>\n",
       "      <th>4</th>\n",
       "      <td>16384</td>\n",
       "      <td>29:52</td>\n",
       "      <td>01:10</td>\n",
       "      <td>13:20</td>\n",
       "      <td>00:59</td>\n",
       "      <td>14:21</td>\n",
       "    </tr>\n",
       "  </tbody>\n",
       "</table>\n",
       "</div>"
      ],
      "text/plain": [
       "   #bins Total DREAM IBF construct IBF search Distributed Stellar  \\\n",
       "0      8       04:44         04:08      00:29               00:03   \n",
       "1     64       01:06         00:42      00:19               00:01   \n",
       "2   1024       01:50         00:25      00:47               00:04   \n",
       "3   8192       21:10         00:56      07:14               07:21   \n",
       "4  16384       29:52         01:10      13:20               00:59   \n",
       "\n",
       "  Snakemake overhead  \n",
       "0              00:02  \n",
       "1              00:03  \n",
       "2              00:32  \n",
       "3              05:38  \n",
       "4              14:21  "
      ]
     },
     "execution_count": 159,
     "metadata": {},
     "output_type": "execute_result"
    }
   ],
   "source": [
    "for column in dream_table.drop(labels=\"#bins\", axis = 1).columns:\n",
    "    dream_table[column] = dream_table[column] = dream_table[column].astype('float64')  \n",
    "    dream_table[column] = pd.to_datetime(dream_table[column], unit='s').dt.strftime(\"%M:%S\")\n",
    "    \n",
    "dream_table"
   ]
  },
  {
   "cell_type": "code",
   "execution_count": 160,
   "metadata": {},
   "outputs": [],
   "source": [
    "dream_table.to_csv(dream_bin_nr_out, sep=\"\\t\")"
   ]
  }
 ],
 "metadata": {
  "kernelspec": {
   "display_name": "Python 3",
   "language": "python",
   "name": "python3"
  },
  "language_info": {
   "codemirror_mode": {
    "name": "ipython",
    "version": 3
   },
   "file_extension": ".py",
   "mimetype": "text/x-python",
   "name": "python",
   "nbconvert_exporter": "python",
   "pygments_lexer": "ipython3",
   "version": "3.7.6"
  }
 },
 "nbformat": 4,
 "nbformat_minor": 4
}
